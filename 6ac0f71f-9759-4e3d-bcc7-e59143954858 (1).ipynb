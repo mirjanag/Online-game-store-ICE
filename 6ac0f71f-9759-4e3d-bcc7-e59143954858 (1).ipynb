{
 "cells": [
  {
   "cell_type": "markdown",
   "metadata": {},
   "source": [
    "# Online Game Store ICE #\n",
    "\n",
    "<b> Project description </b>\n",
    "\n",
    "You work for the online store Ice, which sells video games all over the world. User and expert reviews, genres, platforms (e.g. Xbox or PlayStation), and historical data on game sales are available from open sources. You need to identify patterns that determine whether a game succeeds or not. This will allow you to spot potential big winners and plan advertising campaigns. In front of you is data going back to 2016. Let’s imagine that it’s December 2016 and you’re planning a campaign for 2017.\n",
    "\n",
    "### Table of content\n",
    "\n",
    "* [Data initial inspection](#first)\n",
    "* [Data preprocessing](#second)\n",
    "* [Data analysis](#three)\n",
    "* [Overall conclusion](#fourth)"
   ]
  },
  {
   "cell_type": "markdown",
   "metadata": {},
   "source": [
    " ### <a id='first'></a> Data initial inspection ###"
   ]
  },
  {
   "cell_type": "code",
   "execution_count": 56,
   "metadata": {},
   "outputs": [],
   "source": [
    "#importing relevant library and modules to be used later on\n",
    "import pandas as pd\n",
    "import numpy as np\n",
    "import matplotlib.pyplot as plt\n",
    "import plotly.express as px\n",
    "import sys\n",
    "import warnings\n",
    "if not sys.warnoptions:\n",
    "       warnings.simplefilter(\"ignore\")\n",
    "import scipy.stats as stats\n",
    "from scipy.stats import shapiro\n",
    "from scipy import stats as st\n",
    "import seaborn as sb"
   ]
  },
  {
   "cell_type": "code",
   "execution_count": 57,
   "metadata": {},
   "outputs": [
    {
     "name": "stdout",
     "output_type": "stream",
     "text": [
      "<class 'pandas.core.frame.DataFrame'>\n",
      "RangeIndex: 16715 entries, 0 to 16714\n",
      "Data columns (total 11 columns):\n",
      "Name               16713 non-null object\n",
      "Platform           16715 non-null object\n",
      "Year_of_Release    16446 non-null float64\n",
      "Genre              16713 non-null object\n",
      "NA_sales           16715 non-null float64\n",
      "EU_sales           16715 non-null float64\n",
      "JP_sales           16715 non-null float64\n",
      "Other_sales        16715 non-null float64\n",
      "Critic_Score       8137 non-null float64\n",
      "User_Score         10014 non-null object\n",
      "Rating             9949 non-null object\n",
      "dtypes: float64(6), object(5)\n",
      "memory usage: 1.4+ MB\n"
     ]
    }
   ],
   "source": [
    "#loading the data from csv file\n",
    "games = pd.read_csv('/datasets/games.csv')\n",
    "games.info()"
   ]
  },
  {
   "cell_type": "code",
   "execution_count": 58,
   "metadata": {},
   "outputs": [
    {
     "data": {
      "text/html": [
       "<div>\n",
       "<style scoped>\n",
       "    .dataframe tbody tr th:only-of-type {\n",
       "        vertical-align: middle;\n",
       "    }\n",
       "\n",
       "    .dataframe tbody tr th {\n",
       "        vertical-align: top;\n",
       "    }\n",
       "\n",
       "    .dataframe thead th {\n",
       "        text-align: right;\n",
       "    }\n",
       "</style>\n",
       "<table border=\"1\" class=\"dataframe\">\n",
       "  <thead>\n",
       "    <tr style=\"text-align: right;\">\n",
       "      <th></th>\n",
       "      <th>Name</th>\n",
       "      <th>Platform</th>\n",
       "      <th>Year_of_Release</th>\n",
       "      <th>Genre</th>\n",
       "      <th>NA_sales</th>\n",
       "      <th>EU_sales</th>\n",
       "      <th>JP_sales</th>\n",
       "      <th>Other_sales</th>\n",
       "      <th>Critic_Score</th>\n",
       "      <th>User_Score</th>\n",
       "      <th>Rating</th>\n",
       "    </tr>\n",
       "  </thead>\n",
       "  <tbody>\n",
       "    <tr>\n",
       "      <td>count</td>\n",
       "      <td>16713</td>\n",
       "      <td>16715</td>\n",
       "      <td>16446.000000</td>\n",
       "      <td>16713</td>\n",
       "      <td>16715.000000</td>\n",
       "      <td>16715.000000</td>\n",
       "      <td>16715.000000</td>\n",
       "      <td>16715.000000</td>\n",
       "      <td>8137.000000</td>\n",
       "      <td>10014</td>\n",
       "      <td>9949</td>\n",
       "    </tr>\n",
       "    <tr>\n",
       "      <td>unique</td>\n",
       "      <td>11559</td>\n",
       "      <td>31</td>\n",
       "      <td>NaN</td>\n",
       "      <td>12</td>\n",
       "      <td>NaN</td>\n",
       "      <td>NaN</td>\n",
       "      <td>NaN</td>\n",
       "      <td>NaN</td>\n",
       "      <td>NaN</td>\n",
       "      <td>96</td>\n",
       "      <td>8</td>\n",
       "    </tr>\n",
       "    <tr>\n",
       "      <td>top</td>\n",
       "      <td>Need for Speed: Most Wanted</td>\n",
       "      <td>PS2</td>\n",
       "      <td>NaN</td>\n",
       "      <td>Action</td>\n",
       "      <td>NaN</td>\n",
       "      <td>NaN</td>\n",
       "      <td>NaN</td>\n",
       "      <td>NaN</td>\n",
       "      <td>NaN</td>\n",
       "      <td>tbd</td>\n",
       "      <td>E</td>\n",
       "    </tr>\n",
       "    <tr>\n",
       "      <td>freq</td>\n",
       "      <td>12</td>\n",
       "      <td>2161</td>\n",
       "      <td>NaN</td>\n",
       "      <td>3369</td>\n",
       "      <td>NaN</td>\n",
       "      <td>NaN</td>\n",
       "      <td>NaN</td>\n",
       "      <td>NaN</td>\n",
       "      <td>NaN</td>\n",
       "      <td>2424</td>\n",
       "      <td>3990</td>\n",
       "    </tr>\n",
       "    <tr>\n",
       "      <td>mean</td>\n",
       "      <td>NaN</td>\n",
       "      <td>NaN</td>\n",
       "      <td>2006.484616</td>\n",
       "      <td>NaN</td>\n",
       "      <td>0.263377</td>\n",
       "      <td>0.145060</td>\n",
       "      <td>0.077617</td>\n",
       "      <td>0.047342</td>\n",
       "      <td>68.967679</td>\n",
       "      <td>NaN</td>\n",
       "      <td>NaN</td>\n",
       "    </tr>\n",
       "    <tr>\n",
       "      <td>std</td>\n",
       "      <td>NaN</td>\n",
       "      <td>NaN</td>\n",
       "      <td>5.877050</td>\n",
       "      <td>NaN</td>\n",
       "      <td>0.813604</td>\n",
       "      <td>0.503339</td>\n",
       "      <td>0.308853</td>\n",
       "      <td>0.186731</td>\n",
       "      <td>13.938165</td>\n",
       "      <td>NaN</td>\n",
       "      <td>NaN</td>\n",
       "    </tr>\n",
       "    <tr>\n",
       "      <td>min</td>\n",
       "      <td>NaN</td>\n",
       "      <td>NaN</td>\n",
       "      <td>1980.000000</td>\n",
       "      <td>NaN</td>\n",
       "      <td>0.000000</td>\n",
       "      <td>0.000000</td>\n",
       "      <td>0.000000</td>\n",
       "      <td>0.000000</td>\n",
       "      <td>13.000000</td>\n",
       "      <td>NaN</td>\n",
       "      <td>NaN</td>\n",
       "    </tr>\n",
       "    <tr>\n",
       "      <td>25%</td>\n",
       "      <td>NaN</td>\n",
       "      <td>NaN</td>\n",
       "      <td>2003.000000</td>\n",
       "      <td>NaN</td>\n",
       "      <td>0.000000</td>\n",
       "      <td>0.000000</td>\n",
       "      <td>0.000000</td>\n",
       "      <td>0.000000</td>\n",
       "      <td>60.000000</td>\n",
       "      <td>NaN</td>\n",
       "      <td>NaN</td>\n",
       "    </tr>\n",
       "    <tr>\n",
       "      <td>50%</td>\n",
       "      <td>NaN</td>\n",
       "      <td>NaN</td>\n",
       "      <td>2007.000000</td>\n",
       "      <td>NaN</td>\n",
       "      <td>0.080000</td>\n",
       "      <td>0.020000</td>\n",
       "      <td>0.000000</td>\n",
       "      <td>0.010000</td>\n",
       "      <td>71.000000</td>\n",
       "      <td>NaN</td>\n",
       "      <td>NaN</td>\n",
       "    </tr>\n",
       "    <tr>\n",
       "      <td>75%</td>\n",
       "      <td>NaN</td>\n",
       "      <td>NaN</td>\n",
       "      <td>2010.000000</td>\n",
       "      <td>NaN</td>\n",
       "      <td>0.240000</td>\n",
       "      <td>0.110000</td>\n",
       "      <td>0.040000</td>\n",
       "      <td>0.030000</td>\n",
       "      <td>79.000000</td>\n",
       "      <td>NaN</td>\n",
       "      <td>NaN</td>\n",
       "    </tr>\n",
       "    <tr>\n",
       "      <td>max</td>\n",
       "      <td>NaN</td>\n",
       "      <td>NaN</td>\n",
       "      <td>2016.000000</td>\n",
       "      <td>NaN</td>\n",
       "      <td>41.360000</td>\n",
       "      <td>28.960000</td>\n",
       "      <td>10.220000</td>\n",
       "      <td>10.570000</td>\n",
       "      <td>98.000000</td>\n",
       "      <td>NaN</td>\n",
       "      <td>NaN</td>\n",
       "    </tr>\n",
       "  </tbody>\n",
       "</table>\n",
       "</div>"
      ],
      "text/plain": [
       "                               Name Platform  Year_of_Release   Genre  \\\n",
       "count                         16713    16715     16446.000000   16713   \n",
       "unique                        11559       31              NaN      12   \n",
       "top     Need for Speed: Most Wanted      PS2              NaN  Action   \n",
       "freq                             12     2161              NaN    3369   \n",
       "mean                            NaN      NaN      2006.484616     NaN   \n",
       "std                             NaN      NaN         5.877050     NaN   \n",
       "min                             NaN      NaN      1980.000000     NaN   \n",
       "25%                             NaN      NaN      2003.000000     NaN   \n",
       "50%                             NaN      NaN      2007.000000     NaN   \n",
       "75%                             NaN      NaN      2010.000000     NaN   \n",
       "max                             NaN      NaN      2016.000000     NaN   \n",
       "\n",
       "            NA_sales      EU_sales      JP_sales   Other_sales  Critic_Score  \\\n",
       "count   16715.000000  16715.000000  16715.000000  16715.000000   8137.000000   \n",
       "unique           NaN           NaN           NaN           NaN           NaN   \n",
       "top              NaN           NaN           NaN           NaN           NaN   \n",
       "freq             NaN           NaN           NaN           NaN           NaN   \n",
       "mean        0.263377      0.145060      0.077617      0.047342     68.967679   \n",
       "std         0.813604      0.503339      0.308853      0.186731     13.938165   \n",
       "min         0.000000      0.000000      0.000000      0.000000     13.000000   \n",
       "25%         0.000000      0.000000      0.000000      0.000000     60.000000   \n",
       "50%         0.080000      0.020000      0.000000      0.010000     71.000000   \n",
       "75%         0.240000      0.110000      0.040000      0.030000     79.000000   \n",
       "max        41.360000     28.960000     10.220000     10.570000     98.000000   \n",
       "\n",
       "       User_Score Rating  \n",
       "count       10014   9949  \n",
       "unique         96      8  \n",
       "top           tbd      E  \n",
       "freq         2424   3990  \n",
       "mean          NaN    NaN  \n",
       "std           NaN    NaN  \n",
       "min           NaN    NaN  \n",
       "25%           NaN    NaN  \n",
       "50%           NaN    NaN  \n",
       "75%           NaN    NaN  \n",
       "max           NaN    NaN  "
      ]
     },
     "execution_count": 58,
     "metadata": {},
     "output_type": "execute_result"
    }
   ],
   "source": [
    "#getting some initial statistics\n",
    "games.describe(include = 'all')"
   ]
  },
  {
   "cell_type": "markdown",
   "metadata": {},
   "source": [
    "#### Conclusion\n",
    "We have imported the libraries and modules needed to analyse the data and opened the dataset. Our dataset has 16715 rows and 11 columns. We can see that some columns have less data than 16715, which we will need to investigate further and decide what we will do with those missing values. We can also see that many of the data (`year_of_release`, `na_sales`, `eu_sales`, `jp_sales`, `other_sales`, `critic_score`) are float, and some should be convereted to integers.\n",
    "\n",
    "We also conducted some initial statistical examination od the data. We have some mising values and odd values in the column `user_score` - data point `tbd` meaning to be determined, which can be considered as a missing value, is a top data point, thus a quite big proportion of the dataset. We need to see later how to handle this in order to produce statistically correct results. We can see that the most frequent game in our dataset is `Need for Speed: Most Wanted`, the most popular `platform` is `PS2` and `action` as `genre`."
   ]
  },
  {
   "cell_type": "markdown",
   "metadata": {},
   "source": [
    " ### <a id='second'></a>  Data preprocessing ###"
   ]
  },
  {
   "cell_type": "code",
   "execution_count": 59,
   "metadata": {},
   "outputs": [
    {
     "data": {
      "text/html": [
       "<div>\n",
       "<style scoped>\n",
       "    .dataframe tbody tr th:only-of-type {\n",
       "        vertical-align: middle;\n",
       "    }\n",
       "\n",
       "    .dataframe tbody tr th {\n",
       "        vertical-align: top;\n",
       "    }\n",
       "\n",
       "    .dataframe thead th {\n",
       "        text-align: right;\n",
       "    }\n",
       "</style>\n",
       "<table border=\"1\" class=\"dataframe\">\n",
       "  <thead>\n",
       "    <tr style=\"text-align: right;\">\n",
       "      <th></th>\n",
       "      <th>name</th>\n",
       "      <th>platform</th>\n",
       "      <th>year_of_release</th>\n",
       "      <th>genre</th>\n",
       "      <th>na_sales</th>\n",
       "      <th>eu_sales</th>\n",
       "      <th>jp_sales</th>\n",
       "      <th>other_sales</th>\n",
       "      <th>critic_score</th>\n",
       "      <th>user_score</th>\n",
       "      <th>rating</th>\n",
       "    </tr>\n",
       "  </thead>\n",
       "  <tbody>\n",
       "    <tr>\n",
       "      <td>0</td>\n",
       "      <td>Wii Sports</td>\n",
       "      <td>Wii</td>\n",
       "      <td>2006.0</td>\n",
       "      <td>Sports</td>\n",
       "      <td>41.36</td>\n",
       "      <td>28.96</td>\n",
       "      <td>3.77</td>\n",
       "      <td>8.45</td>\n",
       "      <td>76.0</td>\n",
       "      <td>8</td>\n",
       "      <td>E</td>\n",
       "    </tr>\n",
       "    <tr>\n",
       "      <td>1</td>\n",
       "      <td>Super Mario Bros.</td>\n",
       "      <td>NES</td>\n",
       "      <td>1985.0</td>\n",
       "      <td>Platform</td>\n",
       "      <td>29.08</td>\n",
       "      <td>3.58</td>\n",
       "      <td>6.81</td>\n",
       "      <td>0.77</td>\n",
       "      <td>NaN</td>\n",
       "      <td>NaN</td>\n",
       "      <td>NaN</td>\n",
       "    </tr>\n",
       "    <tr>\n",
       "      <td>2</td>\n",
       "      <td>Mario Kart Wii</td>\n",
       "      <td>Wii</td>\n",
       "      <td>2008.0</td>\n",
       "      <td>Racing</td>\n",
       "      <td>15.68</td>\n",
       "      <td>12.76</td>\n",
       "      <td>3.79</td>\n",
       "      <td>3.29</td>\n",
       "      <td>82.0</td>\n",
       "      <td>8.3</td>\n",
       "      <td>E</td>\n",
       "    </tr>\n",
       "    <tr>\n",
       "      <td>3</td>\n",
       "      <td>Wii Sports Resort</td>\n",
       "      <td>Wii</td>\n",
       "      <td>2009.0</td>\n",
       "      <td>Sports</td>\n",
       "      <td>15.61</td>\n",
       "      <td>10.93</td>\n",
       "      <td>3.28</td>\n",
       "      <td>2.95</td>\n",
       "      <td>80.0</td>\n",
       "      <td>8</td>\n",
       "      <td>E</td>\n",
       "    </tr>\n",
       "    <tr>\n",
       "      <td>4</td>\n",
       "      <td>Pokemon Red/Pokemon Blue</td>\n",
       "      <td>GB</td>\n",
       "      <td>1996.0</td>\n",
       "      <td>Role-Playing</td>\n",
       "      <td>11.27</td>\n",
       "      <td>8.89</td>\n",
       "      <td>10.22</td>\n",
       "      <td>1.00</td>\n",
       "      <td>NaN</td>\n",
       "      <td>NaN</td>\n",
       "      <td>NaN</td>\n",
       "    </tr>\n",
       "  </tbody>\n",
       "</table>\n",
       "</div>"
      ],
      "text/plain": [
       "                       name platform  year_of_release         genre  na_sales  \\\n",
       "0                Wii Sports      Wii           2006.0        Sports     41.36   \n",
       "1         Super Mario Bros.      NES           1985.0      Platform     29.08   \n",
       "2            Mario Kart Wii      Wii           2008.0        Racing     15.68   \n",
       "3         Wii Sports Resort      Wii           2009.0        Sports     15.61   \n",
       "4  Pokemon Red/Pokemon Blue       GB           1996.0  Role-Playing     11.27   \n",
       "\n",
       "   eu_sales  jp_sales  other_sales  critic_score user_score rating  \n",
       "0     28.96      3.77         8.45          76.0          8      E  \n",
       "1      3.58      6.81         0.77           NaN        NaN    NaN  \n",
       "2     12.76      3.79         3.29          82.0        8.3      E  \n",
       "3     10.93      3.28         2.95          80.0          8      E  \n",
       "4      8.89     10.22         1.00           NaN        NaN    NaN  "
      ]
     },
     "execution_count": 59,
     "metadata": {},
     "output_type": "execute_result"
    }
   ],
   "source": [
    "#Replace the column names (make them lowercase)\n",
    "games.columns = games.columns.str.lower()\n",
    "games.head()"
   ]
  },
  {
   "cell_type": "code",
   "execution_count": 60,
   "metadata": {},
   "outputs": [
    {
     "name": "stdout",
     "output_type": "stream",
     "text": [
      "name                0.01\n",
      "platform            0.00\n",
      "year_of_release     1.61\n",
      "genre               0.01\n",
      "na_sales            0.00\n",
      "eu_sales            0.00\n",
      "jp_sales            0.00\n",
      "other_sales         0.00\n",
      "critic_score       51.32\n",
      "user_score         40.09\n",
      "rating             40.48\n",
      "dtype: float64\n"
     ]
    }
   ],
   "source": [
    "# check and deal with missing values:\n",
    "# Explain why you filled in the missing values as you did or why you decided to leave them blank\n",
    "# Why do you think the values are missing? Give possible reasons\n",
    "\n",
    "percent = games.isnull().sum()*100/len(games)\n",
    "print(round(percent,2))"
   ]
  },
  {
   "cell_type": "code",
   "execution_count": 61,
   "metadata": {},
   "outputs": [],
   "source": [
    "#dropping the small proporation of missing values as it is hard to guess them \n",
    "games.dropna(subset = [\"name\", \"year_of_release\"], inplace = True)"
   ]
  },
  {
   "cell_type": "code",
   "execution_count": 62,
   "metadata": {},
   "outputs": [],
   "source": [
    "#filling the missing values\n",
    "games['genre'] = games.groupby('platform').genre.transform(lambda x: x.fillna(x.mode()[0]))"
   ]
  },
  {
   "cell_type": "code",
   "execution_count": 63,
   "metadata": {},
   "outputs": [
    {
     "data": {
      "text/plain": [
       "0.08554919384758512"
      ]
     },
     "execution_count": 63,
     "metadata": {},
     "output_type": "execute_result"
    },
    {
     "data": {
      "image/png": "[encoded data removed]",
      "text/plain": [
       "<Figure size 432x288 with 1 Axes>"
      ]
     },
     "metadata": {
      "needs_background": "light"
     },
     "output_type": "display_data"
    }
   ],
   "source": [
    "# Pay attention to the abbreviation TBD (to be determined). Specify how you intend to handle such cases.\n",
    "\n",
    "games_no_tda = games.drop(games.index[games['user_score'] == 'tbd']) #cheking for a correlation between user_score and sales to decide if we can fill in tda by combining this\n",
    "games_no_tda['user_score'] = games_no_tda['user_score'].apply(pd.to_numeric)\n",
    "games_no_tda.plot.scatter(x='user_score', y='jp_sales', title= \"Scatter plot between sales and user_score\");\n",
    "games_no_tda['user_score'].corr(games_no_tda['na_sales'])\n",
    "\n",
    "#As there is very weak correlation, maybe we should not fill the tda value"
   ]
  },
  {
   "cell_type": "code",
   "execution_count": 64,
   "metadata": {},
   "outputs": [],
   "source": [
    "#replacing the `tbd`('to be determined') meaning the minimum review of a certain product was not yet reached, with NaN\n",
    "games['user_score'].replace('tbd', np.NaN, inplace=True)\n",
    "games['user_score'] = games['user_score'].astype(float)"
   ]
  },
  {
   "cell_type": "code",
   "execution_count": 65,
   "metadata": {},
   "outputs": [],
   "source": [
    "#replacing the nan in `rating` with `undefined` as this is a categorical variable\n",
    "games['rating'] = games['rating'].replace(np.NaN, 'undefined') "
   ]
  },
  {
   "cell_type": "code",
   "execution_count": 66,
   "metadata": {},
   "outputs": [],
   "source": [
    "#Convert the data to the required types.\n",
    "#Describe the columns where the data types have been changed and why.\n",
    "games['year_of_release'] = games['year_of_release'].astype(int)"
   ]
  },
  {
   "cell_type": "code",
   "execution_count": 67,
   "metadata": {},
   "outputs": [],
   "source": [
    "#Calculate the total sales (the sum of sales in all regions) for each game and put these values in a separate column.\n",
    "games['sum_sales'] = games[['na_sales','jp_sales', 'eu_sales', 'other_sales']].sum(axis=1)"
   ]
  },
  {
   "cell_type": "markdown",
   "metadata": {},
   "source": [
    "#### Conclusion \n",
    "\n",
    "We first changed all the column labels to lower case. We then checked for the exact proportion of missing data in each of the columns. In fact, we do not know why the data in these columns is missing (we can only hypothesize), and we do not have access to a source that would allow us to replenish the data, restore it, so it is better drop missing values when there are only few, but keep rows with missing values in the data in order to not lose important information or simply replace them with indicators where appropriate. \n",
    "\n",
    "We have relatively small part of missing values in the columns `name`, `year_of_release`, and `genre`. As for columns `name` or `year_of_release` we dropped them, as it is hard to guess the correct data. \n",
    "\n",
    "We then changed the float to ineteger for the `year_of_release` column.  The reasons for those to be converetd to integers is that in these cases floating point values have no meaning as a count. Another reason to favour integers over floats is performance and efficiency. Integer arithmetic is faster. And for a given range integers consume less memory because integers don't need to represent non-integer values. and we created a new column which sumarizes the sells from different regions. \n",
    "\n",
    "The missing values in the column `genre` are filled with the mode (the value that appears the most commonly observed value in the particular column, however taking into consideration the platform or genre. This means we combined information from the columns, in order to come to better values that are not the same for each missing datapoint. \n",
    "\n",
    "However things get more complicated when we look at the three columns that refer to the reviews.  With over 40% missing values in each, we can not just fill them with means/medians as that will distore our results in the end. We did not find high dependancy of `user_cores` and `sales`, therefore we will not fill in other ways, because we face the risk of distortion of the original data. Will leave them to appear as NaNs and we will make sure to exlude those rows in some parts of the analysis. We will not delete from the dataset as we do not want to lose valuable data points. We replaced `tbd` with `Nan`, but we will exclude the missing values in this particular column when the analysis focuses on them. We also created a new sub-group called `undefined`, to where we assigned all the missing values from the `rating` column. \n",
    "\n",
    "We calculated the `sum_sales` of all regions and added this as a new column to the our dataframe. "
   ]
  },
  {
   "cell_type": "markdown",
   "metadata": {},
   "source": [
    "### <a id='three'>  Data analysis </a> ###  "
   ]
  },
  {
   "cell_type": "code",
   "execution_count": 68,
   "metadata": {},
   "outputs": [
    {
     "data": {
      "image/png": "[encoded data removed]",
      "text/plain": [
       "<Figure size 1080x576 with 1 Axes>"
      ]
     },
     "metadata": {
      "needs_background": "light"
     },
     "output_type": "display_data"
    }
   ],
   "source": [
    "#Look at how many games were released in different years. Is the data for every period significant?\n",
    "\n",
    "games_years = games.groupby('year_of_release')['name'].count().reset_index()\n",
    "\n",
    "fig,ax = plt.subplots(figsize=(15,8))\n",
    "ax.vlines(x=games_years.year_of_release, ymin=0, ymax=games_years.name, color='purple',alpha=0.7,linewidth=2)\n",
    "ax.scatter(x=games_years.year_of_release, y=games_years.name, s=75, color='black', alpha=0.7);\n",
    "\n",
    "ax.set_title(\"Lillipop Chart for Number of Games Released Across Years\", fontdict={'size':15});\n",
    "ax.set_ylabel('Number of Released Games');\n",
    "ax.set_xticks(games_years.year_of_release);\n",
    "ax.set_xticklabels(games_years.year_of_release,rotation=90, fontdict={'horizontalalignment': 'center', 'size':12});\n",
    "\n",
    "for row in games_years.itertuples():\n",
    "    ax.text(row.year_of_release, row.name+30, s=round(row.name,2))"
   ]
  },
  {
   "cell_type": "code",
   "execution_count": 69,
   "metadata": {},
   "outputs": [
    {
     "data": {
      "image/png": "[encoded data removed]",
      "text/plain": [
       "<Figure size 1008x720 with 1 Axes>"
      ]
     },
     "metadata": {
      "needs_background": "light"
     },
     "output_type": "display_data"
    }
   ],
   "source": [
    "#Look at how sales varied from platform to platform. \n",
    "games_platform = games.groupby('platform')['sum_sales'].sum().sort_values().reset_index()\n",
    "games_platform['sales_z'] = (games_platform['sum_sales'] - games_platform['sum_sales'].mean())/games_platform['sum_sales'].std() #calculating z to see if the platforms are successful. \n",
    "\n",
    "# If sales_z has a positive number then it is successful and we assign colour green to that row, otherwise red\n",
    "games_platform['colour_z'] = ['red' if x<0 else 'green' for x in games_platform['sales_z']]\n",
    "\n",
    "# graphically presenting the results \n",
    "plt.figure(figsize=(14,10))\n",
    "plt.hlines(y=games_platform.platform,xmin=0, xmax=games_platform.sales_z,color=games_platform.colour_z, alpha=0.4, linewidth=10);\n",
    "plt.xlabel('sales'); \n",
    "plt.ylabel('platform'); \n",
    "plt.title(\"Differences from Average Sales Across Platforms\");\n",
    "\n",
    "##The green ones are above the mean, and the leading by totalis PS2. "
   ]
  },
  {
   "cell_type": "code",
   "execution_count": 70,
   "metadata": {},
   "outputs": [
    {
     "data": {
      "image/png": "[encoded data removed]",
      "text/plain": [
       "<Figure size 432x288 with 1 Axes>"
      ]
     },
     "metadata": {
      "needs_background": "light"
     },
     "output_type": "display_data"
    }
   ],
   "source": [
    "#Choose the platforms with the greatest total sales and build a distribution based on data for each year. \n",
    "ps2  = games[games['platform'] == 'PS2']\n",
    "ps2.plot.scatter(x='year_of_release', y='sum_sales', title= \"Scatter plot Sales across Years\");"
   ]
  },
  {
   "cell_type": "code",
   "execution_count": 71,
   "metadata": {},
   "outputs": [
    {
     "data": {
      "image/png": "[encoded data removed]",
      "text/plain": [
       "<Figure size 1080x1080 with 2 Axes>"
      ]
     },
     "metadata": {
      "needs_background": "light"
     },
     "output_type": "display_data"
    }
   ],
   "source": [
    "#Find platforms that used to be popular but now have zero sales\n",
    "#How long does it generally take for new platforms to appear and old ones to fade?\n",
    "popular_platforms = games.groupby([\"platform\", 'year_of_release'])['sum_sales'].sum().reset_index()\n",
    "\n",
    "heatmap_popular = pd.pivot_table(popular_platforms, values='sum_sales', \n",
    "                     index=['platform'], \n",
    "                     columns='year_of_release')\n",
    "\n",
    "plt.figure(figsize=(15, 15))\n",
    "sb.heatmap(heatmap_popular, cmap=\"BuGn\");\n",
    "plt.xlabel('year'); \n",
    "plt.ylabel('platform'); \n",
    "plt.title(\"Sales across years for each platform\");"
   ]
  },
  {
   "cell_type": "code",
   "execution_count": 72,
   "metadata": {},
   "outputs": [],
   "source": [
    "#Determine what period you should take data for\n",
    "#To do so, look at your answers to the previous questions \n",
    "#The data should allow you to build a prognosis for 2017."
   ]
  },
  {
   "cell_type": "markdown",
   "metadata": {},
   "source": [
    "The first years up to 1993, the number od games released were relatively small compared to later years. The most fruitful years were between 2007 and 2011 inclusive. However, from 2012 and onwards, the number of games halfed. \n",
    "\n",
    "The platform with the biggest sale was `PS2` with total sale of 1255.77. From the scatter plot above, we saw that on this plaform `PS2`, the sales were the higest between 2001 and 2006, which some very high total sales in 2004. However, we noticed a steady decline starting from 2006 and onwards. \n",
    "\n",
    "From the heatmap we saw that te platforms that had higher sales, but which has decreased over time are: `WiiU`, `X360`, `PS`, `PS2`, `PS3` and `DS`, as judged by the darker colours in the left, that fades as moving towards the right (more recent years). \n",
    "\n",
    "If we take the different version of `PS`, then it takes about 10 years for an old platform to fade, and about 6-7 years from the existance of an older version, for a new to appear. This means that the relevance of the game falls,  on average for 3-4 years (since games quickly become obsolete, although they can continue to be sold in stores), according to the charts.\n",
    "\n",
    "Based on the heatmaps, as well as the table on sales for different years, sales has picked up after 1994, but decrased after 2011. The average life expectancy of a game is about 10 years, and we need to predict for 2017, therefore we can exlude the years before, but having in mind that number of relased games decreased after 2011, and that the relevance of the game falls according to the charts on average for 3-4 years, we can work with data from 2012 and onwards. "
   ]
  },
  {
   "cell_type": "code",
   "execution_count": 73,
   "metadata": {},
   "outputs": [
    {
     "data": {
      "text/plain": [
       "2012"
      ]
     },
     "execution_count": 73,
     "metadata": {},
     "output_type": "execute_result"
    }
   ],
   "source": [
    "#Work only with the data that you've decided is relevant. Disregard the data for previous years.\n",
    "games_2012 = games.loc[games['year_of_release'] >= 2012] #creating a new subset\n",
    "games_2012['year_of_release'].min() #checking whether we have data before 2012"
   ]
  },
  {
   "cell_type": "code",
   "execution_count": 74,
   "metadata": {},
   "outputs": [
    {
     "data": {
      "image/png": "[encoded data removed]",
      "text/plain": [
       "<Figure size 432x288 with 1 Axes>"
      ]
     },
     "metadata": {
      "needs_background": "light"
     },
     "output_type": "display_data"
    }
   ],
   "source": [
    "#Which platforms are leading in sales? \n",
    "games_2012.groupby('platform')['sum_sales'].sum().plot.bar();"
   ]
  },
  {
   "cell_type": "code",
   "execution_count": 102,
   "metadata": {},
   "outputs": [
    {
     "data": {
      "image/png": "[encoded data removed]",
      "text/plain": [
       "<Figure size 1080x1080 with 2 Axes>"
      ]
     },
     "metadata": {
      "needs_background": "light"
     },
     "output_type": "display_data"
    }
   ],
   "source": [
    "#Which ones are growing or shrinking? \n",
    "#Select several potentially profitable platforms.\n",
    "\n",
    "games_2012_grouped = games_2012.groupby(['platform', 'year_of_release'])['sum_sales'].sum().reset_index()\n",
    "pivot_2012 = pd.pivot_table(games_2012_grouped, values='sum_sales', \n",
    "                     index=['platform'], \n",
    "                     columns='year_of_release')\n",
    "\n",
    "\n",
    "plt.figure(figsize=(15, 15))\n",
    "sb.heatmap(pivot_2012, cmap=\"BuGn\");\n",
    "plt.xlabel('year'); \n",
    "plt.ylabel('platform'); \n",
    "plt.title(\"Sales across years for each popular platform\");"
   ]
  },
  {
   "cell_type": "markdown",
   "metadata": {},
   "source": [
    "From the above barchart, we can see that platforms such as `PS3`, and `WX360`, are leading in sales, but from the heatmap, also clearly shrinking. Platforms that is growing is `PS4`. Based on this potential profitable platforms would be`P4` given the fact they have not reached the max length od popularity compared to their predecessors. Also maybe `XONE` as it is the start, it may pick up later; similarly behaves `3DS`. "
   ]
  },
  {
   "cell_type": "code",
   "execution_count": 118,
   "metadata": {},
   "outputs": [
    {
     "data": {
      "image/png": "[encoded data removed]",
      "text/plain": [
       "<Figure size 432x288 with 1 Axes>"
      ]
     },
     "metadata": {
      "needs_background": "light"
     },
     "output_type": "display_data"
    }
   ],
   "source": [
    "#Build a box plot for the global sales of all games, broken down by platform. \n",
    "#Are the differences in sales significant? \n",
    "#What about average sales on various platforms? Describe your findings.\n",
    "import seaborn as sns\n",
    "\n",
    "ax = sns.boxplot(x=\"platform\", y=\"sum_sales\", data=games_2012_grouped).set_title('Global sales of all games, broken down by platform')"
   ]
  },
  {
   "cell_type": "markdown",
   "metadata": {},
   "source": [
    "From the boxplot above, we can see that are on average, there are relativley large differences in sales across platforms. Looking at the median, we can see that, the highest sales are notices for `PS3` and `PS4`. The wider ranges of sales are for `PS3` and `X360`, which also have the higest overall ranges. "
   ]
  },
  {
   "cell_type": "code",
   "execution_count": 77,
   "metadata": {},
   "outputs": [
    {
     "name": "stdout",
     "output_type": "stream",
     "text": [
      "name               0.0\n",
      "platform           0.0\n",
      "year_of_release    0.0\n",
      "genre              0.0\n",
      "na_sales           0.0\n",
      "eu_sales           0.0\n",
      "jp_sales           0.0\n",
      "other_sales        0.0\n",
      "critic_score       0.0\n",
      "user_score         0.0\n",
      "rating             0.0\n",
      "sum_sales          0.0\n",
      "dtype: float64\n"
     ]
    }
   ],
   "source": [
    "games_no_nan= games_2012.dropna()\n",
    "percent = games_no_nan.isnull().sum()*100/len(games_no_nan)\n",
    "print(round(percent,2))"
   ]
  },
  {
   "cell_type": "code",
   "execution_count": 78,
   "metadata": {},
   "outputs": [
    {
     "name": "stdout",
     "output_type": "stream",
     "text": [
      "The correlation coefficient between sales and critic score is: 0.40589480145836687\n",
      "The correlation coefficient between sales and user score is: -0.03362497596528878\n"
     ]
    },
    {
     "data": {
      "image/png": "[encoded data removed]",
      "text/plain": [
       "<Figure size 432x288 with 1 Axes>"
      ]
     },
     "metadata": {
      "needs_background": "light"
     },
     "output_type": "display_data"
    },
    {
     "data": {
      "image/png": "[encoded data removed]",
      "text/plain": [
       "<Figure size 432x288 with 1 Axes>"
      ]
     },
     "metadata": {
      "needs_background": "light"
     },
     "output_type": "display_data"
    }
   ],
   "source": [
    "#Take a look at how user and professional reviews affect sales for one popular platform (you choose)\n",
    "#Build a scatter plot and calculate the correlation between reviews and sales \n",
    "#Draw conclusions\n",
    "\n",
    "ps4_corre = games_2012[games_2012['platform'] == \"PS4\"].dropna() # taking only one popular platform\n",
    "\n",
    "#critic score\n",
    "critic_sales = ps4_corre['critic_score'].corr(ps4_corre['sum_sales'])\n",
    "print('The correlation coefficient between sales and critic score is:',  critic_sales)\n",
    "ps4_corre.plot.scatter(x='critic_score', y='sum_sales', title= \"Scatter plot between sales and critic scores\");\n",
    "\n",
    "\n",
    "#user_score\n",
    "user_sales = ps4_corre['user_score'].corr(ps4_corre['sum_sales'])\n",
    "print('The correlation coefficient between sales and user score is:',  user_sales)\n",
    "ps4_corre.plot.scatter(x='user_score', y='sum_sales', title= \"Scatter plot between sales and user scores\");"
   ]
  },
  {
   "cell_type": "markdown",
   "metadata": {},
   "source": [
    "There is a moderate positive correlation between sale and critic scores, and no linear correlation between sale and user score. It seems that professional reviews affect sales to a larger extent, compared to reviews from users. "
   ]
  },
  {
   "cell_type": "code",
   "execution_count": 79,
   "metadata": {},
   "outputs": [
    {
     "name": "stdout",
     "output_type": "stream",
     "text": [
      "The correlation coefficient between sales and critic score is: 0.3310566175801407\n",
      "The correlation coefficient between sales and user score is: 0.0032274054930356844\n"
     ]
    },
    {
     "data": {
      "image/png": "[encoded data removed]",
      "text/plain": [
       "<Figure size 432x288 with 1 Axes>"
      ]
     },
     "metadata": {
      "needs_background": "light"
     },
     "output_type": "display_data"
    },
    {
     "data": {
      "image/png": "[encoded data removed]",
      "text/plain": [
       "<Figure size 432x288 with 1 Axes>"
      ]
     },
     "metadata": {
      "needs_background": "light"
     },
     "output_type": "display_data"
    }
   ],
   "source": [
    "#Keeping your conclusions in mind, compare the sales of the same games on other platforms.\n",
    "\n",
    "games_min_2_platforms = games_2012.groupby(['name']).filter(lambda x: x['platform'].count() >= 2)  #games appear more than in one platform\n",
    "games_min_2_platforms = games_min_2_platforms.groupby(['name']).filter(lambda x: (x['platform'] == \"PS4\").sum() == 1) #games appear on platform PS4\n",
    "games_min_2_platforms.groupby([\"name\", \"platform\"]).count().reset_index()\n",
    "\n",
    "ps3_corre = games_2012[games_2012['platform'] == \"PS3\"].dropna() # taking another platform\n",
    "\n",
    "#critic score\n",
    "critic_sales = ps3_corre['critic_score'].corr(ps3_corre['sum_sales'])\n",
    "print('The correlation coefficient between sales and critic score is:',  critic_sales)\n",
    "ps3_corre.plot.scatter(x='critic_score', y='sum_sales', title= \"Scatter plot between sales and critic scores\");\n",
    "\n",
    "\n",
    "#user_score\n",
    "user_sales = ps3_corre['user_score'].corr(ps3_corre['sum_sales'])\n",
    "print('The correlation coefficient between sales and user score is:',  user_sales)\n",
    "ps3_corre.plot.scatter(x='user_score', y='sum_sales', title= \"Scatter plot between sales and user scores\");"
   ]
  },
  {
   "cell_type": "code",
   "execution_count": 80,
   "metadata": {},
   "outputs": [
    {
     "name": "stdout",
     "output_type": "stream",
     "text": [
      "The correlation coefficient between sales and critic score is: 0.36057348885073354\n",
      "The correlation coefficient between sales and user score is: -0.0020140394826897922\n"
     ]
    },
    {
     "data": {
      "image/png": "[encoded data removed]",
      "text/plain": [
       "<Figure size 432x288 with 1 Axes>"
      ]
     },
     "metadata": {
      "needs_background": "light"
     },
     "output_type": "display_data"
    },
    {
     "data": {
      "image/png": "[encoded data removed]",
      "text/plain": [
       "<Figure size 432x288 with 1 Axes>"
      ]
     },
     "metadata": {
      "needs_background": "light"
     },
     "output_type": "display_data"
    }
   ],
   "source": [
    "# taking another platform\n",
    "x360_corre = games_2012[games_2012['platform'] == \"X360\"].dropna() \n",
    "\n",
    "#critic score\n",
    "critic_sales = x360_corre['critic_score'].corr(x360_corre['sum_sales'])\n",
    "print('The correlation coefficient between sales and critic score is:',  critic_sales)\n",
    "x360_corre.plot.scatter(x='critic_score', y='sum_sales', title= \"Scatter plot between sales and critic scores\");\n",
    "\n",
    "\n",
    "#user_score\n",
    "user_sales = x360_corre['user_score'].corr(x360_corre['sum_sales'])\n",
    "print('The correlation coefficient between sales and user score is:',  user_sales)\n",
    "x360_corre.plot.scatter(x='user_score', y='sum_sales', title= \"Scatter plot between sales and user scores\");"
   ]
  },
  {
   "cell_type": "markdown",
   "metadata": {},
   "source": [
    "We found that games that appear on PS4, also appear on PS3 and X360. We calculated correlation between `user_score` and `sale` on this platforms and found almost no correlation. This is similar to the results we got for patform PS4. For all the three paltforms, we found postive moderate relationship between `critic_score and `sale`."
   ]
  },
  {
   "cell_type": "code",
   "execution_count": 127,
   "metadata": {},
   "outputs": [
    {
     "data": {
      "image/png": "[encoded data removed]",
      "text/plain": [
       "<Figure size 864x576 with 1 Axes>"
      ]
     },
     "metadata": {
      "needs_background": "light"
     },
     "output_type": "display_data"
    }
   ],
   "source": [
    "#Take a look at the general distribution of games by genre. \n",
    "#What can we say about the most profitable genres? \n",
    "#Can you generalize about genres with high and low sales?\n",
    "\n",
    "sales_genre_grouped = games_2012.groupby('genre')['sum_sales'].sum().reset_index()\n",
    "sales_genre_grouped.sort_values('sum_sales', ascending=False, inplace=True)\n",
    "\n",
    "#fig = px.box(sales_genre_grouped,x=\"genre\", y=\"sum_sales\", title = 'Global sales of all games, broken down by genre')\n",
    "#fig.show();\n",
    "\n",
    "fig_dims = (12, 8)\n",
    "fig, ax = plt.subplots(figsize=fig_dims)\n",
    "ax = sns.boxplot(x=\"genre\", y=\"sum_sales\", ax=ax, data=sales_genre_grouped).set_title('Global sales of all games, broken down by genre')"
   ]
  },
  {
   "cell_type": "markdown",
   "metadata": {},
   "source": [
    "#### Conclusion\n",
    "\n",
    "In the above analysis we checked the number of games released every year and found out that the number of games released were relatively small compared to later years. The most fruitful years have been between 2007 and 2011 inclusive.  We also found out that the `platform` with the biggest sale is `PS2`, whose sales were the highest between 2001 and 2006. We also saw that `platforms` such as `WiiU`, `X360`, `PS`, `PS2`, `PS3`, `PS4`, and `DS` used to have higher sales, which has decreased over time. We also saw  that platforms such as `PS2`, `PS3`, `Wii`, `DS`, `WX360`, are leading in sales, but also clearly shrinking. \n",
    "\n",
    "Looking at the different version of `PlayStation`, then it takes about 10 years for an old platform to fade, and about 6-7 years from the existence of an older version, for a new to appear. Based on the whole data and the fact that sales has picked up since 1994, but then slowed down after 2011, we decided to exclude the years before 2012. \n",
    "\n",
    "\n",
    "From the barchart, we can see that the `platform` that is growing is `PS4`. Based on this, potential profitable platforms would be`P4` given the fact it has not reached the max length of popularity compared to its predecessors. Also maybe `XONE` as it is the start, it may pick up later; similarly behaves `3DS`. \n",
    "\n",
    "Our analysis further found that that are relatively large differences in sales across platforms. Looking at the median, we can see that, the highest sales are notices for PS3 and PS4. The wider ranges of sales are for PS3 and X360, which also have the higest overall ranges.\n",
    "\n",
    "It seems that professional reviews affect sales to a larger extent, compared to reviews from users. There is a moderate positive correlation between sale and critic scores, and no linear correlation between `sale` and `user score`. These results hold for the three paltforms that we investigated. \n",
    "\n",
    "The top two most profitable genres are `Action`, and `Shooter`. These are games that emphasize physical and tactical challenges, precision and accuracy, spatial awareness, reflexes, and speed. On the other hand, the lowest sales were recorded for puzzle and startegy. These genres, in contrast to the top three genres, focus on skilfull logicalm startgeical and tactical thinking and planning."
   ]
  },
  {
   "cell_type": "code",
   "execution_count": 82,
   "metadata": {},
   "outputs": [
    {
     "data": {
      "image/png": "[encoded data removed]",
      "text/plain": [
       "<Figure size 720x360 with 1 Axes>"
      ]
     },
     "metadata": {
      "needs_background": "light"
     },
     "output_type": "display_data"
    },
    {
     "data": {
      "text/html": [
       "<div>\n",
       "<style scoped>\n",
       "    .dataframe tbody tr th:only-of-type {\n",
       "        vertical-align: middle;\n",
       "    }\n",
       "\n",
       "    .dataframe tbody tr th {\n",
       "        vertical-align: top;\n",
       "    }\n",
       "\n",
       "    .dataframe thead th {\n",
       "        text-align: right;\n",
       "    }\n",
       "</style>\n",
       "<table border=\"1\" class=\"dataframe\">\n",
       "  <thead>\n",
       "    <tr style=\"text-align: right;\">\n",
       "      <th></th>\n",
       "      <th>na_sales</th>\n",
       "      <th>eu_sales</th>\n",
       "      <th>jp_sales</th>\n",
       "    </tr>\n",
       "    <tr>\n",
       "      <th>platform</th>\n",
       "      <th></th>\n",
       "      <th></th>\n",
       "      <th></th>\n",
       "    </tr>\n",
       "  </thead>\n",
       "  <tbody>\n",
       "    <tr>\n",
       "      <td>X360</td>\n",
       "      <td>140.05</td>\n",
       "      <td>74.52</td>\n",
       "      <td>1.57</td>\n",
       "    </tr>\n",
       "    <tr>\n",
       "      <td>PS4</td>\n",
       "      <td>108.74</td>\n",
       "      <td>141.09</td>\n",
       "      <td>15.96</td>\n",
       "    </tr>\n",
       "    <tr>\n",
       "      <td>PS3</td>\n",
       "      <td>103.38</td>\n",
       "      <td>106.86</td>\n",
       "      <td>35.29</td>\n",
       "    </tr>\n",
       "    <tr>\n",
       "      <td>XOne</td>\n",
       "      <td>93.12</td>\n",
       "      <td>51.59</td>\n",
       "      <td>0.34</td>\n",
       "    </tr>\n",
       "    <tr>\n",
       "      <td>3DS</td>\n",
       "      <td>55.31</td>\n",
       "      <td>42.64</td>\n",
       "      <td>87.79</td>\n",
       "    </tr>\n",
       "  </tbody>\n",
       "</table>\n",
       "</div>"
      ],
      "text/plain": [
       "          na_sales  eu_sales  jp_sales\n",
       "platform                              \n",
       "X360        140.05     74.52      1.57\n",
       "PS4         108.74    141.09     15.96\n",
       "PS3         103.38    106.86     35.29\n",
       "XOne         93.12     51.59      0.34\n",
       "3DS          55.31     42.64     87.79"
      ]
     },
     "execution_count": 82,
     "metadata": {},
     "output_type": "execute_result"
    }
   ],
   "source": [
    "#Create a user profile for each region\n",
    "#For each region (NA, EU, JP), determine:\n",
    "#The top five platforms. Describe variations in their market shares from region to region.\n",
    "\n",
    "platform_region = games_2012.groupby('platform')[['na_sales', 'eu_sales', 'jp_sales']].sum()\n",
    "\n",
    "#North America\n",
    "top_na = platform_region.sort_values('na_sales', ascending=False).head(5)\n",
    "top_na.plot.bar(stacked=True, figsize=(10, 5))\n",
    "plt.show()\n",
    "\n",
    "platform_region.nlargest(5, ['na_sales'])"
   ]
  },
  {
   "cell_type": "code",
   "execution_count": 83,
   "metadata": {},
   "outputs": [
    {
     "data": {
      "image/png": "[encoded data removed]",
      "text/plain": [
       "<Figure size 720x360 with 1 Axes>"
      ]
     },
     "metadata": {
      "needs_background": "light"
     },
     "output_type": "display_data"
    },
    {
     "data": {
      "text/html": [
       "<div>\n",
       "<style scoped>\n",
       "    .dataframe tbody tr th:only-of-type {\n",
       "        vertical-align: middle;\n",
       "    }\n",
       "\n",
       "    .dataframe tbody tr th {\n",
       "        vertical-align: top;\n",
       "    }\n",
       "\n",
       "    .dataframe thead th {\n",
       "        text-align: right;\n",
       "    }\n",
       "</style>\n",
       "<table border=\"1\" class=\"dataframe\">\n",
       "  <thead>\n",
       "    <tr style=\"text-align: right;\">\n",
       "      <th></th>\n",
       "      <th>na_sales</th>\n",
       "      <th>eu_sales</th>\n",
       "      <th>jp_sales</th>\n",
       "    </tr>\n",
       "    <tr>\n",
       "      <th>platform</th>\n",
       "      <th></th>\n",
       "      <th></th>\n",
       "      <th></th>\n",
       "    </tr>\n",
       "  </thead>\n",
       "  <tbody>\n",
       "    <tr>\n",
       "      <td>PS4</td>\n",
       "      <td>108.74</td>\n",
       "      <td>141.09</td>\n",
       "      <td>15.96</td>\n",
       "    </tr>\n",
       "    <tr>\n",
       "      <td>PS3</td>\n",
       "      <td>103.38</td>\n",
       "      <td>106.86</td>\n",
       "      <td>35.29</td>\n",
       "    </tr>\n",
       "    <tr>\n",
       "      <td>X360</td>\n",
       "      <td>140.05</td>\n",
       "      <td>74.52</td>\n",
       "      <td>1.57</td>\n",
       "    </tr>\n",
       "    <tr>\n",
       "      <td>XOne</td>\n",
       "      <td>93.12</td>\n",
       "      <td>51.59</td>\n",
       "      <td>0.34</td>\n",
       "    </tr>\n",
       "    <tr>\n",
       "      <td>3DS</td>\n",
       "      <td>55.31</td>\n",
       "      <td>42.64</td>\n",
       "      <td>87.79</td>\n",
       "    </tr>\n",
       "  </tbody>\n",
       "</table>\n",
       "</div>"
      ],
      "text/plain": [
       "          na_sales  eu_sales  jp_sales\n",
       "platform                              \n",
       "PS4         108.74    141.09     15.96\n",
       "PS3         103.38    106.86     35.29\n",
       "X360        140.05     74.52      1.57\n",
       "XOne         93.12     51.59      0.34\n",
       "3DS          55.31     42.64     87.79"
      ]
     },
     "execution_count": 83,
     "metadata": {},
     "output_type": "execute_result"
    }
   ],
   "source": [
    "#Europe\n",
    "\n",
    "top_eu = platform_region.sort_values('eu_sales', ascending=False).head(5)\n",
    "top_eu.plot.bar(stacked=True, figsize=(10, 5))\n",
    "plt.show()\n",
    "\n",
    "platform_region.nlargest(5, ['eu_sales'])"
   ]
  },
  {
   "cell_type": "code",
   "execution_count": 84,
   "metadata": {},
   "outputs": [
    {
     "data": {
      "image/png": "[encoded data removed]",
      "text/plain": [
       "<Figure size 720x360 with 1 Axes>"
      ]
     },
     "metadata": {
      "needs_background": "light"
     },
     "output_type": "display_data"
    },
    {
     "data": {
      "text/html": [
       "<div>\n",
       "<style scoped>\n",
       "    .dataframe tbody tr th:only-of-type {\n",
       "        vertical-align: middle;\n",
       "    }\n",
       "\n",
       "    .dataframe tbody tr th {\n",
       "        vertical-align: top;\n",
       "    }\n",
       "\n",
       "    .dataframe thead th {\n",
       "        text-align: right;\n",
       "    }\n",
       "</style>\n",
       "<table border=\"1\" class=\"dataframe\">\n",
       "  <thead>\n",
       "    <tr style=\"text-align: right;\">\n",
       "      <th></th>\n",
       "      <th>na_sales</th>\n",
       "      <th>eu_sales</th>\n",
       "      <th>jp_sales</th>\n",
       "    </tr>\n",
       "    <tr>\n",
       "      <th>platform</th>\n",
       "      <th></th>\n",
       "      <th></th>\n",
       "      <th></th>\n",
       "    </tr>\n",
       "  </thead>\n",
       "  <tbody>\n",
       "    <tr>\n",
       "      <td>3DS</td>\n",
       "      <td>55.31</td>\n",
       "      <td>42.64</td>\n",
       "      <td>87.79</td>\n",
       "    </tr>\n",
       "    <tr>\n",
       "      <td>PS3</td>\n",
       "      <td>103.38</td>\n",
       "      <td>106.86</td>\n",
       "      <td>35.29</td>\n",
       "    </tr>\n",
       "    <tr>\n",
       "      <td>PSV</td>\n",
       "      <td>10.98</td>\n",
       "      <td>11.36</td>\n",
       "      <td>21.04</td>\n",
       "    </tr>\n",
       "    <tr>\n",
       "      <td>PS4</td>\n",
       "      <td>108.74</td>\n",
       "      <td>141.09</td>\n",
       "      <td>15.96</td>\n",
       "    </tr>\n",
       "    <tr>\n",
       "      <td>WiiU</td>\n",
       "      <td>38.10</td>\n",
       "      <td>25.13</td>\n",
       "      <td>13.01</td>\n",
       "    </tr>\n",
       "  </tbody>\n",
       "</table>\n",
       "</div>"
      ],
      "text/plain": [
       "          na_sales  eu_sales  jp_sales\n",
       "platform                              \n",
       "3DS          55.31     42.64     87.79\n",
       "PS3         103.38    106.86     35.29\n",
       "PSV          10.98     11.36     21.04\n",
       "PS4         108.74    141.09     15.96\n",
       "WiiU         38.10     25.13     13.01"
      ]
     },
     "execution_count": 84,
     "metadata": {},
     "output_type": "execute_result"
    }
   ],
   "source": [
    "#Japan\n",
    "\n",
    "top_jp = platform_region.sort_values('jp_sales', ascending=False).head(5)\n",
    "top_jp.plot.bar(stacked=True, figsize=(10, 5))\n",
    "plt.show()\n",
    "\n",
    "\n",
    "platform_region.nlargest(5, ['jp_sales'])"
   ]
  },
  {
   "cell_type": "markdown",
   "metadata": {},
   "source": [
    "According to the tables and stacked barc charts above, platform, `X360` has the higest sale in North America, it appears as third in the EU region, while it does not appear in the top five in Japan. `PS4`is the top sales performer in Europe, and appareas as second in North America, and fourth in Japan. The top in Japan is `3DS` which apeears as fifth in North America and Europe."
   ]
  },
  {
   "cell_type": "code",
   "execution_count": 85,
   "metadata": {},
   "outputs": [
    {
     "data": {
      "image/png": "[encoded data removed]",
      "text/plain": [
       "<Figure size 720x360 with 1 Axes>"
      ]
     },
     "metadata": {
      "needs_background": "light"
     },
     "output_type": "display_data"
    },
    {
     "data": {
      "text/html": [
       "<div>\n",
       "<style scoped>\n",
       "    .dataframe tbody tr th:only-of-type {\n",
       "        vertical-align: middle;\n",
       "    }\n",
       "\n",
       "    .dataframe tbody tr th {\n",
       "        vertical-align: top;\n",
       "    }\n",
       "\n",
       "    .dataframe thead th {\n",
       "        text-align: right;\n",
       "    }\n",
       "</style>\n",
       "<table border=\"1\" class=\"dataframe\">\n",
       "  <thead>\n",
       "    <tr style=\"text-align: right;\">\n",
       "      <th></th>\n",
       "      <th>na_sales</th>\n",
       "      <th>eu_sales</th>\n",
       "      <th>jp_sales</th>\n",
       "    </tr>\n",
       "    <tr>\n",
       "      <th>genre</th>\n",
       "      <th></th>\n",
       "      <th></th>\n",
       "      <th></th>\n",
       "    </tr>\n",
       "  </thead>\n",
       "  <tbody>\n",
       "    <tr>\n",
       "      <td>Action</td>\n",
       "      <td>177.84</td>\n",
       "      <td>159.34</td>\n",
       "      <td>52.80</td>\n",
       "    </tr>\n",
       "    <tr>\n",
       "      <td>Shooter</td>\n",
       "      <td>144.77</td>\n",
       "      <td>113.47</td>\n",
       "      <td>9.23</td>\n",
       "    </tr>\n",
       "    <tr>\n",
       "      <td>Sports</td>\n",
       "      <td>81.53</td>\n",
       "      <td>69.09</td>\n",
       "      <td>8.01</td>\n",
       "    </tr>\n",
       "    <tr>\n",
       "      <td>Role-Playing</td>\n",
       "      <td>64.00</td>\n",
       "      <td>48.53</td>\n",
       "      <td>65.44</td>\n",
       "    </tr>\n",
       "    <tr>\n",
       "      <td>Misc</td>\n",
       "      <td>38.19</td>\n",
       "      <td>26.32</td>\n",
       "      <td>12.86</td>\n",
       "    </tr>\n",
       "  </tbody>\n",
       "</table>\n",
       "</div>"
      ],
      "text/plain": [
       "              na_sales  eu_sales  jp_sales\n",
       "genre                                     \n",
       "Action          177.84    159.34     52.80\n",
       "Shooter         144.77    113.47      9.23\n",
       "Sports           81.53     69.09      8.01\n",
       "Role-Playing     64.00     48.53     65.44\n",
       "Misc             38.19     26.32     12.86"
      ]
     },
     "execution_count": 85,
     "metadata": {},
     "output_type": "execute_result"
    }
   ],
   "source": [
    "#For each region (NA, EU, JP) determine the top five genres. Explain the difference.\n",
    "\n",
    "genre_region = games_2012.groupby('genre')[['na_sales', 'eu_sales', 'jp_sales']].sum()\n",
    "\n",
    "#North America\n",
    "top_genre_na = genre_region.sort_values('na_sales', ascending=False).head(5)\n",
    "top_genre_na.plot.bar(stacked=True, figsize=(10, 5))\n",
    "plt.show()\n",
    "\n",
    "genre_region.nlargest(5, ['na_sales'])"
   ]
  },
  {
   "cell_type": "code",
   "execution_count": 86,
   "metadata": {},
   "outputs": [
    {
     "data": {
      "image/png": "[encoded data removed]",
      "text/plain": [
       "<Figure size 720x360 with 1 Axes>"
      ]
     },
     "metadata": {
      "needs_background": "light"
     },
     "output_type": "display_data"
    },
    {
     "data": {
      "text/html": [
       "<div>\n",
       "<style scoped>\n",
       "    .dataframe tbody tr th:only-of-type {\n",
       "        vertical-align: middle;\n",
       "    }\n",
       "\n",
       "    .dataframe tbody tr th {\n",
       "        vertical-align: top;\n",
       "    }\n",
       "\n",
       "    .dataframe thead th {\n",
       "        text-align: right;\n",
       "    }\n",
       "</style>\n",
       "<table border=\"1\" class=\"dataframe\">\n",
       "  <thead>\n",
       "    <tr style=\"text-align: right;\">\n",
       "      <th></th>\n",
       "      <th>na_sales</th>\n",
       "      <th>eu_sales</th>\n",
       "      <th>jp_sales</th>\n",
       "    </tr>\n",
       "    <tr>\n",
       "      <th>genre</th>\n",
       "      <th></th>\n",
       "      <th></th>\n",
       "      <th></th>\n",
       "    </tr>\n",
       "  </thead>\n",
       "  <tbody>\n",
       "    <tr>\n",
       "      <td>Action</td>\n",
       "      <td>177.84</td>\n",
       "      <td>159.34</td>\n",
       "      <td>52.80</td>\n",
       "    </tr>\n",
       "    <tr>\n",
       "      <td>Shooter</td>\n",
       "      <td>144.77</td>\n",
       "      <td>113.47</td>\n",
       "      <td>9.23</td>\n",
       "    </tr>\n",
       "    <tr>\n",
       "      <td>Sports</td>\n",
       "      <td>81.53</td>\n",
       "      <td>69.09</td>\n",
       "      <td>8.01</td>\n",
       "    </tr>\n",
       "    <tr>\n",
       "      <td>Role-Playing</td>\n",
       "      <td>64.00</td>\n",
       "      <td>48.53</td>\n",
       "      <td>65.44</td>\n",
       "    </tr>\n",
       "    <tr>\n",
       "      <td>Racing</td>\n",
       "      <td>17.22</td>\n",
       "      <td>27.29</td>\n",
       "      <td>2.50</td>\n",
       "    </tr>\n",
       "  </tbody>\n",
       "</table>\n",
       "</div>"
      ],
      "text/plain": [
       "              na_sales  eu_sales  jp_sales\n",
       "genre                                     \n",
       "Action          177.84    159.34     52.80\n",
       "Shooter         144.77    113.47      9.23\n",
       "Sports           81.53     69.09      8.01\n",
       "Role-Playing     64.00     48.53     65.44\n",
       "Racing           17.22     27.29      2.50"
      ]
     },
     "execution_count": 86,
     "metadata": {},
     "output_type": "execute_result"
    }
   ],
   "source": [
    "#Europe\n",
    "top_genre_eu = genre_region.sort_values('eu_sales', ascending=False).head(5)\n",
    "top_genre_eu.plot.bar(stacked=True, figsize=(10, 5))\n",
    "plt.show()\n",
    "\n",
    "genre_region.nlargest(5, ['eu_sales'])"
   ]
  },
  {
   "cell_type": "code",
   "execution_count": 87,
   "metadata": {},
   "outputs": [
    {
     "data": {
      "image/png": "[encoded data removed]",
      "text/plain": [
       "<Figure size 720x360 with 1 Axes>"
      ]
     },
     "metadata": {
      "needs_background": "light"
     },
     "output_type": "display_data"
    },
    {
     "data": {
      "text/html": [
       "<div>\n",
       "<style scoped>\n",
       "    .dataframe tbody tr th:only-of-type {\n",
       "        vertical-align: middle;\n",
       "    }\n",
       "\n",
       "    .dataframe tbody tr th {\n",
       "        vertical-align: top;\n",
       "    }\n",
       "\n",
       "    .dataframe thead th {\n",
       "        text-align: right;\n",
       "    }\n",
       "</style>\n",
       "<table border=\"1\" class=\"dataframe\">\n",
       "  <thead>\n",
       "    <tr style=\"text-align: right;\">\n",
       "      <th></th>\n",
       "      <th>na_sales</th>\n",
       "      <th>eu_sales</th>\n",
       "      <th>jp_sales</th>\n",
       "    </tr>\n",
       "    <tr>\n",
       "      <th>genre</th>\n",
       "      <th></th>\n",
       "      <th></th>\n",
       "      <th></th>\n",
       "    </tr>\n",
       "  </thead>\n",
       "  <tbody>\n",
       "    <tr>\n",
       "      <td>Role-Playing</td>\n",
       "      <td>64.00</td>\n",
       "      <td>48.53</td>\n",
       "      <td>65.44</td>\n",
       "    </tr>\n",
       "    <tr>\n",
       "      <td>Action</td>\n",
       "      <td>177.84</td>\n",
       "      <td>159.34</td>\n",
       "      <td>52.80</td>\n",
       "    </tr>\n",
       "    <tr>\n",
       "      <td>Misc</td>\n",
       "      <td>38.19</td>\n",
       "      <td>26.32</td>\n",
       "      <td>12.86</td>\n",
       "    </tr>\n",
       "    <tr>\n",
       "      <td>Simulation</td>\n",
       "      <td>7.97</td>\n",
       "      <td>14.55</td>\n",
       "      <td>10.41</td>\n",
       "    </tr>\n",
       "    <tr>\n",
       "      <td>Fighting</td>\n",
       "      <td>19.79</td>\n",
       "      <td>10.79</td>\n",
       "      <td>9.44</td>\n",
       "    </tr>\n",
       "  </tbody>\n",
       "</table>\n",
       "</div>"
      ],
      "text/plain": [
       "              na_sales  eu_sales  jp_sales\n",
       "genre                                     \n",
       "Role-Playing     64.00     48.53     65.44\n",
       "Action          177.84    159.34     52.80\n",
       "Misc             38.19     26.32     12.86\n",
       "Simulation        7.97     14.55     10.41\n",
       "Fighting         19.79     10.79      9.44"
      ]
     },
     "execution_count": 87,
     "metadata": {},
     "output_type": "execute_result"
    }
   ],
   "source": [
    "#Japan\n",
    "top_genre_jp = genre_region.sort_values('jp_sales', ascending=False).head(5)\n",
    "top_genre_jp.plot.bar(stacked=True, figsize=(10, 5))\n",
    "plt.show()\n",
    "\n",
    "\n",
    "genre_region.nlargest(5, ['jp_sales'])"
   ]
  },
  {
   "cell_type": "markdown",
   "metadata": {},
   "source": [
    "From the three tables below, we can see that in terms of genre, the top five in Europe and North America are pretty similar. The only diffeence is that `racing` apears as 5th in Europe, while the 5th in North America is `misc`. In Japan however, the top genre is `role-playing` which appears as 4th in the two other regions. The top two genre (`Action`) in North America and Europe, also appear in Japan as 2nd. "
   ]
  },
  {
   "cell_type": "code",
   "execution_count": 88,
   "metadata": {},
   "outputs": [
    {
     "data": {
      "image/png": "[encoded data removed]",
      "text/plain": [
       "<Figure size 720x360 with 1 Axes>"
      ]
     },
     "metadata": {
      "needs_background": "light"
     },
     "output_type": "display_data"
    },
    {
     "data": {
      "text/html": [
       "<div>\n",
       "<style scoped>\n",
       "    .dataframe tbody tr th:only-of-type {\n",
       "        vertical-align: middle;\n",
       "    }\n",
       "\n",
       "    .dataframe tbody tr th {\n",
       "        vertical-align: top;\n",
       "    }\n",
       "\n",
       "    .dataframe thead th {\n",
       "        text-align: right;\n",
       "    }\n",
       "</style>\n",
       "<table border=\"1\" class=\"dataframe\">\n",
       "  <thead>\n",
       "    <tr style=\"text-align: right;\">\n",
       "      <th></th>\n",
       "      <th>eu_sales</th>\n",
       "      <th>jp_sales</th>\n",
       "      <th>na_sales</th>\n",
       "      <th>other_sales</th>\n",
       "    </tr>\n",
       "    <tr>\n",
       "      <th>rating</th>\n",
       "      <th></th>\n",
       "      <th></th>\n",
       "      <th></th>\n",
       "      <th></th>\n",
       "    </tr>\n",
       "  </thead>\n",
       "  <tbody>\n",
       "    <tr>\n",
       "      <td>E</td>\n",
       "      <td>113.03</td>\n",
       "      <td>28.33</td>\n",
       "      <td>114.37</td>\n",
       "      <td>31.44</td>\n",
       "    </tr>\n",
       "    <tr>\n",
       "      <td>E10+</td>\n",
       "      <td>55.37</td>\n",
       "      <td>8.19</td>\n",
       "      <td>75.70</td>\n",
       "      <td>16.23</td>\n",
       "    </tr>\n",
       "    <tr>\n",
       "      <td>M</td>\n",
       "      <td>193.96</td>\n",
       "      <td>21.20</td>\n",
       "      <td>231.57</td>\n",
       "      <td>63.38</td>\n",
       "    </tr>\n",
       "    <tr>\n",
       "      <td>T</td>\n",
       "      <td>52.96</td>\n",
       "      <td>26.02</td>\n",
       "      <td>66.02</td>\n",
       "      <td>17.94</td>\n",
       "    </tr>\n",
       "    <tr>\n",
       "      <td>undefined</td>\n",
       "      <td>91.50</td>\n",
       "      <td>108.84</td>\n",
       "      <td>103.31</td>\n",
       "      <td>27.17</td>\n",
       "    </tr>\n",
       "  </tbody>\n",
       "</table>\n",
       "</div>"
      ],
      "text/plain": [
       "           eu_sales  jp_sales  na_sales  other_sales\n",
       "rating                                              \n",
       "E            113.03     28.33    114.37        31.44\n",
       "E10+          55.37      8.19     75.70        16.23\n",
       "M            193.96     21.20    231.57        63.38\n",
       "T             52.96     26.02     66.02        17.94\n",
       "undefined     91.50    108.84    103.31        27.17"
      ]
     },
     "execution_count": 88,
     "metadata": {},
     "output_type": "execute_result"
    }
   ],
   "source": [
    "#Do ESRB ratings affect sales in individual regions?\n",
    "\n",
    "esrb_sales = games_2012.pivot_table(index='rating', \n",
    "                       values=['eu_sales', 'jp_sales', 'na_sales', 'other_sales'], \n",
    "                       aggfunc='sum')\n",
    "\n",
    "esrb_sales.plot.bar(stacked=True, figsize=(10, 5))\n",
    "plt.show()\n",
    "\n",
    "esrb_sales "
   ]
  },
  {
   "cell_type": "markdown",
   "metadata": {},
   "source": [
    "The results suggest that `E` and `M` ESRB ratings affect the most sales in Europe and North America. In `Japan` those gamees for which we have no ESRB raatings at all, record the highest sales. "
   ]
  },
  {
   "cell_type": "markdown",
   "metadata": {},
   "source": [
    "#### Conclusions\n",
    "\n",
    "According to the tables and stacked bar charts above, platform `X360` has the higest sale in North America, it appears as third in the EU region, while it does not appear in the top five in Japan. `PS4` is the top sales performer in Europe, and appareas as second in North America, and fourth in Japan. The top in Japan is `3DS` which apeears as fifth in North America and Europe.\n",
    "\n",
    "In terms of genre, the top five in Europe and North America are pretty similar. The only diffeence is that racing apears as 5th in Europe, while the 5th in North America is misc. In Japan however, the top genre is role-playing which appears as 4th in the two other regions. The top two genre (Action) in North America and Europe, also appear in Japan as 2nd.\n",
    "\n",
    "When it comes to ESRB ratings,  the results suggest that `E` and `M` ESRB ratings affect the most sales in Europe and North America. In Japan those gamees for which we have no ESRB ratings at all, record the highest sales."
   ]
  },
  {
   "cell_type": "markdown",
   "metadata": {},
   "source": [
    "##### Testing hypotheses ####"
   ]
  },
  {
   "cell_type": "markdown",
   "metadata": {},
   "source": [
    "1st part:  As H₀ is always stated with an equal sign, in our analysis with the null hypothesis we need to check that there’s no difference between average user ratings of the Xbox One and PC platforms. \n",
    "\n",
    "2nd part:  As H₀ is always stated with an equal sign, in the second part of the analysis with the null hypothesis we need to check that there’s no difference between average user ratings for the Action and Sports genres. \n",
    "\n",
    "typical alpha = 0.05\n",
    "\n",
    "If p_value< alpha, then reject null hypothesis. \n",
    "\n",
    "If p_value > alpha, fail to reject null hypothesis."
   ]
  },
  {
   "cell_type": "code",
   "execution_count": 89,
   "metadata": {},
   "outputs": [],
   "source": [
    "# H0: Average user ratings of the Xbox One and PC platforms are the same."
   ]
  },
  {
   "cell_type": "code",
   "execution_count": 90,
   "metadata": {},
   "outputs": [
    {
     "name": "stdout",
     "output_type": "stream",
     "text": [
      "Statistics=0.955, p=0.000\n",
      "Sample does not look Gaussian (reject H0)\n"
     ]
    }
   ],
   "source": [
    "# Shapiro-Wilk Test for Xbox One\n",
    "\n",
    "stat, p = shapiro(games_2012.loc[games_2012['platform']=='XOne', \"user_score\"].dropna())\n",
    "print('Statistics=%.3f, p=%.3f' % (stat, p))\n",
    "\n",
    "# interpret\n",
    "alpha = 0.05\n",
    "if p > alpha:\n",
    "    print('Sample looks Gaussian (fail to reject H0)')\n",
    "else:\n",
    "    print('Sample does not look Gaussian (reject H0)')"
   ]
  },
  {
   "cell_type": "code",
   "execution_count": 91,
   "metadata": {},
   "outputs": [
    {
     "name": "stdout",
     "output_type": "stream",
     "text": [
      "Statistics=0.938, p=0.000\n",
      "Sample does not look Gaussian (reject H0)\n"
     ]
    }
   ],
   "source": [
    "# Shapiro-Wilk Test for PC platform\n",
    "\n",
    "stat, p = shapiro(games_2012.loc[games_2012['platform']=='PC', \"user_score\"].dropna())\n",
    "print('Statistics=%.3f, p=%.3f' % (stat, p))\n",
    "# interpret\n",
    "alpha = 0.05\n",
    "if p > alpha:\n",
    "    print('Sample looks Gaussian (fail to reject H0)')\n",
    "else:\n",
    "    print('Sample does not look Gaussian (reject H0)')"
   ]
  },
  {
   "cell_type": "markdown",
   "metadata": {},
   "source": [
    "We used Shapiro-Wilk test to evaluate the data samples on `user_score` in two platforms and quantified how likely it is that the data was drawn from a Gaussian distribution. In both cases (platforms), the data tested are not normally distributed. This means that in the next step, we should use Levene's test to test if these two samples have equal variances. "
   ]
  },
  {
   "cell_type": "code",
   "execution_count": 92,
   "metadata": {},
   "outputs": [
    {
     "name": "stdout",
     "output_type": "stream",
     "text": [
      "The p-value is: 1.141219598821408e-07\n",
      "The variance in the two platforms samples is significantly different (we reject H0)\n"
     ]
    }
   ],
   "source": [
    "#Levene's test centered at the median for the two plans\n",
    "\n",
    "st.levene((games_2012.loc[games_2012['platform']=='XOne', \"user_score\"].dropna()),(games_2012.loc[games_2012['platform']=='PC', \"user_score\"].dropna()) ,  center='median')\n",
    "\n",
    "alpha = 0.05\n",
    "print('The p-value is:' , p)\n",
    "if p > alpha:\n",
    "    print('The variance in the two platforms samples is not significantly different (we fail to reject H0)')\n",
    "else:\n",
    "    print('The variance in the two platforms samples is significantly different (we reject H0)')"
   ]
  },
  {
   "cell_type": "markdown",
   "metadata": {},
   "source": [
    "The Shapiro-Wilk test showed that the data samples on regions are likely to not follow normal distribution. Based on this information, we perfomred Levene's test which showed that the variance of both samples is statistically significant, which shows that in testing the hypothesis, we need to specify that the variance is not equal. "
   ]
  },
  {
   "cell_type": "markdown",
   "metadata": {},
   "source": [
    "HO: There's no difference between average user ratings of the Xbox One and PC platforms. \n",
    "\n",
    "H1: There's is difference between average user ratings of the Xbox One and PC platforms. "
   ]
  },
  {
   "cell_type": "code",
   "execution_count": 93,
   "metadata": {
    "scrolled": true
   },
   "outputs": [
    {
     "name": "stdout",
     "output_type": "stream",
     "text": [
      "p-value:  0.5489537965134912\n",
      "We can't reject the null hypothesis  of identical average user rating of the two platforms.\n"
     ]
    }
   ],
   "source": [
    "results_platforms = st.ttest_ind((games_2012.loc[games_2012['platform']=='XOne', \"user_score\"].dropna()), \n",
    "                                 (games_2012.loc[games_2012['platform']=='PC', \"user_score\"].dropna()), \n",
    "                                  axis=0, equal_var=False)\n",
    "\n",
    "alpha = .05\n",
    "\n",
    "print('p-value: ', results_platforms.pvalue)\n",
    "if (results_platforms.pvalue < alpha): \n",
    "    print(\"We reject the null hypothesis  of identical average user rating of the two platforms.\")\n",
    "else:\n",
    "    print(\"We can't reject the null hypothesis  of identical average user rating of the two platforms.\")"
   ]
  },
  {
   "cell_type": "markdown",
   "metadata": {},
   "source": [
    "The resuls from our t-test above showed that there is no statistical significant difference between user scores between the platforms of interest: `XOne` and `PC`. "
   ]
  },
  {
   "cell_type": "code",
   "execution_count": 94,
   "metadata": {},
   "outputs": [
    {
     "name": "stdout",
     "output_type": "stream",
     "text": [
      "The average user score for XOne platform is: 6.538181818181818\n",
      "The average user score for PC platform is: 6.4543147208121825\n"
     ]
    }
   ],
   "source": [
    "#calculating the average user score for each platform\n",
    "\n",
    "x_one = games_2012.loc[games_2012['platform']=='XOne'].dropna()\n",
    "mean_x_one = x_one['user_score'].mean()\n",
    "\n",
    "pc = games_2012.loc[games_2012['platform']=='PC'].dropna()\n",
    "mean_pc = pc[\"user_score\"].mean()\n",
    "\n",
    "print('The average user score for XOne platform is:', mean_x_one)\n",
    "print('The average user score for PC platform is:', mean_pc)"
   ]
  },
  {
   "cell_type": "code",
   "execution_count": 95,
   "metadata": {},
   "outputs": [],
   "source": [
    "# H0: Average user ratings for the Action and Sports genres are the same. "
   ]
  },
  {
   "cell_type": "code",
   "execution_count": 96,
   "metadata": {},
   "outputs": [
    {
     "name": "stdout",
     "output_type": "stream",
     "text": [
      "Statistics=0.912, p=0.000\n",
      "Sample does not look Gaussian (reject H0)\n"
     ]
    }
   ],
   "source": [
    "# Shapiro-Wilk Test for Action genre\n",
    "from scipy.stats import shapiro\n",
    "\n",
    "stat, p = shapiro(games_2012.loc[games_2012['genre']=='Action', \"user_score\"].dropna())\n",
    "print('Statistics=%.3f, p=%.3f' % (stat, p))\n",
    "\n",
    "alpha = 0.05\n",
    "\n",
    "if p > alpha:\n",
    "    print('Sample looks Gaussian (fail to reject H0)')\n",
    "else:\n",
    "    print('Sample does not look Gaussian (reject H0)')"
   ]
  },
  {
   "cell_type": "code",
   "execution_count": 97,
   "metadata": {},
   "outputs": [
    {
     "name": "stdout",
     "output_type": "stream",
     "text": [
      "Statistics=0.969, p=0.000\n",
      "Sample does not look Gaussian (reject H0)\n"
     ]
    }
   ],
   "source": [
    "# Shapiro-Wilk Test for Sports genre\n",
    "\n",
    "stat, p = shapiro(games_2012.loc[games_2012['genre']=='Sports', \"user_score\"].dropna())\n",
    "print('Statistics=%.3f, p=%.3f' % (stat, p))\n",
    "\n",
    "alpha = 0.05\n",
    "\n",
    "if p > alpha:\n",
    "    print('Sample looks Gaussian (fail to reject H0)')\n",
    "else:\n",
    "    print('Sample does not look Gaussian (reject H0)')"
   ]
  },
  {
   "cell_type": "markdown",
   "metadata": {},
   "source": [
    "We used Shapiro-Wilk test to evaluate the data samples on `user_score` by genre and quantified how likely it is that the data was drawn from a Gaussian distribution. In both cases (genres), the data tested are not normally distributed. This means that in the next step, we should use Levene's test to test if these two samples have equal variances. "
   ]
  },
  {
   "cell_type": "code",
   "execution_count": 98,
   "metadata": {},
   "outputs": [
    {
     "name": "stdout",
     "output_type": "stream",
     "text": [
      "The p-value is: 0.0002625079359859228\n",
      "The variance in the two genres IS significantly DIFFERENT (we reject H0)\n"
     ]
    }
   ],
   "source": [
    "#Levene's test centered at the median for the two plans\n",
    "\n",
    "st.levene((games_2012.loc[games_2012['genre']=='Sports', \"user_score\"].dropna()),(games_2012.loc[games_2012['genre']=='Actions', \"user_score\"].dropna()) ,  center='median')\n",
    "\n",
    "alpha = 0.05\n",
    "print('The p-value is:' , p)\n",
    "if p > alpha:\n",
    "    print('The variance in the two genres is NOT significantly DIFFERENT (we cannot reject H0)')\n",
    "else:\n",
    "    print('The variance in the two genres IS significantly DIFFERENT (we reject H0)')"
   ]
  },
  {
   "cell_type": "markdown",
   "metadata": {},
   "source": [
    "The Shapiro-Wilk test showed that the data samples on regions are likely to not follow normal distribution. Based on this information, we performed Levene's test which showed that the variance of both samples is statistically significant, which shows that in testing the hypothesis, we need to specify that the variance is not equal. "
   ]
  },
  {
   "cell_type": "code",
   "execution_count": 99,
   "metadata": {},
   "outputs": [
    {
     "name": "stdout",
     "output_type": "stream",
     "text": [
      "p-value:  4.24307776572644e-20\n",
      "We reject the null hypothesis of identical average user rating of the two genres.\n"
     ]
    }
   ],
   "source": [
    "results_platforms = st.ttest_ind((games_2012.loc[games_2012['genre']=='Action', \"user_score\"].dropna()), \n",
    "                                 (games_2012.loc[games_2012['genre']=='Sports', \"user_score\"].dropna()), \n",
    "                                 axis=0, equal_var=False)\n",
    "\n",
    "alpha = .05\n",
    "\n",
    "print('p-value: ', results_platforms.pvalue)\n",
    "if (results_platforms.pvalue < alpha): \n",
    "    print(\"We reject the null hypothesis of identical average user rating of the two genres.\")\n",
    "else:\n",
    "    print(\"We can't reject the null hypothesis  of identical average user rating of the two genres.\")"
   ]
  },
  {
   "cell_type": "markdown",
   "metadata": {},
   "source": [
    "The resuls from our t-test above show that there is difference between user ratings between the two genres of interest: `Action` and `Sports`. "
   ]
  },
  {
   "cell_type": "code",
   "execution_count": 100,
   "metadata": {},
   "outputs": [
    {
     "name": "stdout",
     "output_type": "stream",
     "text": [
      "The average user score for genre Sports is: 5.819858156028368\n",
      "The average revenue for genre Action is: 6.899305555555555\n"
     ]
    }
   ],
   "source": [
    "#calculating the average user score for each genre\n",
    "\n",
    "sports = games_2012.loc[games_2012['genre']=='Sports'].dropna()\n",
    "sports_mean = sports['user_score'].mean()\n",
    "\n",
    "action = games_2012.loc[games_2012['genre']=='Action'].dropna()\n",
    "action_mean = action[\"user_score\"].mean()\n",
    "\n",
    "print('The average user score for genre Sports is:', sports_mean)\n",
    "print('The average revenue for genre Action is:', action_mean)"
   ]
  },
  {
   "cell_type": "markdown",
   "metadata": {},
   "source": [
    "#### Conclusion\n",
    "\n",
    "In this particular part of the analysis we tested hypothesis. In order to understand the sample distribution, we first run Shapiro-wilk test, which found that our samples do not follow normal distribution, and thus the next stop was to test the variance of the samples, using Levene's test. We saw that the variance in the samples is not equal, which we then specified when testing the hypothesis.\n",
    "\n",
    "We could not reject the null hypothesis that there is no difference: between `user_score` on the platforms of interest: `XOne` and `PC`.\n",
    "\n",
    "We found statistically significant difference in `user_score` between the two genres of interest: `Action` and `Sports` with `Action` having on average higher `user_score`. "
   ]
  },
  {
   "cell_type": "markdown",
   "metadata": {},
   "source": [
    "### <a id='end'>  Oevrall conclusions </a> ###"
   ]
  },
  {
   "cell_type": "markdown",
   "metadata": {},
   "source": [
    "**Brief overview of the work done:** For this project, we used techniques from data pre-processing, EDA and SDA in order to identify patterns that determine whether a game succeeds or not. This allowed us to spot potential big winners and advise the company ICE on their advertising campaigns for 2017. We used histrorical data on online store Ice, which sells video games all over the world. We first pre-processed the data, such as identified the missing values, filled them, and decided what to do with the big portions of missing data in some columns. We transforemed the data types in some columns. We created a new column to store the total sale. We calculated correlations and graphically showed differences between platforms and games. We then dropped older years as they had very small amount of data (number of games released). We then checked for volume of sales by genres across different region. We finally tested hypothesis to see if the user reviews differ between two platforms, as well between two most popular genres. \n",
    "\n",
    "**Main findings:** The main findings are that different verison of PC are the most popular, which also have been generating the highest sales, hence `PS4` has the higest potential to be succesful in the coming year. We also found that there are statistical difference (at 5% significance level) between user score when it comes to genre `Action` and `Sports`. \n",
    "\n",
    "**Recommendations:** Advice to the online store Ice when planning its campaign for 2017, is that potential big winners for the next period is `PC4`.  ICE can plan their advertising campaigns and distribute its advertsiery budget to this platform, especially in Europe and North America. As there is a moderate correlation between reviews and sales, then the company should think how to engage professionals to rate positively the platforms. In terms of genre, `Action` has higher user scores, although we did not find linear dependancy of user score on sales. Maybe we could do a different analysis to see if there is a different type of correlation. "
   ]
  }
 ],
 "metadata": {
  "kernelspec": {
   "display_name": "Python 3",
   "language": "python",
   "name": "python3"
  },
  "language_info": {
   "codemirror_mode": {
    "name": "ipython",
    "version": 3
   },
   "file_extension": ".py",
   "mimetype": "text/x-python",
   "name": "python",
   "nbconvert_exporter": "python",
   "pygments_lexer": "ipython3",
   "version": "3.8.5"
  },
  "toc": {
   "base_numbering": 1,
   "nav_menu": {},
   "number_sections": true,
   "sideBar": true,
   "skip_h1_title": false,
   "title_cell": "Table of Contents",
   "title_sidebar": "Contents",
   "toc_cell": false,
   "toc_position": {},
   "toc_section_display": true,
   "toc_window_display": false
  }
 },
 "nbformat": 4,
 "nbformat_minor": 2
}
