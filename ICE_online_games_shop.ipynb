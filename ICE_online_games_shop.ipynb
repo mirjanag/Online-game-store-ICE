{
 "cells": [
  {
   "cell_type": "markdown",
   "metadata": {},
   "source": [
    "# Online Store ICE#"
   ]
  },
  You work for the online store Ice, which sells video games all over the world. User and expert reviews, genres, platforms (e.g. Xbox or PlayStation), and historical data on game sales are available from open sources. You need to identify patterns that determine whether a game succeeds or not. This will allow you to spot potential big winners and plan advertising campaigns. In front of you is data going back to 2016. Let’s imagine that it’s December 2016 and you’re planning a campaign for 2017.
  {
   "cell_type": "markdown",
   "metadata": {},
   "source": [
    "## Table of content\n",
    "\n",
    "* [Project description](#info)\n",
    "* [Open the data file and study the general information](#open)\n",
    "* [Prepare the data](#prepare)\n",
    "* [Analyze the data](#analyze)\n",
    "* [Create a user profile for each region](#profile)\n",
    "* [Test the hypotheses](#test)\n",
    "* [General conclusion ](#end)\n"
   ]
  },
  {
   "cell_type": "markdown",
   "metadata": {},
   "source": [
    "### <a id='info'>  Project description </a> ###\n",
    "\n",
    "You work for the online store Ice, which sells video games all over the world. User and expert reviews, genres, platforms (e.g. Xbox or PlayStation), and historical data on game sales are available from open sources. You need to identify patterns that determine whether a game succeeds or not. This will allow you to spot potential big winners and plan advertising campaigns.\n",
    "In front of you is data going back to 2016. Let’s imagine that it’s December 2016 and you’re planning a campaign for 2017."
   ]
  },
  {
   "cell_type": "code",
   "execution_count": 24,
   "metadata": {},
   "outputs": [],
   "source": [
    "#importing relevant library and modules to be used later on\n",
    "import pandas as pd\n",
    "import numpy as np\n",
    "import matplotlib.pyplot as plt\n",
    "import plotly.express as px\n",
    "import sys\n",
    "import warnings\n",
    "if not sys.warnoptions:\n",
    "       warnings.simplefilter(\"ignore\")\n",
    "import scipy.stats as stats\n",
    "from scipy.stats import shapiro\n",
    "from scipy import stats as st\n",
    "import seaborn as sb"
   ]
  },
  {
   "cell_type": "markdown",
   "metadata": {},
   "source": [
    "### <a id='open'> Open the data file and study the general information </a> ###"
   ]
  },
  {
   "cell_type": "code",
   "execution_count": 25,
   "metadata": {},
   "outputs": [
    {
     "name": "stdout",
     "output_type": "stream",
     "text": [
      "<class 'pandas.core.frame.DataFrame'>\n",
      "RangeIndex: 16715 entries, 0 to 16714\n",
      "Data columns (total 11 columns):\n",
      "Name               16713 non-null object\n",
      "Platform           16715 non-null object\n",
      "Year_of_Release    16446 non-null float64\n",
      "Genre              16713 non-null object\n",
      "NA_sales           16715 non-null float64\n",
      "EU_sales           16715 non-null float64\n",
      "JP_sales           16715 non-null float64\n",
      "Other_sales        16715 non-null float64\n",
      "Critic_Score       8137 non-null float64\n",
      "User_Score         10014 non-null object\n",
      "Rating             9949 non-null object\n",
      "dtypes: float64(6), object(5)\n",
      "memory usage: 1.4+ MB\n"
     ]
    }
   ],
   "source": [
    "#loading the data from csv file\n",
    "games = pd.read_csv('/datasets/games.csv')\n",
    "games.info()"
   ]
  },
  {
   "cell_type": "code",
   "execution_count": 26,
   "metadata": {},
   "outputs": [
    {
     "data": {
      "text/html": [
       "<div>\n",
       "<style scoped>\n",
       "    .dataframe tbody tr th:only-of-type {\n",
       "        vertical-align: middle;\n",
       "    }\n",
       "\n",
       "    .dataframe tbody tr th {\n",
       "        vertical-align: top;\n",
       "    }\n",
       "\n",
       "    .dataframe thead th {\n",
       "        text-align: right;\n",
       "    }\n",
       "</style>\n",
       "<table border=\"1\" class=\"dataframe\">\n",
       "  <thead>\n",
       "    <tr style=\"text-align: right;\">\n",
       "      <th></th>\n",
       "      <th>Name</th>\n",
       "      <th>Platform</th>\n",
       "      <th>Year_of_Release</th>\n",
       "      <th>Genre</th>\n",
       "      <th>NA_sales</th>\n",
       "      <th>EU_sales</th>\n",
       "      <th>JP_sales</th>\n",
       "      <th>Other_sales</th>\n",
       "      <th>Critic_Score</th>\n",
       "      <th>User_Score</th>\n",
       "      <th>Rating</th>\n",
       "    </tr>\n",
       "  </thead>\n",
       "  <tbody>\n",
       "    <tr>\n",
       "      <td>count</td>\n",
       "      <td>16713</td>\n",
       "      <td>16715</td>\n",
       "      <td>16446.000000</td>\n",
       "      <td>16713</td>\n",
       "      <td>16715.000000</td>\n",
       "      <td>16715.000000</td>\n",
       "      <td>16715.000000</td>\n",
       "      <td>16715.000000</td>\n",
       "      <td>8137.000000</td>\n",
       "      <td>10014</td>\n",
       "      <td>9949</td>\n",
       "    </tr>\n",
       "    <tr>\n",
       "      <td>unique</td>\n",
       "      <td>11559</td>\n",
       "      <td>31</td>\n",
       "      <td>NaN</td>\n",
       "      <td>12</td>\n",
       "      <td>NaN</td>\n",
       "      <td>NaN</td>\n",
       "      <td>NaN</td>\n",
       "      <td>NaN</td>\n",
       "      <td>NaN</td>\n",
       "      <td>96</td>\n",
       "      <td>8</td>\n",
       "    </tr>\n",
       "    <tr>\n",
       "      <td>top</td>\n",
       "      <td>Need for Speed: Most Wanted</td>\n",
       "      <td>PS2</td>\n",
       "      <td>NaN</td>\n",
       "      <td>Action</td>\n",
       "      <td>NaN</td>\n",
       "      <td>NaN</td>\n",
       "      <td>NaN</td>\n",
       "      <td>NaN</td>\n",
       "      <td>NaN</td>\n",
       "      <td>tbd</td>\n",
       "      <td>E</td>\n",
       "    </tr>\n",
       "    <tr>\n",
       "      <td>freq</td>\n",
       "      <td>12</td>\n",
       "      <td>2161</td>\n",
       "      <td>NaN</td>\n",
       "      <td>3369</td>\n",
       "      <td>NaN</td>\n",
       "      <td>NaN</td>\n",
       "      <td>NaN</td>\n",
       "      <td>NaN</td>\n",
       "      <td>NaN</td>\n",
       "      <td>2424</td>\n",
       "      <td>3990</td>\n",
       "    </tr>\n",
       "    <tr>\n",
       "      <td>mean</td>\n",
       "      <td>NaN</td>\n",
       "      <td>NaN</td>\n",
       "      <td>2006.484616</td>\n",
       "      <td>NaN</td>\n",
       "      <td>0.263377</td>\n",
       "      <td>0.145060</td>\n",
       "      <td>0.077617</td>\n",
       "      <td>0.047342</td>\n",
       "      <td>68.967679</td>\n",
       "      <td>NaN</td>\n",
       "      <td>NaN</td>\n",
       "    </tr>\n",
       "    <tr>\n",
       "      <td>std</td>\n",
       "      <td>NaN</td>\n",
       "      <td>NaN</td>\n",
       "      <td>5.877050</td>\n",
       "      <td>NaN</td>\n",
       "      <td>0.813604</td>\n",
       "      <td>0.503339</td>\n",
       "      <td>0.308853</td>\n",
       "      <td>0.186731</td>\n",
       "      <td>13.938165</td>\n",
       "      <td>NaN</td>\n",
       "      <td>NaN</td>\n",
       "    </tr>\n",
       "    <tr>\n",
       "      <td>min</td>\n",
       "      <td>NaN</td>\n",
       "      <td>NaN</td>\n",
       "      <td>1980.000000</td>\n",
       "      <td>NaN</td>\n",
       "      <td>0.000000</td>\n",
       "      <td>0.000000</td>\n",
       "      <td>0.000000</td>\n",
       "      <td>0.000000</td>\n",
       "      <td>13.000000</td>\n",
       "      <td>NaN</td>\n",
       "      <td>NaN</td>\n",
       "    </tr>\n",
       "    <tr>\n",
       "      <td>25%</td>\n",
       "      <td>NaN</td>\n",
       "      <td>NaN</td>\n",
       "      <td>2003.000000</td>\n",
       "      <td>NaN</td>\n",
       "      <td>0.000000</td>\n",
       "      <td>0.000000</td>\n",
       "      <td>0.000000</td>\n",
       "      <td>0.000000</td>\n",
       "      <td>60.000000</td>\n",
       "      <td>NaN</td>\n",
       "      <td>NaN</td>\n",
       "    </tr>\n",
       "    <tr>\n",
       "      <td>50%</td>\n",
       "      <td>NaN</td>\n",
       "      <td>NaN</td>\n",
       "      <td>2007.000000</td>\n",
       "      <td>NaN</td>\n",
       "      <td>0.080000</td>\n",
       "      <td>0.020000</td>\n",
       "      <td>0.000000</td>\n",
       "      <td>0.010000</td>\n",
       "      <td>71.000000</td>\n",
       "      <td>NaN</td>\n",
       "      <td>NaN</td>\n",
       "    </tr>\n",
       "    <tr>\n",
       "      <td>75%</td>\n",
       "      <td>NaN</td>\n",
       "      <td>NaN</td>\n",
       "      <td>2010.000000</td>\n",
       "      <td>NaN</td>\n",
       "      <td>0.240000</td>\n",
       "      <td>0.110000</td>\n",
       "      <td>0.040000</td>\n",
       "      <td>0.030000</td>\n",
       "      <td>79.000000</td>\n",
       "      <td>NaN</td>\n",
       "      <td>NaN</td>\n",
       "    </tr>\n",
       "    <tr>\n",
       "      <td>max</td>\n",
       "      <td>NaN</td>\n",
       "      <td>NaN</td>\n",
       "      <td>2016.000000</td>\n",
       "      <td>NaN</td>\n",
       "      <td>41.360000</td>\n",
       "      <td>28.960000</td>\n",
       "      <td>10.220000</td>\n",
       "      <td>10.570000</td>\n",
       "      <td>98.000000</td>\n",
       "      <td>NaN</td>\n",
       "      <td>NaN</td>\n",
       "    </tr>\n",
       "  </tbody>\n",
       "</table>\n",
       "</div>"
      ],
      "text/plain": [
       "                               Name Platform  Year_of_Release   Genre  \\\n",
       "count                         16713    16715     16446.000000   16713   \n",
       "unique                        11559       31              NaN      12   \n",
       "top     Need for Speed: Most Wanted      PS2              NaN  Action   \n",
       "freq                             12     2161              NaN    3369   \n",
       "mean                            NaN      NaN      2006.484616     NaN   \n",
       "std                             NaN      NaN         5.877050     NaN   \n",
       "min                             NaN      NaN      1980.000000     NaN   \n",
       "25%                             NaN      NaN      2003.000000     NaN   \n",
       "50%                             NaN      NaN      2007.000000     NaN   \n",
       "75%                             NaN      NaN      2010.000000     NaN   \n",
       "max                             NaN      NaN      2016.000000     NaN   \n",
       "\n",
       "            NA_sales      EU_sales      JP_sales   Other_sales  Critic_Score  \\\n",
       "count   16715.000000  16715.000000  16715.000000  16715.000000   8137.000000   \n",
       "unique           NaN           NaN           NaN           NaN           NaN   \n",
       "top              NaN           NaN           NaN           NaN           NaN   \n",
       "freq             NaN           NaN           NaN           NaN           NaN   \n",
       "mean        0.263377      0.145060      0.077617      0.047342     68.967679   \n",
       "std         0.813604      0.503339      0.308853      0.186731     13.938165   \n",
       "min         0.000000      0.000000      0.000000      0.000000     13.000000   \n",
       "25%         0.000000      0.000000      0.000000      0.000000     60.000000   \n",
       "50%         0.080000      0.020000      0.000000      0.010000     71.000000   \n",
       "75%         0.240000      0.110000      0.040000      0.030000     79.000000   \n",
       "max        41.360000     28.960000     10.220000     10.570000     98.000000   \n",
       "\n",
       "       User_Score Rating  \n",
       "count       10014   9949  \n",
       "unique         96      8  \n",
       "top           tbd      E  \n",
       "freq         2424   3990  \n",
       "mean          NaN    NaN  \n",
       "std           NaN    NaN  \n",
       "min           NaN    NaN  \n",
       "25%           NaN    NaN  \n",
       "50%           NaN    NaN  \n",
       "75%           NaN    NaN  \n",
       "max           NaN    NaN  "
      ]
     },
     "execution_count": 26,
     "metadata": {},
     "output_type": "execute_result"
    }
   ],
   "source": [
    "#getting some initial statistics\n",
    "games.describe(include = 'all')"
   ]
  },
  {
   "cell_type": "markdown",
   "metadata": {},
   "source": [
    "#### Conclusion\n",
    "We have imported the libraries and modules needed to analyse the data and opened the dataset. Our dataset has 16715 rows and 11 columns. We can see that some columns have less data than 16715, which we will need to investigate further and decide what we will do with those missing values. We can also see that many of the data (`year_of_release`, `na_sales`, `eu_sales`, `jp_sales`, `other_sales`, `critic_score`) are float, and some should be convereted to integers.\n",
    "\n",
    "We also conducted some initial statistical examination od the data. We have some mising values and odd values in the column `user_score` - data point `tbd` meaning to be determined, which can be considered as a missing value, is a top data point, thus a quite big proportion of the dataset. We need to see later how to handle this in order to produce statistically correct results. We can see that the most frequent game in our dataset is `Need for Speed: Most Wanted`, the most popular `platform` is `PS2` and `action` as `genre`."
   ]
  },
  {
   "cell_type": "markdown",
   "metadata": {},
   "source": [
    "### <a id='prepare'>  Prepare the data </a> ###"
   ]
  },
  {
   "cell_type": "code",
   "execution_count": 27,
   "metadata": {},
   "outputs": [
    {
     "data": {
      "text/html": [
       "<div>\n",
       "<style scoped>\n",
       "    .dataframe tbody tr th:only-of-type {\n",
       "        vertical-align: middle;\n",
       "    }\n",
       "\n",
       "    .dataframe tbody tr th {\n",
       "        vertical-align: top;\n",
       "    }\n",
       "\n",
       "    .dataframe thead th {\n",
       "        text-align: right;\n",
       "    }\n",
       "</style>\n",
       "<table border=\"1\" class=\"dataframe\">\n",
       "  <thead>\n",
       "    <tr style=\"text-align: right;\">\n",
       "      <th></th>\n",
       "      <th>name</th>\n",
       "      <th>platform</th>\n",
       "      <th>year_of_release</th>\n",
       "      <th>genre</th>\n",
       "      <th>na_sales</th>\n",
       "      <th>eu_sales</th>\n",
       "      <th>jp_sales</th>\n",
       "      <th>other_sales</th>\n",
       "      <th>critic_score</th>\n",
       "      <th>user_score</th>\n",
       "      <th>rating</th>\n",
       "    </tr>\n",
       "  </thead>\n",
       "  <tbody>\n",
       "    <tr>\n",
       "      <td>0</td>\n",
       "      <td>Wii Sports</td>\n",
       "      <td>Wii</td>\n",
       "      <td>2006.0</td>\n",
       "      <td>Sports</td>\n",
       "      <td>41.36</td>\n",
       "      <td>28.96</td>\n",
       "      <td>3.77</td>\n",
       "      <td>8.45</td>\n",
       "      <td>76.0</td>\n",
       "      <td>8</td>\n",
       "      <td>E</td>\n",
       "    </tr>\n",
       "    <tr>\n",
       "      <td>1</td>\n",
       "      <td>Super Mario Bros.</td>\n",
       "      <td>NES</td>\n",
       "      <td>1985.0</td>\n",
       "      <td>Platform</td>\n",
       "      <td>29.08</td>\n",
       "      <td>3.58</td>\n",
       "      <td>6.81</td>\n",
       "      <td>0.77</td>\n",
       "      <td>NaN</td>\n",
       "      <td>NaN</td>\n",
       "      <td>NaN</td>\n",
       "    </tr>\n",
       "    <tr>\n",
       "      <td>2</td>\n",
       "      <td>Mario Kart Wii</td>\n",
       "      <td>Wii</td>\n",
       "      <td>2008.0</td>\n",
       "      <td>Racing</td>\n",
       "      <td>15.68</td>\n",
       "      <td>12.76</td>\n",
       "      <td>3.79</td>\n",
       "      <td>3.29</td>\n",
       "      <td>82.0</td>\n",
       "      <td>8.3</td>\n",
       "      <td>E</td>\n",
       "    </tr>\n",
       "    <tr>\n",
       "      <td>3</td>\n",
       "      <td>Wii Sports Resort</td>\n",
       "      <td>Wii</td>\n",
       "      <td>2009.0</td>\n",
       "      <td>Sports</td>\n",
       "      <td>15.61</td>\n",
       "      <td>10.93</td>\n",
       "      <td>3.28</td>\n",
       "      <td>2.95</td>\n",
       "      <td>80.0</td>\n",
       "      <td>8</td>\n",
       "      <td>E</td>\n",
       "    </tr>\n",
       "    <tr>\n",
       "      <td>4</td>\n",
       "      <td>Pokemon Red/Pokemon Blue</td>\n",
       "      <td>GB</td>\n",
       "      <td>1996.0</td>\n",
       "      <td>Role-Playing</td>\n",
       "      <td>11.27</td>\n",
       "      <td>8.89</td>\n",
       "      <td>10.22</td>\n",
       "      <td>1.00</td>\n",
       "      <td>NaN</td>\n",
       "      <td>NaN</td>\n",
       "      <td>NaN</td>\n",
       "    </tr>\n",
       "  </tbody>\n",
       "</table>\n",
       "</div>"
      ],
      "text/plain": [
       "                       name platform  year_of_release         genre  na_sales  \\\n",
       "0                Wii Sports      Wii           2006.0        Sports     41.36   \n",
       "1         Super Mario Bros.      NES           1985.0      Platform     29.08   \n",
       "2            Mario Kart Wii      Wii           2008.0        Racing     15.68   \n",
       "3         Wii Sports Resort      Wii           2009.0        Sports     15.61   \n",
       "4  Pokemon Red/Pokemon Blue       GB           1996.0  Role-Playing     11.27   \n",
       "\n",
       "   eu_sales  jp_sales  other_sales  critic_score user_score rating  \n",
       "0     28.96      3.77         8.45          76.0          8      E  \n",
       "1      3.58      6.81         0.77           NaN        NaN    NaN  \n",
       "2     12.76      3.79         3.29          82.0        8.3      E  \n",
       "3     10.93      3.28         2.95          80.0          8      E  \n",
       "4      8.89     10.22         1.00           NaN        NaN    NaN  "
      ]
     },
     "execution_count": 27,
     "metadata": {},
     "output_type": "execute_result"
    }
   ],
   "source": [
    "#Replace the column names (make them lowercase)\n",
    "games.columns = games.columns.str.lower()\n",
    "games.head()"
   ]
  },
  {
   "cell_type": "code",
   "execution_count": 28,
   "metadata": {},
   "outputs": [
    {
     "name": "stdout",
     "output_type": "stream",
     "text": [
      "name                0.01\n",
      "platform            0.00\n",
      "year_of_release     1.61\n",
      "genre               0.01\n",
      "na_sales            0.00\n",
      "eu_sales            0.00\n",
      "jp_sales            0.00\n",
      "other_sales         0.00\n",
      "critic_score       51.32\n",
      "user_score         40.09\n",
      "rating             40.48\n",
      "dtype: float64\n"
     ]
    }
   ],
   "source": [
    "# check and deal with missing values:\n",
    "# Explain why you filled in the missing values as you did or why you decided to leave them blank\n",
    "# Why do you think the values are missing? Give possible reasons\n",
    "\n",
    "percent = games.isnull().sum()*100/len(games)\n",
    "print(round(percent,2))"
   ]
  },
  {
   "cell_type": "code",
   "execution_count": 29,
   "metadata": {},
   "outputs": [],
   "source": [
    "#dropping the small proporation of missing values as it is hard to guess them \n",
    "games.dropna(subset = [\"name\", \"year_of_release\"], inplace = True)"
   ]
  },
  {
   "cell_type": "code",
   "execution_count": 30,
   "metadata": {},
   "outputs": [],
   "source": [
    "#filling the missing values\n",
    "games['genre'] = games.groupby('platform').genre.transform(lambda x: x.fillna(x.mode()[0]))"
   ]
  },
  {
   "cell_type": "code",
   "execution_count": 31,
   "metadata": {},
   "outputs": [
    {
     "data": {
      "text/plain": [
       "0.08554919384758515"
      ]
     },
     "execution_count": 31,
     "metadata": {},
     "output_type": "execute_result"
    },
    {
     "data": {
      "image/png": "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\n",
      "text/plain": [
       "<Figure size 432x288 with 1 Axes>"
      ]
     },
     "metadata": {
      "needs_background": "light"
     },
     "output_type": "display_data"
    }
   ],
   "source": [
    "# Pay attention to the abbreviation TBD (to be determined). Specify how you intend to handle such cases.\n",
    "\n",
    "games_no_tda = games.drop(games.index[games['user_score'] == 'tbd']) #cheking for a correlation between user_score and sales to decide if we can fill in tda by combining this\n",
    "games_no_tda['user_score'] = games_no_tda['user_score'].apply(pd.to_numeric)\n",
    "games_no_tda.plot.scatter(x='user_score', y='jp_sales', title= \"Scatter plot between sales and user_score\");\n",
    "games_no_tda['user_score'].corr(games_no_tda['na_sales'])\n",
    "\n",
    "#As there is very weak correlation, maybe we should not fill the tda value"
   ]
  },
  {
   "cell_type": "code",
   "execution_count": 32,
   "metadata": {},
   "outputs": [],
   "source": [
    "#replacing the `tbd`('to be determined') meaning the minimum review of a certain product was not yet reached, with NaN\n",
    "games['user_score'].replace('tbd', np.NaN, inplace=True)\n",
    "games['user_score'] = games['user_score'].astype(float)"
   ]
  },
  {
   "cell_type": "code",
   "execution_count": 33,
   "metadata": {},
   "outputs": [],
   "source": [
    "#replacing the nan in `rating` with `undefined` as this is a categorical variable\n",
    "games['rating'] = games['rating'].replace(np.NaN, 'undefined') "
   ]
  },
  {
   "cell_type": "code",
   "execution_count": 34,
   "metadata": {},
   "outputs": [],
   "source": [
    "#Convert the data to the required types.\n",
    "#Describe the columns where the data types have been changed and why.\n",
    "games['year_of_release'] = games['year_of_release'].astype(int)"
   ]
  },
  {
   "cell_type": "code",
   "execution_count": 35,
   "metadata": {},
   "outputs": [],
   "source": [
    "#Calculate the total sales (the sum of sales in all regions) for each game and put these values in a separate column.\n",
    "games['sum_sales'] = games[['na_sales','jp_sales', 'eu_sales', 'other_sales']].sum(axis=1)"
   ]
  },
  {
   "cell_type": "markdown",
   "metadata": {},
   "source": [
    "#### Conclusion \n",
    "\n",
    "We first changed all the column labels to lower case. We then checked for the exact proportion of missing data in each of the columns. In fact, we do not know why the data in these columns is missing (we can only hypothesize), and we do not have access to a source that would allow us to replenish the data, restore it, so it is better drop missing values when there are only few, but keep rows with missing values in the data in order to not lose important information or simply replace them with indicators where appropriate. \n",
    "\n",
    "We have relatively small part of missing values in the columns `name`, `year_of_release`, and `genre`. As for columns `name` or `year_of_release` we dropped them, as it is hard to guess the correct data. \n",
    "\n",
    "We then changed the float to ineteger for the `year_of_release` column.  The reasons for those to be converetd to integers is that in these cases floating point values have no meaning as a count. Another reason to favour integers over floats is performance and efficiency. Integer arithmetic is faster. And for a given range integers consume less memory because integers don't need to represent non-integer values. and we created a new column which sumarizes the sells from different regions. \n",
    "\n",
    "The missing values in the column `genre` are filled with the mode (the value that appears the most commonly observed value in the particular column, however taking into consideration the platform or genre. This means we combined information from the columns, in order to come to better values that are not the same for each missing datapoint. \n",
    "\n",
    "However things get more complicated when we look at the three columns that refer to the reviews.  With over 40% missing values in each, we can not just fill them with means/medians as that will distore our results in the end. We did not find high dependancy of `user_cores` and `sales`, therefore we will not fill in other ways, because we face the risk of distortion of the original data. Will leave them to appear as NaNs and we will make sure to exlude those rows in some parts of the analysis. We will not delete from the dataset as we do not want to lose valuable data points. We replaced `tbd` with `Nan`, but we will exclude the missing values in this particular column when the analysis focuses on them. We also created a new sub-group called `undefined`, to where we assigned all the missing values from the `rating` column. \n",
    "\n",
    "We calculated the `sum_sales` of all regions and added this as a new column to the our dataframe. "
   ]
  },
  {
   "cell_type": "markdown",
   "metadata": {},
   "source": [
    "### <a id='analyze'>  Analyze the data </a> ###  "
   ]
  },
  {
   "cell_type": "code",
   "execution_count": 36,
   "metadata": {},
   "outputs": [
    {
     "data": {
      "image/png": "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\n",
      "text/plain": [
       "<Figure size 1224x720 with 1 Axes>"
      ]
     },
     "metadata": {
      "needs_background": "light"
     },
     "output_type": "display_data"
    }
   ],
   "source": [
    "#Look at how many games were released in different years. Is the data for every period significant?\n",
    "\n",
    "games_years = games.groupby('year_of_release')['name'].count().reset_index()\n",
    "\n",
    "fig,ax = plt.subplots(figsize=(17,10))\n",
    "ax.vlines(x=games_years.year_of_release, ymin=0, ymax=games_years.name, color='purple',alpha=0.7,linewidth=2)\n",
    "ax.scatter(x=games_years.year_of_release, y=games_years.name, s=75, color='black', alpha=0.7);\n",
    "\n",
    "ax.set_title(\"Lillipop Chart for Number of Games released across years\", fontdict={'size':15});\n",
    "ax.set_ylabel('Number of Released Games');\n",
    "ax.set_xticks(games_years.year_of_release);\n",
    "ax.set_xticklabels(games_years.year_of_release,rotation=90, fontdict={'horizontalalignment': 'center', 'size':12});\n",
    "\n",
    "for row in games_years.itertuples():\n",
    "    ax.text(row.year_of_release, row.name+30, s=round(row.name,2))"
   ]
  },
  {
   "cell_type": "code",
   "execution_count": 37,
   "metadata": {},
   "outputs": [
    {
     "data": {
      "image/png": "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\n",
      "text/plain": [
       "<Figure size 1008x720 with 1 Axes>"
      ]
     },
     "metadata": {
      "needs_background": "light"
     },
     "output_type": "display_data"
    }
   ],
   "source": [
    "#Look at how sales varied from platform to platform. \n",
    "games_platform = games.groupby('platform')['sum_sales'].sum().sort_values().reset_index()\n",
    "games_platform['sales_z'] = (games_platform['sum_sales'] - games_platform['sum_sales'].mean())/games_platform['sum_sales'].std() #calculating z to see if the platforms are successful. \n",
    "\n",
    "# If sales_z has a posotive number then it is successful and we assign colour green to that row, otherwise red\n",
    "games_platform['colour_z'] = ['red' if x<0 else 'green' for x in games_platform['sales_z']]\n",
    "\n",
    "# graphically presenting the results \n",
    "plt.figure(figsize=(14,10))\n",
    "plt.hlines(y=games_platform.platform,xmin=0, xmax=games_platform.sales_z,color=games_platform.colour_z, alpha=0.4, linewidth=10);\n",
    "\n",
    "#The green ones are above the mean, and the leading by totalis PS2. "
   ]
  },
  {
   "cell_type": "code",
   "execution_count": 38,
   "metadata": {},
   "outputs": [
    {
     "data": {
      "image/png": "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\n",
      "text/plain": [
       "<Figure size 432x288 with 1 Axes>"
      ]
     },
     "metadata": {
      "needs_background": "light"
     },
     "output_type": "display_data"
    }
   ],
   "source": [
    "#Choose the platforms with the greatest total sales and build a distribution based on data for each year. \n",
    "ps2  = games[games['platform'] == 'PS2']\n",
    "ps2.plot.scatter(x='year_of_release', y='sum_sales', title= \"Scatter plot between sales and year\");"
   ]
  },
  {
   "cell_type": "code",
   "execution_count": 39,
   "metadata": {},
   "outputs": [
    {
     "data": {
      "image/png": "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\n",
      "text/plain": [
       "<Figure size 1080x1080 with 2 Axes>"
      ]
     },
     "metadata": {
      "needs_background": "light"
     },
     "output_type": "display_data"
    }
   ],
   "source": [
    "#Find platforms that used to be popular but now have zero sales\n",
    "#How long does it generally take for new platforms to appear and old ones to fade?\n",
    "popular_platforms = games.groupby([\"platform\", 'year_of_release'])['sum_sales'].sum().reset_index()\n",
    "\n",
    "heatmap_popular = pd.pivot_table(popular_platforms, values='sum_sales', \n",
    "                     index=['platform'], \n",
    "                     columns='year_of_release')\n",
    "\n",
    "plt.figure(figsize=(15, 15))\n",
    "sb.heatmap(heatmap_popular, cmap=\"BuGn\");"
   ]
  },
  {
   "cell_type": "code",
   "execution_count": 18,
   "metadata": {},
   "outputs": [],
   "source": [
    "#Determine what period you should take data for\n",
    "#To do so, look at your answers to the previous questions \n",
    "#The data should allow you to build a prognosis for 2017."
   ]
  },
  {
   "cell_type": "markdown",
   "metadata": {},
   "source": [
    "The first years up to 1993, the number od games released were relatively small compared to later years. The most fruitful years were between 2007 and 2011 inclusive. However, from 2012 and onwards, the number of games halfed. \n",
    "\n",
    "The platform with the biggest sale was `PS2` with total sale of 1255.77. From the scatter plot above, we saw that on this plaform `PS2`, the sales were the higest between 2001 and 2006, which some very high total sales in 2004. However, we noticed a steady decline starting from 2006 and onwards. \n",
    "\n",
    "From the heatmap we saw that te platforms that had higher sales, but which has decreased over time are: `WiiU`, `X360`, `PS`, `PS2`, `PS3` and `DS`, as judged by the darker colours in the left, that fades as moving towards the right (more recent years). \n",
    "\n",
    "If we take the different version of `PS`, then it takes about 10 years for an old platform to fade, and about 6-7 years from the existance of an older version, for a new to appear. This means that the relevance of the game falls,  on average for 3-4 years (since games quickly become obsolete, although they can continue to be sold in stores), according to the charts.\n",
    "\n",
    "Based on the heatmaps, as well as the table on sales for different years, sales has picked up after 1994, but decrased after 2011. The average life expectancy of a game is about 10 years, and we need to predict for 2017, therefore we can exlude the years before, but having in mind that number of relased games decreased after 2011, and that the relevance of the game falls according to the charts on average for 3-4 years, we can work with data from 2012 and onwards. "
   ]
  },
  {
   "cell_type": "code",
   "execution_count": 40,
   "metadata": {},
   "outputs": [
    {
     "data": {
      "text/plain": [
       "2012"
      ]
     },
     "execution_count": 40,
     "metadata": {},
     "output_type": "execute_result"
    }
   ],
   "source": [
    "#Work only with the data that you've decided is relevant. Disregard the data for previous years.\n",
    "games_2012 = games.loc[games['year_of_release'] >= 2012] #creating a new subset\n",
    "games_2012['year_of_release'].min() #checking whether we have data before 2012"
   ]
  },
  {
   "cell_type": "code",
   "execution_count": 41,
   "metadata": {},
   "outputs": [
    {
     "data": {
      "image/png": "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\n",
      "text/plain": [
       "<Figure size 432x288 with 1 Axes>"
      ]
     },
     "metadata": {
      "needs_background": "light"
     },
     "output_type": "display_data"
    }
   ],
   "source": [
    "#Which platforms are leading in sales? \n",
    "games_2012.groupby('platform')['sum_sales'].sum().plot.bar();"
   ]
  },
  {
   "cell_type": "code",
   "execution_count": 42,
   "metadata": {},
   "outputs": [
    {
     "data": {
      "image/png": "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\n",
      "text/plain": [
       "<Figure size 1080x1080 with 2 Axes>"
      ]
     },
     "metadata": {
      "needs_background": "light"
     },
     "output_type": "display_data"
    }
   ],
   "source": [
    "#Which ones are growing or shrinking? \n",
    "#Select several potentially profitable platforms.\n",
    "\n",
    "games_2012_grouped = games_2012.groupby(['platform', 'year_of_release'])['sum_sales'].sum().reset_index()\n",
    "pivot_2012 = pd.pivot_table(games_2012_grouped, values='sum_sales', \n",
    "                     index=['platform'], \n",
    "                     columns='year_of_release')\n",
    "\n",
    "plt.figure(figsize=(15, 15))\n",
    "sb.heatmap(pivot_2012, cmap=\"BuGn\");"
   ]
  },
  {
   "cell_type": "markdown",
   "metadata": {},
   "source": [
    "From the above barchart, we can see that platforms such as `PS3`, and `WX360`, are leading in sales, but from the heatmap, also clearly shrinking. Platforms that is growing is `PS4`. Based on this potential profitable platforms would be`P4` given the fact they have not reached the max length od popularity compared to their predecessors. Also maybe `XONE` as it is the start, it may pick up later; similarly behaves `3DS`. "
   ]
  },
  {
   "cell_type": "code",
   "execution_count": 43,
   "metadata": {},
   "outputs": [
    {
     "data": {
      "application/vnd.plotly.v1+json": {
       "config": {
        "plotlyServerURL": "https://plot.ly"
       },
       "data": [
        {
         "alignmentgroup": "True",
         "hoverlabel": {
          "namelength": 0
         },
         "hovertemplate": "platform=%{x}<br>sum_sales=%{y}",
         "legendgroup": "",
         "marker": {
          "color": "#636efa"
         },
         "name": "",
         "notched": false,
         "offsetgroup": "",
         "orientation": "v",
         "showlegend": false,
         "type": "box",
         "x": [
          "3DS",
          "3DS",
          "3DS",
          "3DS",
          "3DS",
          "DS",
          "DS",
          "PC",
          "PC",
          "PC",
          "PC",
          "PC",
          "PS3",
          "PS3",
          "PS3",
          "PS3",
          "PS3",
          "PS4",
          "PS4",
          "PS4",
          "PS4",
          "PSP",
          "PSP",
          "PSP",
          "PSP",
          "PSV",
          "PSV",
          "PSV",
          "PSV",
          "PSV",
          "Wii",
          "Wii",
          "Wii",
          "Wii",
          "Wii",
          "WiiU",
          "WiiU",
          "WiiU",
          "WiiU",
          "WiiU",
          "X360",
          "X360",
          "X360",
          "X360",
          "X360",
          "XOne",
          "XOne",
          "XOne",
          "XOne"
         ],
         "x0": " ",
         "xaxis": "x",
         "y": [
          51.36000000000002,
          56.57,
          43.76000000000003,
          27.780000000000005,
          15.139999999999992,
          11.009999999999994,
          1.54,
          23.21999999999999,
          12.379999999999997,
          13.279999999999994,
          8.51999999999999,
          5.249999999999997,
          107.36000000000001,
          113.24999999999999,
          47.76000000000002,
          16.820000000000004,
          3.5999999999999988,
          25.990000000000002,
          99.99999999999996,
          118.90000000000008,
          69.25000000000001,
          7.68999999999999,
          3.139999999999996,
          0.24000000000000005,
          0.12000000000000001,
          16.190000000000005,
          10.589999999999995,
          11.899999999999988,
          6.249999999999988,
          4.249999999999992,
          21.710000000000008,
          8.59,
          3.75,
          1.14,
          0.18,
          17.559999999999995,
          21.65,
          22.029999999999994,
          16.35000000000001,
          4.6000000000000005,
          99.7400000000001,
          88.58000000000008,
          34.739999999999995,
          11.959999999999997,
          1.5200000000000002,
          18.959999999999994,
          54.06999999999999,
          60.14000000000002,
          26.15000000000002
         ],
         "y0": " ",
         "yaxis": "y"
        }
       ],
       "layout": {
        "boxmode": "group",
        "height": 600,
        "legend": {
         "tracegroupgap": 0
        },
        "template": {
         "data": {
          "bar": [
           {
            "error_x": {
             "color": "#2a3f5f"
            },
            "error_y": {
             "color": "#2a3f5f"
            },
            "marker": {
             "line": {
              "color": "#E5ECF6",
              "width": 0.5
             }
            },
            "type": "bar"
           }
          ],
          "barpolar": [
           {
            "marker": {
             "line": {
              "color": "#E5ECF6",
              "width": 0.5
             }
            },
            "type": "barpolar"
           }
          ],
          "carpet": [
           {
            "aaxis": {
             "endlinecolor": "#2a3f5f",
             "gridcolor": "white",
             "linecolor": "white",
             "minorgridcolor": "white",
             "startlinecolor": "#2a3f5f"
            },
            "baxis": {
             "endlinecolor": "#2a3f5f",
             "gridcolor": "white",
             "linecolor": "white",
             "minorgridcolor": "white",
             "startlinecolor": "#2a3f5f"
            },
            "type": "carpet"
           }
          ],
          "choropleth": [
           {
            "colorbar": {
             "outlinewidth": 0,
             "ticks": ""
            },
            "type": "choropleth"
           }
          ],
          "contour": [
           {
            "colorbar": {
             "outlinewidth": 0,
             "ticks": ""
            },
            "colorscale": [
             [
              0,
              "#0d0887"
             ],
             [
              0.1111111111111111,
              "#46039f"
             ],
             [
              0.2222222222222222,
              "#7201a8"
             ],
             [
              0.3333333333333333,
              "#9c179e"
             ],
             [
              0.4444444444444444,
              "#bd3786"
             ],
             [
              0.5555555555555556,
              "#d8576b"
             ],
             [
              0.6666666666666666,
              "#ed7953"
             ],
             [
              0.7777777777777778,
              "#fb9f3a"
             ],
             [
              0.8888888888888888,
              "#fdca26"
             ],
             [
              1,
              "#f0f921"
             ]
            ],
            "type": "contour"
           }
          ],
          "contourcarpet": [
           {
            "colorbar": {
             "outlinewidth": 0,
             "ticks": ""
            },
            "type": "contourcarpet"
           }
          ],
          "heatmap": [
           {
            "colorbar": {
             "outlinewidth": 0,
             "ticks": ""
            },
            "colorscale": [
             [
              0,
              "#0d0887"
             ],
             [
              0.1111111111111111,
              "#46039f"
             ],
             [
              0.2222222222222222,
              "#7201a8"
             ],
             [
              0.3333333333333333,
              "#9c179e"
             ],
             [
              0.4444444444444444,
              "#bd3786"
             ],
             [
              0.5555555555555556,
              "#d8576b"
             ],
             [
              0.6666666666666666,
              "#ed7953"
             ],
             [
              0.7777777777777778,
              "#fb9f3a"
             ],
             [
              0.8888888888888888,
              "#fdca26"
             ],
             [
              1,
              "#f0f921"
             ]
            ],
            "type": "heatmap"
           }
          ],
          "heatmapgl": [
           {
            "colorbar": {
             "outlinewidth": 0,
             "ticks": ""
            },
            "colorscale": [
             [
              0,
              "#0d0887"
             ],
             [
              0.1111111111111111,
              "#46039f"
             ],
             [
              0.2222222222222222,
              "#7201a8"
             ],
             [
              0.3333333333333333,
              "#9c179e"
             ],
             [
              0.4444444444444444,
              "#bd3786"
             ],
             [
              0.5555555555555556,
              "#d8576b"
             ],
             [
              0.6666666666666666,
              "#ed7953"
             ],
             [
              0.7777777777777778,
              "#fb9f3a"
             ],
             [
              0.8888888888888888,
              "#fdca26"
             ],
             [
              1,
              "#f0f921"
             ]
            ],
            "type": "heatmapgl"
           }
          ],
          "histogram": [
           {
            "marker": {
             "colorbar": {
              "outlinewidth": 0,
              "ticks": ""
             }
            },
            "type": "histogram"
           }
          ],
          "histogram2d": [
           {
            "colorbar": {
             "outlinewidth": 0,
             "ticks": ""
            },
            "colorscale": [
             [
              0,
              "#0d0887"
             ],
             [
              0.1111111111111111,
              "#46039f"
             ],
             [
              0.2222222222222222,
              "#7201a8"
             ],
             [
              0.3333333333333333,
              "#9c179e"
             ],
             [
              0.4444444444444444,
              "#bd3786"
             ],
             [
              0.5555555555555556,
              "#d8576b"
             ],
             [
              0.6666666666666666,
              "#ed7953"
             ],
             [
              0.7777777777777778,
              "#fb9f3a"
             ],
             [
              0.8888888888888888,
              "#fdca26"
             ],
             [
              1,
              "#f0f921"
             ]
            ],
            "type": "histogram2d"
           }
          ],
          "histogram2dcontour": [
           {
            "colorbar": {
             "outlinewidth": 0,
             "ticks": ""
            },
            "colorscale": [
             [
              0,
              "#0d0887"
             ],
             [
              0.1111111111111111,
              "#46039f"
             ],
             [
              0.2222222222222222,
              "#7201a8"
             ],
             [
              0.3333333333333333,
              "#9c179e"
             ],
             [
              0.4444444444444444,
              "#bd3786"
             ],
             [
              0.5555555555555556,
              "#d8576b"
             ],
             [
              0.6666666666666666,
              "#ed7953"
             ],
             [
              0.7777777777777778,
              "#fb9f3a"
             ],
             [
              0.8888888888888888,
              "#fdca26"
             ],
             [
              1,
              "#f0f921"
             ]
            ],
            "type": "histogram2dcontour"
           }
          ],
          "mesh3d": [
           {
            "colorbar": {
             "outlinewidth": 0,
             "ticks": ""
            },
            "type": "mesh3d"
           }
          ],
          "parcoords": [
           {
            "line": {
             "colorbar": {
              "outlinewidth": 0,
              "ticks": ""
             }
            },
            "type": "parcoords"
           }
          ],
          "scatter": [
           {
            "marker": {
             "colorbar": {
              "outlinewidth": 0,
              "ticks": ""
             }
            },
            "type": "scatter"
           }
          ],
          "scatter3d": [
           {
            "line": {
             "colorbar": {
              "outlinewidth": 0,
              "ticks": ""
             }
            },
            "marker": {
             "colorbar": {
              "outlinewidth": 0,
              "ticks": ""
             }
            },
            "type": "scatter3d"
           }
          ],
          "scattercarpet": [
           {
            "marker": {
             "colorbar": {
              "outlinewidth": 0,
              "ticks": ""
             }
            },
            "type": "scattercarpet"
           }
          ],
          "scattergeo": [
           {
            "marker": {
             "colorbar": {
              "outlinewidth": 0,
              "ticks": ""
             }
            },
            "type": "scattergeo"
           }
          ],
          "scattergl": [
           {
            "marker": {
             "colorbar": {
              "outlinewidth": 0,
              "ticks": ""
             }
            },
            "type": "scattergl"
           }
          ],
          "scattermapbox": [
           {
            "marker": {
             "colorbar": {
              "outlinewidth": 0,
              "ticks": ""
             }
            },
            "type": "scattermapbox"
           }
          ],
          "scatterpolar": [
           {
            "marker": {
             "colorbar": {
              "outlinewidth": 0,
              "ticks": ""
             }
            },
            "type": "scatterpolar"
           }
          ],
          "scatterpolargl": [
           {
            "marker": {
             "colorbar": {
              "outlinewidth": 0,
              "ticks": ""
             }
            },
            "type": "scatterpolargl"
           }
          ],
          "scatterternary": [
           {
            "marker": {
             "colorbar": {
              "outlinewidth": 0,
              "ticks": ""
             }
            },
            "type": "scatterternary"
           }
          ],
          "surface": [
           {
            "colorbar": {
             "outlinewidth": 0,
             "ticks": ""
            },
            "colorscale": [
             [
              0,
              "#0d0887"
             ],
             [
              0.1111111111111111,
              "#46039f"
             ],
             [
              0.2222222222222222,
              "#7201a8"
             ],
             [
              0.3333333333333333,
              "#9c179e"
             ],
             [
              0.4444444444444444,
              "#bd3786"
             ],
             [
              0.5555555555555556,
              "#d8576b"
             ],
             [
              0.6666666666666666,
              "#ed7953"
             ],
             [
              0.7777777777777778,
              "#fb9f3a"
             ],
             [
              0.8888888888888888,
              "#fdca26"
             ],
             [
              1,
              "#f0f921"
             ]
            ],
            "type": "surface"
           }
          ],
          "table": [
           {
            "cells": {
             "fill": {
              "color": "#EBF0F8"
             },
             "line": {
              "color": "white"
             }
            },
            "header": {
             "fill": {
              "color": "#C8D4E3"
             },
             "line": {
              "color": "white"
             }
            },
            "type": "table"
           }
          ]
         },
         "layout": {
          "annotationdefaults": {
           "arrowcolor": "#2a3f5f",
           "arrowhead": 0,
           "arrowwidth": 1
          },
          "colorscale": {
           "diverging": [
            [
             0,
             "#8e0152"
            ],
            [
             0.1,
             "#c51b7d"
            ],
            [
             0.2,
             "#de77ae"
            ],
            [
             0.3,
             "#f1b6da"
            ],
            [
             0.4,
             "#fde0ef"
            ],
            [
             0.5,
             "#f7f7f7"
            ],
            [
             0.6,
             "#e6f5d0"
            ],
            [
             0.7,
             "#b8e186"
            ],
            [
             0.8,
             "#7fbc41"
            ],
            [
             0.9,
             "#4d9221"
            ],
            [
             1,
             "#276419"
            ]
           ],
           "sequential": [
            [
             0,
             "#0d0887"
            ],
            [
             0.1111111111111111,
             "#46039f"
            ],
            [
             0.2222222222222222,
             "#7201a8"
            ],
            [
             0.3333333333333333,
             "#9c179e"
            ],
            [
             0.4444444444444444,
             "#bd3786"
            ],
            [
             0.5555555555555556,
             "#d8576b"
            ],
            [
             0.6666666666666666,
             "#ed7953"
            ],
            [
             0.7777777777777778,
             "#fb9f3a"
            ],
            [
             0.8888888888888888,
             "#fdca26"
            ],
            [
             1,
             "#f0f921"
            ]
           ],
           "sequentialminus": [
            [
             0,
             "#0d0887"
            ],
            [
             0.1111111111111111,
             "#46039f"
            ],
            [
             0.2222222222222222,
             "#7201a8"
            ],
            [
             0.3333333333333333,
             "#9c179e"
            ],
            [
             0.4444444444444444,
             "#bd3786"
            ],
            [
             0.5555555555555556,
             "#d8576b"
            ],
            [
             0.6666666666666666,
             "#ed7953"
            ],
            [
             0.7777777777777778,
             "#fb9f3a"
            ],
            [
             0.8888888888888888,
             "#fdca26"
            ],
            [
             1,
             "#f0f921"
            ]
           ]
          },
          "colorway": [
           "#636efa",
           "#EF553B",
           "#00cc96",
           "#ab63fa",
           "#FFA15A",
           "#19d3f3",
           "#FF6692",
           "#B6E880",
           "#FF97FF",
           "#FECB52"
          ],
          "font": {
           "color": "#2a3f5f"
          },
          "geo": {
           "bgcolor": "white",
           "lakecolor": "white",
           "landcolor": "#E5ECF6",
           "showlakes": true,
           "showland": true,
           "subunitcolor": "white"
          },
          "hoverlabel": {
           "align": "left"
          },
          "hovermode": "closest",
          "mapbox": {
           "style": "light"
          },
          "paper_bgcolor": "white",
          "plot_bgcolor": "#E5ECF6",
          "polar": {
           "angularaxis": {
            "gridcolor": "white",
            "linecolor": "white",
            "ticks": ""
           },
           "bgcolor": "#E5ECF6",
           "radialaxis": {
            "gridcolor": "white",
            "linecolor": "white",
            "ticks": ""
           }
          },
          "scene": {
           "xaxis": {
            "backgroundcolor": "#E5ECF6",
            "gridcolor": "white",
            "gridwidth": 2,
            "linecolor": "white",
            "showbackground": true,
            "ticks": "",
            "zerolinecolor": "white"
           },
           "yaxis": {
            "backgroundcolor": "#E5ECF6",
            "gridcolor": "white",
            "gridwidth": 2,
            "linecolor": "white",
            "showbackground": true,
            "ticks": "",
            "zerolinecolor": "white"
           },
           "zaxis": {
            "backgroundcolor": "#E5ECF6",
            "gridcolor": "white",
            "gridwidth": 2,
            "linecolor": "white",
            "showbackground": true,
            "ticks": "",
            "zerolinecolor": "white"
           }
          },
          "shapedefaults": {
           "line": {
            "color": "#2a3f5f"
           }
          },
          "ternary": {
           "aaxis": {
            "gridcolor": "white",
            "linecolor": "white",
            "ticks": ""
           },
           "baxis": {
            "gridcolor": "white",
            "linecolor": "white",
            "ticks": ""
           },
           "bgcolor": "#E5ECF6",
           "caxis": {
            "gridcolor": "white",
            "linecolor": "white",
            "ticks": ""
           }
          },
          "title": {
           "x": 0.05
          },
          "xaxis": {
           "automargin": true,
           "gridcolor": "white",
           "linecolor": "white",
           "ticks": "",
           "zerolinecolor": "white",
           "zerolinewidth": 2
          },
          "yaxis": {
           "automargin": true,
           "gridcolor": "white",
           "linecolor": "white",
           "ticks": "",
           "zerolinecolor": "white",
           "zerolinewidth": 2
          }
         }
        },
        "title": {
         "text": "Global sales of all games, broken down by platform"
        },
        "xaxis": {
         "anchor": "y",
         "domain": [
          0,
          0.98
         ],
         "title": {
          "text": "platform"
         }
        },
        "yaxis": {
         "anchor": "x",
         "domain": [
          0,
          1
         ],
         "title": {
          "text": "sum_sales"
         }
        }
       }
      },
      "text/html": [
       "<div>\n",
       "        \n",
       "        \n",
       "            <div id=\"e9ab6593-99d2-4a35-8a8a-4e62ea6c8eee\" class=\"plotly-graph-div\" style=\"height:600px; width:100%;\"></div>\n",
       "            <script type=\"text/javascript\">\n",
       "                require([\"plotly\"], function(Plotly) {\n",
       "                    window.PLOTLYENV=window.PLOTLYENV || {};\n",
       "                    \n",
       "                if (document.getElementById(\"e9ab6593-99d2-4a35-8a8a-4e62ea6c8eee\")) {\n",
       "                    Plotly.newPlot(\n",
       "                        'e9ab6593-99d2-4a35-8a8a-4e62ea6c8eee',\n",
       "                        [{\"alignmentgroup\": \"True\", \"hoverlabel\": {\"namelength\": 0}, \"hovertemplate\": \"platform=%{x}<br>sum_sales=%{y}\", \"legendgroup\": \"\", \"marker\": {\"color\": \"#636efa\"}, \"name\": \"\", \"notched\": false, \"offsetgroup\": \"\", \"orientation\": \"v\", \"showlegend\": false, \"type\": \"box\", \"x\": [\"3DS\", \"3DS\", \"3DS\", \"3DS\", \"3DS\", \"DS\", \"DS\", \"PC\", \"PC\", \"PC\", \"PC\", \"PC\", \"PS3\", \"PS3\", \"PS3\", \"PS3\", \"PS3\", \"PS4\", \"PS4\", \"PS4\", \"PS4\", \"PSP\", \"PSP\", \"PSP\", \"PSP\", \"PSV\", \"PSV\", \"PSV\", \"PSV\", \"PSV\", \"Wii\", \"Wii\", \"Wii\", \"Wii\", \"Wii\", \"WiiU\", \"WiiU\", \"WiiU\", \"WiiU\", \"WiiU\", \"X360\", \"X360\", \"X360\", \"X360\", \"X360\", \"XOne\", \"XOne\", \"XOne\", \"XOne\"], \"x0\": \" \", \"xaxis\": \"x\", \"y\": [51.36000000000002, 56.57, 43.76000000000003, 27.780000000000005, 15.139999999999992, 11.009999999999994, 1.54, 23.21999999999999, 12.379999999999997, 13.279999999999994, 8.51999999999999, 5.249999999999997, 107.36000000000001, 113.24999999999999, 47.76000000000002, 16.820000000000004, 3.5999999999999988, 25.990000000000002, 99.99999999999996, 118.90000000000008, 69.25000000000001, 7.68999999999999, 3.139999999999996, 0.24000000000000005, 0.12000000000000001, 16.190000000000005, 10.589999999999995, 11.899999999999988, 6.249999999999988, 4.249999999999992, 21.710000000000008, 8.59, 3.75, 1.14, 0.18, 17.559999999999995, 21.65, 22.029999999999994, 16.35000000000001, 4.6000000000000005, 99.7400000000001, 88.58000000000008, 34.739999999999995, 11.959999999999997, 1.5200000000000002, 18.959999999999994, 54.06999999999999, 60.14000000000002, 26.15000000000002], \"y0\": \" \", \"yaxis\": \"y\"}],\n",
       "                        {\"boxmode\": \"group\", \"height\": 600, \"legend\": {\"tracegroupgap\": 0}, \"template\": {\"data\": {\"bar\": [{\"error_x\": {\"color\": \"#2a3f5f\"}, \"error_y\": {\"color\": \"#2a3f5f\"}, \"marker\": {\"line\": {\"color\": \"#E5ECF6\", \"width\": 0.5}}, \"type\": \"bar\"}], \"barpolar\": [{\"marker\": {\"line\": {\"color\": \"#E5ECF6\", \"width\": 0.5}}, \"type\": \"barpolar\"}], \"carpet\": [{\"aaxis\": {\"endlinecolor\": \"#2a3f5f\", \"gridcolor\": \"white\", \"linecolor\": \"white\", \"minorgridcolor\": \"white\", \"startlinecolor\": \"#2a3f5f\"}, \"baxis\": {\"endlinecolor\": \"#2a3f5f\", \"gridcolor\": \"white\", \"linecolor\": \"white\", \"minorgridcolor\": \"white\", \"startlinecolor\": \"#2a3f5f\"}, \"type\": \"carpet\"}], \"choropleth\": [{\"colorbar\": {\"outlinewidth\": 0, \"ticks\": \"\"}, \"type\": \"choropleth\"}], \"contour\": [{\"colorbar\": {\"outlinewidth\": 0, \"ticks\": \"\"}, \"colorscale\": [[0.0, \"#0d0887\"], [0.1111111111111111, \"#46039f\"], [0.2222222222222222, \"#7201a8\"], [0.3333333333333333, \"#9c179e\"], [0.4444444444444444, \"#bd3786\"], [0.5555555555555556, \"#d8576b\"], [0.6666666666666666, \"#ed7953\"], [0.7777777777777778, \"#fb9f3a\"], [0.8888888888888888, \"#fdca26\"], [1.0, \"#f0f921\"]], \"type\": \"contour\"}], \"contourcarpet\": [{\"colorbar\": {\"outlinewidth\": 0, \"ticks\": \"\"}, \"type\": \"contourcarpet\"}], \"heatmap\": [{\"colorbar\": {\"outlinewidth\": 0, \"ticks\": \"\"}, \"colorscale\": [[0.0, \"#0d0887\"], [0.1111111111111111, \"#46039f\"], [0.2222222222222222, \"#7201a8\"], [0.3333333333333333, \"#9c179e\"], [0.4444444444444444, \"#bd3786\"], [0.5555555555555556, \"#d8576b\"], [0.6666666666666666, \"#ed7953\"], [0.7777777777777778, \"#fb9f3a\"], [0.8888888888888888, \"#fdca26\"], [1.0, \"#f0f921\"]], \"type\": \"heatmap\"}], \"heatmapgl\": [{\"colorbar\": {\"outlinewidth\": 0, \"ticks\": \"\"}, \"colorscale\": [[0.0, \"#0d0887\"], [0.1111111111111111, \"#46039f\"], [0.2222222222222222, \"#7201a8\"], [0.3333333333333333, \"#9c179e\"], [0.4444444444444444, \"#bd3786\"], [0.5555555555555556, \"#d8576b\"], [0.6666666666666666, \"#ed7953\"], [0.7777777777777778, \"#fb9f3a\"], [0.8888888888888888, \"#fdca26\"], [1.0, \"#f0f921\"]], \"type\": \"heatmapgl\"}], \"histogram\": [{\"marker\": {\"colorbar\": {\"outlinewidth\": 0, \"ticks\": \"\"}}, \"type\": \"histogram\"}], \"histogram2d\": [{\"colorbar\": {\"outlinewidth\": 0, \"ticks\": \"\"}, \"colorscale\": [[0.0, \"#0d0887\"], [0.1111111111111111, \"#46039f\"], [0.2222222222222222, \"#7201a8\"], [0.3333333333333333, \"#9c179e\"], [0.4444444444444444, \"#bd3786\"], [0.5555555555555556, \"#d8576b\"], [0.6666666666666666, \"#ed7953\"], [0.7777777777777778, \"#fb9f3a\"], [0.8888888888888888, \"#fdca26\"], [1.0, \"#f0f921\"]], \"type\": \"histogram2d\"}], \"histogram2dcontour\": [{\"colorbar\": {\"outlinewidth\": 0, \"ticks\": \"\"}, \"colorscale\": [[0.0, \"#0d0887\"], [0.1111111111111111, \"#46039f\"], [0.2222222222222222, \"#7201a8\"], [0.3333333333333333, \"#9c179e\"], [0.4444444444444444, \"#bd3786\"], [0.5555555555555556, \"#d8576b\"], [0.6666666666666666, \"#ed7953\"], [0.7777777777777778, \"#fb9f3a\"], [0.8888888888888888, \"#fdca26\"], [1.0, \"#f0f921\"]], \"type\": \"histogram2dcontour\"}], \"mesh3d\": [{\"colorbar\": {\"outlinewidth\": 0, \"ticks\": \"\"}, \"type\": \"mesh3d\"}], \"parcoords\": [{\"line\": {\"colorbar\": {\"outlinewidth\": 0, \"ticks\": \"\"}}, \"type\": \"parcoords\"}], \"scatter\": [{\"marker\": {\"colorbar\": {\"outlinewidth\": 0, \"ticks\": \"\"}}, \"type\": \"scatter\"}], \"scatter3d\": [{\"line\": {\"colorbar\": {\"outlinewidth\": 0, \"ticks\": \"\"}}, \"marker\": {\"colorbar\": {\"outlinewidth\": 0, \"ticks\": \"\"}}, \"type\": \"scatter3d\"}], \"scattercarpet\": [{\"marker\": {\"colorbar\": {\"outlinewidth\": 0, \"ticks\": \"\"}}, \"type\": \"scattercarpet\"}], \"scattergeo\": [{\"marker\": {\"colorbar\": {\"outlinewidth\": 0, \"ticks\": \"\"}}, \"type\": \"scattergeo\"}], \"scattergl\": [{\"marker\": {\"colorbar\": {\"outlinewidth\": 0, \"ticks\": \"\"}}, \"type\": \"scattergl\"}], \"scattermapbox\": [{\"marker\": {\"colorbar\": {\"outlinewidth\": 0, \"ticks\": \"\"}}, \"type\": \"scattermapbox\"}], \"scatterpolar\": [{\"marker\": {\"colorbar\": {\"outlinewidth\": 0, \"ticks\": \"\"}}, \"type\": \"scatterpolar\"}], \"scatterpolargl\": [{\"marker\": {\"colorbar\": {\"outlinewidth\": 0, \"ticks\": \"\"}}, \"type\": \"scatterpolargl\"}], \"scatterternary\": [{\"marker\": {\"colorbar\": {\"outlinewidth\": 0, \"ticks\": \"\"}}, \"type\": \"scatterternary\"}], \"surface\": [{\"colorbar\": {\"outlinewidth\": 0, \"ticks\": \"\"}, \"colorscale\": [[0.0, \"#0d0887\"], [0.1111111111111111, \"#46039f\"], [0.2222222222222222, \"#7201a8\"], [0.3333333333333333, \"#9c179e\"], [0.4444444444444444, \"#bd3786\"], [0.5555555555555556, \"#d8576b\"], [0.6666666666666666, \"#ed7953\"], [0.7777777777777778, \"#fb9f3a\"], [0.8888888888888888, \"#fdca26\"], [1.0, \"#f0f921\"]], \"type\": \"surface\"}], \"table\": [{\"cells\": {\"fill\": {\"color\": \"#EBF0F8\"}, \"line\": {\"color\": \"white\"}}, \"header\": {\"fill\": {\"color\": \"#C8D4E3\"}, \"line\": {\"color\": \"white\"}}, \"type\": \"table\"}]}, \"layout\": {\"annotationdefaults\": {\"arrowcolor\": \"#2a3f5f\", \"arrowhead\": 0, \"arrowwidth\": 1}, \"colorscale\": {\"diverging\": [[0, \"#8e0152\"], [0.1, \"#c51b7d\"], [0.2, \"#de77ae\"], [0.3, \"#f1b6da\"], [0.4, \"#fde0ef\"], [0.5, \"#f7f7f7\"], [0.6, \"#e6f5d0\"], [0.7, \"#b8e186\"], [0.8, \"#7fbc41\"], [0.9, \"#4d9221\"], [1, \"#276419\"]], \"sequential\": [[0.0, \"#0d0887\"], [0.1111111111111111, \"#46039f\"], [0.2222222222222222, \"#7201a8\"], [0.3333333333333333, \"#9c179e\"], [0.4444444444444444, \"#bd3786\"], [0.5555555555555556, \"#d8576b\"], [0.6666666666666666, \"#ed7953\"], [0.7777777777777778, \"#fb9f3a\"], [0.8888888888888888, \"#fdca26\"], [1.0, \"#f0f921\"]], \"sequentialminus\": [[0.0, \"#0d0887\"], [0.1111111111111111, \"#46039f\"], [0.2222222222222222, \"#7201a8\"], [0.3333333333333333, \"#9c179e\"], [0.4444444444444444, \"#bd3786\"], [0.5555555555555556, \"#d8576b\"], [0.6666666666666666, \"#ed7953\"], [0.7777777777777778, \"#fb9f3a\"], [0.8888888888888888, \"#fdca26\"], [1.0, \"#f0f921\"]]}, \"colorway\": [\"#636efa\", \"#EF553B\", \"#00cc96\", \"#ab63fa\", \"#FFA15A\", \"#19d3f3\", \"#FF6692\", \"#B6E880\", \"#FF97FF\", \"#FECB52\"], \"font\": {\"color\": \"#2a3f5f\"}, \"geo\": {\"bgcolor\": \"white\", \"lakecolor\": \"white\", \"landcolor\": \"#E5ECF6\", \"showlakes\": true, \"showland\": true, \"subunitcolor\": \"white\"}, \"hoverlabel\": {\"align\": \"left\"}, \"hovermode\": \"closest\", \"mapbox\": {\"style\": \"light\"}, \"paper_bgcolor\": \"white\", \"plot_bgcolor\": \"#E5ECF6\", \"polar\": {\"angularaxis\": {\"gridcolor\": \"white\", \"linecolor\": \"white\", \"ticks\": \"\"}, \"bgcolor\": \"#E5ECF6\", \"radialaxis\": {\"gridcolor\": \"white\", \"linecolor\": \"white\", \"ticks\": \"\"}}, \"scene\": {\"xaxis\": {\"backgroundcolor\": \"#E5ECF6\", \"gridcolor\": \"white\", \"gridwidth\": 2, \"linecolor\": \"white\", \"showbackground\": true, \"ticks\": \"\", \"zerolinecolor\": \"white\"}, \"yaxis\": {\"backgroundcolor\": \"#E5ECF6\", \"gridcolor\": \"white\", \"gridwidth\": 2, \"linecolor\": \"white\", \"showbackground\": true, \"ticks\": \"\", \"zerolinecolor\": \"white\"}, \"zaxis\": {\"backgroundcolor\": \"#E5ECF6\", \"gridcolor\": \"white\", \"gridwidth\": 2, \"linecolor\": \"white\", \"showbackground\": true, \"ticks\": \"\", \"zerolinecolor\": \"white\"}}, \"shapedefaults\": {\"line\": {\"color\": \"#2a3f5f\"}}, \"ternary\": {\"aaxis\": {\"gridcolor\": \"white\", \"linecolor\": \"white\", \"ticks\": \"\"}, \"baxis\": {\"gridcolor\": \"white\", \"linecolor\": \"white\", \"ticks\": \"\"}, \"bgcolor\": \"#E5ECF6\", \"caxis\": {\"gridcolor\": \"white\", \"linecolor\": \"white\", \"ticks\": \"\"}}, \"title\": {\"x\": 0.05}, \"xaxis\": {\"automargin\": true, \"gridcolor\": \"white\", \"linecolor\": \"white\", \"ticks\": \"\", \"zerolinecolor\": \"white\", \"zerolinewidth\": 2}, \"yaxis\": {\"automargin\": true, \"gridcolor\": \"white\", \"linecolor\": \"white\", \"ticks\": \"\", \"zerolinecolor\": \"white\", \"zerolinewidth\": 2}}}, \"title\": {\"text\": \"Global sales of all games, broken down by platform\"}, \"xaxis\": {\"anchor\": \"y\", \"domain\": [0.0, 0.98], \"title\": {\"text\": \"platform\"}}, \"yaxis\": {\"anchor\": \"x\", \"domain\": [0.0, 1.0], \"title\": {\"text\": \"sum_sales\"}}},\n",
       "                        {\"responsive\": true}\n",
       "                    ).then(function(){\n",
       "                            \n",
       "var gd = document.getElementById('e9ab6593-99d2-4a35-8a8a-4e62ea6c8eee');\n",
       "var x = new MutationObserver(function (mutations, observer) {{\n",
       "        var display = window.getComputedStyle(gd).display;\n",
       "        if (!display || display === 'none') {{\n",
       "            console.log([gd, 'removed!']);\n",
       "            Plotly.purge(gd);\n",
       "            observer.disconnect();\n",
       "        }}\n",
       "}});\n",
       "\n",
       "// Listen for the removal of the full notebook cells\n",
       "var notebookContainer = gd.closest('#notebook-container');\n",
       "if (notebookContainer) {{\n",
       "    x.observe(notebookContainer, {childList: true});\n",
       "}}\n",
       "\n",
       "// Listen for the clearing of the current output cell\n",
       "var outputEl = gd.closest('.output');\n",
       "if (outputEl) {{\n",
       "    x.observe(outputEl, {childList: true});\n",
       "}}\n",
       "\n",
       "                        })\n",
       "                };\n",
       "                });\n",
       "            </script>\n",
       "        </div>"
      ]
     },
     "metadata": {},
     "output_type": "display_data"
    }
   ],
   "source": [
    "#Build a box plot for the global sales of all games, broken down by platform. \n",
    "#Are the differences in sales significant? \n",
    "#What about average sales on various platforms? Describe your findings.\n",
    "fig = px.box(games_2012_grouped, x=\"platform\", y=\"sum_sales\", title='Global sales of all games, broken down by platform');\n",
    "fig.show();"
   ]
  },
  {
   "cell_type": "markdown",
   "metadata": {},
   "source": [
    "From the boxplot above, we can see that are on average, there are relativley large differences in sales across platforms. Looking at the median, we can see that, the highest sales are notices for `PS3` and `PS4`. The wider ranges of sales are for `PS3` and `X360`, which also have the higest overall ranges. "
   ]
  },
  {
   "cell_type": "code",
   "execution_count": 44,
   "metadata": {},
   "outputs": [
    {
     "name": "stdout",
     "output_type": "stream",
     "text": [
      "name               0.0\n",
      "platform           0.0\n",
      "year_of_release    0.0\n",
      "genre              0.0\n",
      "na_sales           0.0\n",
      "eu_sales           0.0\n",
      "jp_sales           0.0\n",
      "other_sales        0.0\n",
      "critic_score       0.0\n",
      "user_score         0.0\n",
      "rating             0.0\n",
      "sum_sales          0.0\n",
      "dtype: float64\n"
     ]
    }
   ],
   "source": [
    "games_no_nan= games_2012.dropna()\n",
    "percent = games_no_nan.isnull().sum()*100/len(games_no_nan)\n",
    "print(round(percent,2))"
   ]
  },
  {
   "cell_type": "code",
   "execution_count": 45,
   "metadata": {},
   "outputs": [
    {
     "name": "stdout",
     "output_type": "stream",
     "text": [
      "The correlation coefficient between sales and critic score is: 0.40589480145836687\n",
      "The correlation coefficient between sales and user score is: -0.03362497596528878\n"
     ]
    },
    {
     "data": {
      "image/png": "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\n",
      "text/plain": [
       "<Figure size 432x288 with 1 Axes>"
      ]
     },
     "metadata": {
      "needs_background": "light"
     },
     "output_type": "display_data"
    },
    {
     "data": {
      "image/png": "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\n",
      "text/plain": [
       "<Figure size 432x288 with 1 Axes>"
      ]
     },
     "metadata": {
      "needs_background": "light"
     },
     "output_type": "display_data"
    }
   ],
   "source": [
    "#Take a look at how user and professional reviews affect sales for one popular platform (you choose)\n",
    "#Build a scatter plot and calculate the correlation between reviews and sales \n",
    "#Draw conclusions\n",
    "\n",
    "ps4_corre = games_2012[games_2012['platform'] == \"PS4\"].dropna() # taking only one popular platform\n",
    "\n",
    "#critic score\n",
    "critic_sales = ps4_corre['critic_score'].corr(ps4_corre['sum_sales'])\n",
    "print('The correlation coefficient between sales and critic score is:',  critic_sales)\n",
    "ps4_corre.plot.scatter(x='critic_score', y='sum_sales', title= \"Scatter plot between sales and critic scores\");\n",
    "\n",
    "\n",
    "#user_score\n",
    "user_sales = ps4_corre['user_score'].corr(ps4_corre['sum_sales'])\n",
    "print('The correlation coefficient between sales and user score is:',  user_sales)\n",
    "ps4_corre.plot.scatter(x='user_score', y='sum_sales', title= \"Scatter plot between sales and user scores\");"
   ]
  },
  {
   "cell_type": "markdown",
   "metadata": {},
   "source": [
    "There is a moderate positive correlation between sale and critic scores, and no linear correlation between sale and user score. It seems that professional reviews affect sales to a larger extent, compared to reviews from users. "
   ]
  },
  {
   "cell_type": "code",
   "execution_count": 46,
   "metadata": {},
   "outputs": [
    {
     "name": "stdout",
     "output_type": "stream",
     "text": [
      "The correlation coefficient between sales and critic score is: 0.3310566175801407\n",
      "The correlation coefficient between sales and user score is: 0.0032274054930356844\n"
     ]
    },
    {
     "data": {
      "image/png": "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\n",
      "text/plain": [
       "<Figure size 432x288 with 1 Axes>"
      ]
     },
     "metadata": {
      "needs_background": "light"
     },
     "output_type": "display_data"
    },
    {
     "data": {
      "image/png": "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\n",
      "text/plain": [
       "<Figure size 432x288 with 1 Axes>"
      ]
     },
     "metadata": {
      "needs_background": "light"
     },
     "output_type": "display_data"
    }
   ],
   "source": [
    "#Keeping your conclusions in mind, compare the sales of the same games on other platforms.\n",
    "\n",
    "games_min_2_platforms = games_2012.groupby(['name']).filter(lambda x: x['platform'].count() >= 2)  #games appear more than in one platform\n",
    "games_min_2_platforms = games_min_2_platforms.groupby(['name']).filter(lambda x: (x['platform'] == \"PS4\").sum() == 1) #games appear on platform PS4\n",
    "games_min_2_platforms.groupby([\"name\", \"platform\"]).count().reset_index()\n",
    "\n",
    "ps3_corre = games_2012[games_2012['platform'] == \"PS3\"].dropna() # taking another platform\n",
    "\n",
    "#critic score\n",
    "critic_sales = ps3_corre['critic_score'].corr(ps3_corre['sum_sales'])\n",
    "print('The correlation coefficient between sales and critic score is:',  critic_sales)\n",
    "ps3_corre.plot.scatter(x='critic_score', y='sum_sales', title= \"Scatter plot between sales and critic scores\");\n",
    "\n",
    "\n",
    "#user_score\n",
    "user_sales = ps3_corre['user_score'].corr(ps3_corre['sum_sales'])\n",
    "print('The correlation coefficient between sales and user score is:',  user_sales)\n",
    "ps3_corre.plot.scatter(x='user_score', y='sum_sales', title= \"Scatter plot between sales and user scores\");"
   ]
  },
  {
   "cell_type": "code",
   "execution_count": 47,
   "metadata": {},
   "outputs": [
    {
     "name": "stdout",
     "output_type": "stream",
     "text": [
      "The correlation coefficient between sales and critic score is: 0.36057348885073354\n",
      "The correlation coefficient between sales and user score is: -0.0020140394826897922\n"
     ]
    },
    {
     "data": {
      "image/png": "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\n",
      "text/plain": [
       "<Figure size 432x288 with 1 Axes>"
      ]
     },
     "metadata": {
      "needs_background": "light"
     },
     "output_type": "display_data"
    },
    {
     "data": {
      "image/png": "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\n",
      "text/plain": [
       "<Figure size 432x288 with 1 Axes>"
      ]
     },
     "metadata": {
      "needs_background": "light"
     },
     "output_type": "display_data"
    }
   ],
   "source": [
    "# taking another platform\n",
    "x360_corre = games_2012[games_2012['platform'] == \"X360\"].dropna() \n",
    "\n",
    "#critic score\n",
    "critic_sales = x360_corre['critic_score'].corr(x360_corre['sum_sales'])\n",
    "print('The correlation coefficient between sales and critic score is:',  critic_sales)\n",
    "x360_corre.plot.scatter(x='critic_score', y='sum_sales', title= \"Scatter plot between sales and critic scores\");\n",
    "\n",
    "\n",
    "#user_score\n",
    "user_sales = x360_corre['user_score'].corr(x360_corre['sum_sales'])\n",
    "print('The correlation coefficient between sales and user score is:',  user_sales)\n",
    "x360_corre.plot.scatter(x='user_score', y='sum_sales', title= \"Scatter plot between sales and user scores\");"
   ]
  },
  {
   "cell_type": "markdown",
   "metadata": {},
   "source": [
    "We found that games that appear on PS4, also appear on PS3 and X360. We calculated correlation between `user_score` and `sale` on this platforms and found almost no correlation. This is similar to the results we got for patform PS4. For all the three paltforms, we found postive moderate relationship between `critic_score and `sale`."
   ]
  },
  {
   "cell_type": "code",
   "execution_count": 48,
   "metadata": {},
   "outputs": [
    {
     "data": {
      "application/vnd.plotly.v1+json": {
       "config": {
        "plotlyServerURL": "https://plot.ly"
       },
       "data": [
        {
         "alignmentgroup": "True",
         "hoverlabel": {
          "namelength": 0
         },
         "hovertemplate": "genre=%{x}<br>sum_sales=%{y}",
         "legendgroup": "",
         "marker": {
          "color": "#636efa"
         },
         "name": "",
         "notched": false,
         "offsetgroup": "",
         "orientation": "v",
         "showlegend": false,
         "type": "box",
         "x": [
          "Action",
          "Shooter",
          "Role-Playing",
          "Sports",
          "Misc",
          "Platform",
          "Racing",
          "Fighting",
          "Simulation",
          "Adventure",
          "Strategy",
          "Puzzle"
         ],
         "x0": " ",
         "xaxis": "x",
         "y": [
          441.1199999999965,
          304.7300000000001,
          192.80000000000024,
          181.06999999999988,
          85.04000000000008,
          61,
          53.49999999999997,
          44.490000000000016,
          35.120000000000005,
          29.430000000000092,
          13.339999999999996,
          4.889999999999995
         ],
         "y0": " ",
         "yaxis": "y"
        }
       ],
       "layout": {
        "boxmode": "group",
        "height": 600,
        "legend": {
         "tracegroupgap": 0
        },
        "template": {
         "data": {
          "bar": [
           {
            "error_x": {
             "color": "#2a3f5f"
            },
            "error_y": {
             "color": "#2a3f5f"
            },
            "marker": {
             "line": {
              "color": "#E5ECF6",
              "width": 0.5
             }
            },
            "type": "bar"
           }
          ],
          "barpolar": [
           {
            "marker": {
             "line": {
              "color": "#E5ECF6",
              "width": 0.5
             }
            },
            "type": "barpolar"
           }
          ],
          "carpet": [
           {
            "aaxis": {
             "endlinecolor": "#2a3f5f",
             "gridcolor": "white",
             "linecolor": "white",
             "minorgridcolor": "white",
             "startlinecolor": "#2a3f5f"
            },
            "baxis": {
             "endlinecolor": "#2a3f5f",
             "gridcolor": "white",
             "linecolor": "white",
             "minorgridcolor": "white",
             "startlinecolor": "#2a3f5f"
            },
            "type": "carpet"
           }
          ],
          "choropleth": [
           {
            "colorbar": {
             "outlinewidth": 0,
             "ticks": ""
            },
            "type": "choropleth"
           }
          ],
          "contour": [
           {
            "colorbar": {
             "outlinewidth": 0,
             "ticks": ""
            },
            "colorscale": [
             [
              0,
              "#0d0887"
             ],
             [
              0.1111111111111111,
              "#46039f"
             ],
             [
              0.2222222222222222,
              "#7201a8"
             ],
             [
              0.3333333333333333,
              "#9c179e"
             ],
             [
              0.4444444444444444,
              "#bd3786"
             ],
             [
              0.5555555555555556,
              "#d8576b"
             ],
             [
              0.6666666666666666,
              "#ed7953"
             ],
             [
              0.7777777777777778,
              "#fb9f3a"
             ],
             [
              0.8888888888888888,
              "#fdca26"
             ],
             [
              1,
              "#f0f921"
             ]
            ],
            "type": "contour"
           }
          ],
          "contourcarpet": [
           {
            "colorbar": {
             "outlinewidth": 0,
             "ticks": ""
            },
            "type": "contourcarpet"
           }
          ],
          "heatmap": [
           {
            "colorbar": {
             "outlinewidth": 0,
             "ticks": ""
            },
            "colorscale": [
             [
              0,
              "#0d0887"
             ],
             [
              0.1111111111111111,
              "#46039f"
             ],
             [
              0.2222222222222222,
              "#7201a8"
             ],
             [
              0.3333333333333333,
              "#9c179e"
             ],
             [
              0.4444444444444444,
              "#bd3786"
             ],
             [
              0.5555555555555556,
              "#d8576b"
             ],
             [
              0.6666666666666666,
              "#ed7953"
             ],
             [
              0.7777777777777778,
              "#fb9f3a"
             ],
             [
              0.8888888888888888,
              "#fdca26"
             ],
             [
              1,
              "#f0f921"
             ]
            ],
            "type": "heatmap"
           }
          ],
          "heatmapgl": [
           {
            "colorbar": {
             "outlinewidth": 0,
             "ticks": ""
            },
            "colorscale": [
             [
              0,
              "#0d0887"
             ],
             [
              0.1111111111111111,
              "#46039f"
             ],
             [
              0.2222222222222222,
              "#7201a8"
             ],
             [
              0.3333333333333333,
              "#9c179e"
             ],
             [
              0.4444444444444444,
              "#bd3786"
             ],
             [
              0.5555555555555556,
              "#d8576b"
             ],
             [
              0.6666666666666666,
              "#ed7953"
             ],
             [
              0.7777777777777778,
              "#fb9f3a"
             ],
             [
              0.8888888888888888,
              "#fdca26"
             ],
             [
              1,
              "#f0f921"
             ]
            ],
            "type": "heatmapgl"
           }
          ],
          "histogram": [
           {
            "marker": {
             "colorbar": {
              "outlinewidth": 0,
              "ticks": ""
             }
            },
            "type": "histogram"
           }
          ],
          "histogram2d": [
           {
            "colorbar": {
             "outlinewidth": 0,
             "ticks": ""
            },
            "colorscale": [
             [
              0,
              "#0d0887"
             ],
             [
              0.1111111111111111,
              "#46039f"
             ],
             [
              0.2222222222222222,
              "#7201a8"
             ],
             [
              0.3333333333333333,
              "#9c179e"
             ],
             [
              0.4444444444444444,
              "#bd3786"
             ],
             [
              0.5555555555555556,
              "#d8576b"
             ],
             [
              0.6666666666666666,
              "#ed7953"
             ],
             [
              0.7777777777777778,
              "#fb9f3a"
             ],
             [
              0.8888888888888888,
              "#fdca26"
             ],
             [
              1,
              "#f0f921"
             ]
            ],
            "type": "histogram2d"
           }
          ],
          "histogram2dcontour": [
           {
            "colorbar": {
             "outlinewidth": 0,
             "ticks": ""
            },
            "colorscale": [
             [
              0,
              "#0d0887"
             ],
             [
              0.1111111111111111,
              "#46039f"
             ],
             [
              0.2222222222222222,
              "#7201a8"
             ],
             [
              0.3333333333333333,
              "#9c179e"
             ],
             [
              0.4444444444444444,
              "#bd3786"
             ],
             [
              0.5555555555555556,
              "#d8576b"
             ],
             [
              0.6666666666666666,
              "#ed7953"
             ],
             [
              0.7777777777777778,
              "#fb9f3a"
             ],
             [
              0.8888888888888888,
              "#fdca26"
             ],
             [
              1,
              "#f0f921"
             ]
            ],
            "type": "histogram2dcontour"
           }
          ],
          "mesh3d": [
           {
            "colorbar": {
             "outlinewidth": 0,
             "ticks": ""
            },
            "type": "mesh3d"
           }
          ],
          "parcoords": [
           {
            "line": {
             "colorbar": {
              "outlinewidth": 0,
              "ticks": ""
             }
            },
            "type": "parcoords"
           }
          ],
          "scatter": [
           {
            "marker": {
             "colorbar": {
              "outlinewidth": 0,
              "ticks": ""
             }
            },
            "type": "scatter"
           }
          ],
          "scatter3d": [
           {
            "line": {
             "colorbar": {
              "outlinewidth": 0,
              "ticks": ""
             }
            },
            "marker": {
             "colorbar": {
              "outlinewidth": 0,
              "ticks": ""
             }
            },
            "type": "scatter3d"
           }
          ],
          "scattercarpet": [
           {
            "marker": {
             "colorbar": {
              "outlinewidth": 0,
              "ticks": ""
             }
            },
            "type": "scattercarpet"
           }
          ],
          "scattergeo": [
           {
            "marker": {
             "colorbar": {
              "outlinewidth": 0,
              "ticks": ""
             }
            },
            "type": "scattergeo"
           }
          ],
          "scattergl": [
           {
            "marker": {
             "colorbar": {
              "outlinewidth": 0,
              "ticks": ""
             }
            },
            "type": "scattergl"
           }
          ],
          "scattermapbox": [
           {
            "marker": {
             "colorbar": {
              "outlinewidth": 0,
              "ticks": ""
             }
            },
            "type": "scattermapbox"
           }
          ],
          "scatterpolar": [
           {
            "marker": {
             "colorbar": {
              "outlinewidth": 0,
              "ticks": ""
             }
            },
            "type": "scatterpolar"
           }
          ],
          "scatterpolargl": [
           {
            "marker": {
             "colorbar": {
              "outlinewidth": 0,
              "ticks": ""
             }
            },
            "type": "scatterpolargl"
           }
          ],
          "scatterternary": [
           {
            "marker": {
             "colorbar": {
              "outlinewidth": 0,
              "ticks": ""
             }
            },
            "type": "scatterternary"
           }
          ],
          "surface": [
           {
            "colorbar": {
             "outlinewidth": 0,
             "ticks": ""
            },
            "colorscale": [
             [
              0,
              "#0d0887"
             ],
             [
              0.1111111111111111,
              "#46039f"
             ],
             [
              0.2222222222222222,
              "#7201a8"
             ],
             [
              0.3333333333333333,
              "#9c179e"
             ],
             [
              0.4444444444444444,
              "#bd3786"
             ],
             [
              0.5555555555555556,
              "#d8576b"
             ],
             [
              0.6666666666666666,
              "#ed7953"
             ],
             [
              0.7777777777777778,
              "#fb9f3a"
             ],
             [
              0.8888888888888888,
              "#fdca26"
             ],
             [
              1,
              "#f0f921"
             ]
            ],
            "type": "surface"
           }
          ],
          "table": [
           {
            "cells": {
             "fill": {
              "color": "#EBF0F8"
             },
             "line": {
              "color": "white"
             }
            },
            "header": {
             "fill": {
              "color": "#C8D4E3"
             },
             "line": {
              "color": "white"
             }
            },
            "type": "table"
           }
          ]
         },
         "layout": {
          "annotationdefaults": {
           "arrowcolor": "#2a3f5f",
           "arrowhead": 0,
           "arrowwidth": 1
          },
          "colorscale": {
           "diverging": [
            [
             0,
             "#8e0152"
            ],
            [
             0.1,
             "#c51b7d"
            ],
            [
             0.2,
             "#de77ae"
            ],
            [
             0.3,
             "#f1b6da"
            ],
            [
             0.4,
             "#fde0ef"
            ],
            [
             0.5,
             "#f7f7f7"
            ],
            [
             0.6,
             "#e6f5d0"
            ],
            [
             0.7,
             "#b8e186"
            ],
            [
             0.8,
             "#7fbc41"
            ],
            [
             0.9,
             "#4d9221"
            ],
            [
             1,
             "#276419"
            ]
           ],
           "sequential": [
            [
             0,
             "#0d0887"
            ],
            [
             0.1111111111111111,
             "#46039f"
            ],
            [
             0.2222222222222222,
             "#7201a8"
            ],
            [
             0.3333333333333333,
             "#9c179e"
            ],
            [
             0.4444444444444444,
             "#bd3786"
            ],
            [
             0.5555555555555556,
             "#d8576b"
            ],
            [
             0.6666666666666666,
             "#ed7953"
            ],
            [
             0.7777777777777778,
             "#fb9f3a"
            ],
            [
             0.8888888888888888,
             "#fdca26"
            ],
            [
             1,
             "#f0f921"
            ]
           ],
           "sequentialminus": [
            [
             0,
             "#0d0887"
            ],
            [
             0.1111111111111111,
             "#46039f"
            ],
            [
             0.2222222222222222,
             "#7201a8"
            ],
            [
             0.3333333333333333,
             "#9c179e"
            ],
            [
             0.4444444444444444,
             "#bd3786"
            ],
            [
             0.5555555555555556,
             "#d8576b"
            ],
            [
             0.6666666666666666,
             "#ed7953"
            ],
            [
             0.7777777777777778,
             "#fb9f3a"
            ],
            [
             0.8888888888888888,
             "#fdca26"
            ],
            [
             1,
             "#f0f921"
            ]
           ]
          },
          "colorway": [
           "#636efa",
           "#EF553B",
           "#00cc96",
           "#ab63fa",
           "#FFA15A",
           "#19d3f3",
           "#FF6692",
           "#B6E880",
           "#FF97FF",
           "#FECB52"
          ],
          "font": {
           "color": "#2a3f5f"
          },
          "geo": {
           "bgcolor": "white",
           "lakecolor": "white",
           "landcolor": "#E5ECF6",
           "showlakes": true,
           "showland": true,
           "subunitcolor": "white"
          },
          "hoverlabel": {
           "align": "left"
          },
          "hovermode": "closest",
          "mapbox": {
           "style": "light"
          },
          "paper_bgcolor": "white",
          "plot_bgcolor": "#E5ECF6",
          "polar": {
           "angularaxis": {
            "gridcolor": "white",
            "linecolor": "white",
            "ticks": ""
           },
           "bgcolor": "#E5ECF6",
           "radialaxis": {
            "gridcolor": "white",
            "linecolor": "white",
            "ticks": ""
           }
          },
          "scene": {
           "xaxis": {
            "backgroundcolor": "#E5ECF6",
            "gridcolor": "white",
            "gridwidth": 2,
            "linecolor": "white",
            "showbackground": true,
            "ticks": "",
            "zerolinecolor": "white"
           },
           "yaxis": {
            "backgroundcolor": "#E5ECF6",
            "gridcolor": "white",
            "gridwidth": 2,
            "linecolor": "white",
            "showbackground": true,
            "ticks": "",
            "zerolinecolor": "white"
           },
           "zaxis": {
            "backgroundcolor": "#E5ECF6",
            "gridcolor": "white",
            "gridwidth": 2,
            "linecolor": "white",
            "showbackground": true,
            "ticks": "",
            "zerolinecolor": "white"
           }
          },
          "shapedefaults": {
           "line": {
            "color": "#2a3f5f"
           }
          },
          "ternary": {
           "aaxis": {
            "gridcolor": "white",
            "linecolor": "white",
            "ticks": ""
           },
           "baxis": {
            "gridcolor": "white",
            "linecolor": "white",
            "ticks": ""
           },
           "bgcolor": "#E5ECF6",
           "caxis": {
            "gridcolor": "white",
            "linecolor": "white",
            "ticks": ""
           }
          },
          "title": {
           "x": 0.05
          },
          "xaxis": {
           "automargin": true,
           "gridcolor": "white",
           "linecolor": "white",
           "ticks": "",
           "zerolinecolor": "white",
           "zerolinewidth": 2
          },
          "yaxis": {
           "automargin": true,
           "gridcolor": "white",
           "linecolor": "white",
           "ticks": "",
           "zerolinecolor": "white",
           "zerolinewidth": 2
          }
         }
        },
        "title": {
         "text": "Global sales, broken down by genre"
        },
        "xaxis": {
         "anchor": "y",
         "domain": [
          0,
          0.98
         ],
         "title": {
          "text": "genre"
         }
        },
        "yaxis": {
         "anchor": "x",
         "domain": [
          0,
          1
         ],
         "title": {
          "text": "sum_sales"
         }
        }
       }
      },
      "text/html": [
       "<div>\n",
       "        \n",
       "        \n",
       "            <div id=\"1b8d9068-0f73-4e72-b594-e4a65b6adc02\" class=\"plotly-graph-div\" style=\"height:600px; width:100%;\"></div>\n",
       "            <script type=\"text/javascript\">\n",
       "                require([\"plotly\"], function(Plotly) {\n",
       "                    window.PLOTLYENV=window.PLOTLYENV || {};\n",
       "                    \n",
       "                if (document.getElementById(\"1b8d9068-0f73-4e72-b594-e4a65b6adc02\")) {\n",
       "                    Plotly.newPlot(\n",
       "                        '1b8d9068-0f73-4e72-b594-e4a65b6adc02',\n",
       "                        [{\"alignmentgroup\": \"True\", \"hoverlabel\": {\"namelength\": 0}, \"hovertemplate\": \"genre=%{x}<br>sum_sales=%{y}\", \"legendgroup\": \"\", \"marker\": {\"color\": \"#636efa\"}, \"name\": \"\", \"notched\": false, \"offsetgroup\": \"\", \"orientation\": \"v\", \"showlegend\": false, \"type\": \"box\", \"x\": [\"Action\", \"Shooter\", \"Role-Playing\", \"Sports\", \"Misc\", \"Platform\", \"Racing\", \"Fighting\", \"Simulation\", \"Adventure\", \"Strategy\", \"Puzzle\"], \"x0\": \" \", \"xaxis\": \"x\", \"y\": [441.1199999999965, 304.7300000000001, 192.80000000000024, 181.06999999999988, 85.04000000000008, 61.0, 53.49999999999997, 44.490000000000016, 35.120000000000005, 29.430000000000092, 13.339999999999996, 4.889999999999995], \"y0\": \" \", \"yaxis\": \"y\"}],\n",
       "                        {\"boxmode\": \"group\", \"height\": 600, \"legend\": {\"tracegroupgap\": 0}, \"template\": {\"data\": {\"bar\": [{\"error_x\": {\"color\": \"#2a3f5f\"}, \"error_y\": {\"color\": \"#2a3f5f\"}, \"marker\": {\"line\": {\"color\": \"#E5ECF6\", \"width\": 0.5}}, \"type\": \"bar\"}], \"barpolar\": [{\"marker\": {\"line\": {\"color\": \"#E5ECF6\", \"width\": 0.5}}, \"type\": \"barpolar\"}], \"carpet\": [{\"aaxis\": {\"endlinecolor\": \"#2a3f5f\", \"gridcolor\": \"white\", \"linecolor\": \"white\", \"minorgridcolor\": \"white\", \"startlinecolor\": \"#2a3f5f\"}, \"baxis\": {\"endlinecolor\": \"#2a3f5f\", \"gridcolor\": \"white\", \"linecolor\": \"white\", \"minorgridcolor\": \"white\", \"startlinecolor\": \"#2a3f5f\"}, \"type\": \"carpet\"}], \"choropleth\": [{\"colorbar\": {\"outlinewidth\": 0, \"ticks\": \"\"}, \"type\": \"choropleth\"}], \"contour\": [{\"colorbar\": {\"outlinewidth\": 0, \"ticks\": \"\"}, \"colorscale\": [[0.0, \"#0d0887\"], [0.1111111111111111, \"#46039f\"], [0.2222222222222222, \"#7201a8\"], [0.3333333333333333, \"#9c179e\"], [0.4444444444444444, \"#bd3786\"], [0.5555555555555556, \"#d8576b\"], [0.6666666666666666, \"#ed7953\"], [0.7777777777777778, \"#fb9f3a\"], [0.8888888888888888, \"#fdca26\"], [1.0, \"#f0f921\"]], \"type\": \"contour\"}], \"contourcarpet\": [{\"colorbar\": {\"outlinewidth\": 0, \"ticks\": \"\"}, \"type\": \"contourcarpet\"}], \"heatmap\": [{\"colorbar\": {\"outlinewidth\": 0, \"ticks\": \"\"}, \"colorscale\": [[0.0, \"#0d0887\"], [0.1111111111111111, \"#46039f\"], [0.2222222222222222, \"#7201a8\"], [0.3333333333333333, \"#9c179e\"], [0.4444444444444444, \"#bd3786\"], [0.5555555555555556, \"#d8576b\"], [0.6666666666666666, \"#ed7953\"], [0.7777777777777778, \"#fb9f3a\"], [0.8888888888888888, \"#fdca26\"], [1.0, \"#f0f921\"]], \"type\": \"heatmap\"}], \"heatmapgl\": [{\"colorbar\": {\"outlinewidth\": 0, \"ticks\": \"\"}, \"colorscale\": [[0.0, \"#0d0887\"], [0.1111111111111111, \"#46039f\"], [0.2222222222222222, \"#7201a8\"], [0.3333333333333333, \"#9c179e\"], [0.4444444444444444, \"#bd3786\"], [0.5555555555555556, \"#d8576b\"], [0.6666666666666666, \"#ed7953\"], [0.7777777777777778, \"#fb9f3a\"], [0.8888888888888888, \"#fdca26\"], [1.0, \"#f0f921\"]], \"type\": \"heatmapgl\"}], \"histogram\": [{\"marker\": {\"colorbar\": {\"outlinewidth\": 0, \"ticks\": \"\"}}, \"type\": \"histogram\"}], \"histogram2d\": [{\"colorbar\": {\"outlinewidth\": 0, \"ticks\": \"\"}, \"colorscale\": [[0.0, \"#0d0887\"], [0.1111111111111111, \"#46039f\"], [0.2222222222222222, \"#7201a8\"], [0.3333333333333333, \"#9c179e\"], [0.4444444444444444, \"#bd3786\"], [0.5555555555555556, \"#d8576b\"], [0.6666666666666666, \"#ed7953\"], [0.7777777777777778, \"#fb9f3a\"], [0.8888888888888888, \"#fdca26\"], [1.0, \"#f0f921\"]], \"type\": \"histogram2d\"}], \"histogram2dcontour\": [{\"colorbar\": {\"outlinewidth\": 0, \"ticks\": \"\"}, \"colorscale\": [[0.0, \"#0d0887\"], [0.1111111111111111, \"#46039f\"], [0.2222222222222222, \"#7201a8\"], [0.3333333333333333, \"#9c179e\"], [0.4444444444444444, \"#bd3786\"], [0.5555555555555556, \"#d8576b\"], [0.6666666666666666, \"#ed7953\"], [0.7777777777777778, \"#fb9f3a\"], [0.8888888888888888, \"#fdca26\"], [1.0, \"#f0f921\"]], \"type\": \"histogram2dcontour\"}], \"mesh3d\": [{\"colorbar\": {\"outlinewidth\": 0, \"ticks\": \"\"}, \"type\": \"mesh3d\"}], \"parcoords\": [{\"line\": {\"colorbar\": {\"outlinewidth\": 0, \"ticks\": \"\"}}, \"type\": \"parcoords\"}], \"scatter\": [{\"marker\": {\"colorbar\": {\"outlinewidth\": 0, \"ticks\": \"\"}}, \"type\": \"scatter\"}], \"scatter3d\": [{\"line\": {\"colorbar\": {\"outlinewidth\": 0, \"ticks\": \"\"}}, \"marker\": {\"colorbar\": {\"outlinewidth\": 0, \"ticks\": \"\"}}, \"type\": \"scatter3d\"}], \"scattercarpet\": [{\"marker\": {\"colorbar\": {\"outlinewidth\": 0, \"ticks\": \"\"}}, \"type\": \"scattercarpet\"}], \"scattergeo\": [{\"marker\": {\"colorbar\": {\"outlinewidth\": 0, \"ticks\": \"\"}}, \"type\": \"scattergeo\"}], \"scattergl\": [{\"marker\": {\"colorbar\": {\"outlinewidth\": 0, \"ticks\": \"\"}}, \"type\": \"scattergl\"}], \"scattermapbox\": [{\"marker\": {\"colorbar\": {\"outlinewidth\": 0, \"ticks\": \"\"}}, \"type\": \"scattermapbox\"}], \"scatterpolar\": [{\"marker\": {\"colorbar\": {\"outlinewidth\": 0, \"ticks\": \"\"}}, \"type\": \"scatterpolar\"}], \"scatterpolargl\": [{\"marker\": {\"colorbar\": {\"outlinewidth\": 0, \"ticks\": \"\"}}, \"type\": \"scatterpolargl\"}], \"scatterternary\": [{\"marker\": {\"colorbar\": {\"outlinewidth\": 0, \"ticks\": \"\"}}, \"type\": \"scatterternary\"}], \"surface\": [{\"colorbar\": {\"outlinewidth\": 0, \"ticks\": \"\"}, \"colorscale\": [[0.0, \"#0d0887\"], [0.1111111111111111, \"#46039f\"], [0.2222222222222222, \"#7201a8\"], [0.3333333333333333, \"#9c179e\"], [0.4444444444444444, \"#bd3786\"], [0.5555555555555556, \"#d8576b\"], [0.6666666666666666, \"#ed7953\"], [0.7777777777777778, \"#fb9f3a\"], [0.8888888888888888, \"#fdca26\"], [1.0, \"#f0f921\"]], \"type\": \"surface\"}], \"table\": [{\"cells\": {\"fill\": {\"color\": \"#EBF0F8\"}, \"line\": {\"color\": \"white\"}}, \"header\": {\"fill\": {\"color\": \"#C8D4E3\"}, \"line\": {\"color\": \"white\"}}, \"type\": \"table\"}]}, \"layout\": {\"annotationdefaults\": {\"arrowcolor\": \"#2a3f5f\", \"arrowhead\": 0, \"arrowwidth\": 1}, \"colorscale\": {\"diverging\": [[0, \"#8e0152\"], [0.1, \"#c51b7d\"], [0.2, \"#de77ae\"], [0.3, \"#f1b6da\"], [0.4, \"#fde0ef\"], [0.5, \"#f7f7f7\"], [0.6, \"#e6f5d0\"], [0.7, \"#b8e186\"], [0.8, \"#7fbc41\"], [0.9, \"#4d9221\"], [1, \"#276419\"]], \"sequential\": [[0.0, \"#0d0887\"], [0.1111111111111111, \"#46039f\"], [0.2222222222222222, \"#7201a8\"], [0.3333333333333333, \"#9c179e\"], [0.4444444444444444, \"#bd3786\"], [0.5555555555555556, \"#d8576b\"], [0.6666666666666666, \"#ed7953\"], [0.7777777777777778, \"#fb9f3a\"], [0.8888888888888888, \"#fdca26\"], [1.0, \"#f0f921\"]], \"sequentialminus\": [[0.0, \"#0d0887\"], [0.1111111111111111, \"#46039f\"], [0.2222222222222222, \"#7201a8\"], [0.3333333333333333, \"#9c179e\"], [0.4444444444444444, \"#bd3786\"], [0.5555555555555556, \"#d8576b\"], [0.6666666666666666, \"#ed7953\"], [0.7777777777777778, \"#fb9f3a\"], [0.8888888888888888, \"#fdca26\"], [1.0, \"#f0f921\"]]}, \"colorway\": [\"#636efa\", \"#EF553B\", \"#00cc96\", \"#ab63fa\", \"#FFA15A\", \"#19d3f3\", \"#FF6692\", \"#B6E880\", \"#FF97FF\", \"#FECB52\"], \"font\": {\"color\": \"#2a3f5f\"}, \"geo\": {\"bgcolor\": \"white\", \"lakecolor\": \"white\", \"landcolor\": \"#E5ECF6\", \"showlakes\": true, \"showland\": true, \"subunitcolor\": \"white\"}, \"hoverlabel\": {\"align\": \"left\"}, \"hovermode\": \"closest\", \"mapbox\": {\"style\": \"light\"}, \"paper_bgcolor\": \"white\", \"plot_bgcolor\": \"#E5ECF6\", \"polar\": {\"angularaxis\": {\"gridcolor\": \"white\", \"linecolor\": \"white\", \"ticks\": \"\"}, \"bgcolor\": \"#E5ECF6\", \"radialaxis\": {\"gridcolor\": \"white\", \"linecolor\": \"white\", \"ticks\": \"\"}}, \"scene\": {\"xaxis\": {\"backgroundcolor\": \"#E5ECF6\", \"gridcolor\": \"white\", \"gridwidth\": 2, \"linecolor\": \"white\", \"showbackground\": true, \"ticks\": \"\", \"zerolinecolor\": \"white\"}, \"yaxis\": {\"backgroundcolor\": \"#E5ECF6\", \"gridcolor\": \"white\", \"gridwidth\": 2, \"linecolor\": \"white\", \"showbackground\": true, \"ticks\": \"\", \"zerolinecolor\": \"white\"}, \"zaxis\": {\"backgroundcolor\": \"#E5ECF6\", \"gridcolor\": \"white\", \"gridwidth\": 2, \"linecolor\": \"white\", \"showbackground\": true, \"ticks\": \"\", \"zerolinecolor\": \"white\"}}, \"shapedefaults\": {\"line\": {\"color\": \"#2a3f5f\"}}, \"ternary\": {\"aaxis\": {\"gridcolor\": \"white\", \"linecolor\": \"white\", \"ticks\": \"\"}, \"baxis\": {\"gridcolor\": \"white\", \"linecolor\": \"white\", \"ticks\": \"\"}, \"bgcolor\": \"#E5ECF6\", \"caxis\": {\"gridcolor\": \"white\", \"linecolor\": \"white\", \"ticks\": \"\"}}, \"title\": {\"x\": 0.05}, \"xaxis\": {\"automargin\": true, \"gridcolor\": \"white\", \"linecolor\": \"white\", \"ticks\": \"\", \"zerolinecolor\": \"white\", \"zerolinewidth\": 2}, \"yaxis\": {\"automargin\": true, \"gridcolor\": \"white\", \"linecolor\": \"white\", \"ticks\": \"\", \"zerolinecolor\": \"white\", \"zerolinewidth\": 2}}}, \"title\": {\"text\": \"Global sales, broken down by genre\"}, \"xaxis\": {\"anchor\": \"y\", \"domain\": [0.0, 0.98], \"title\": {\"text\": \"genre\"}}, \"yaxis\": {\"anchor\": \"x\", \"domain\": [0.0, 1.0], \"title\": {\"text\": \"sum_sales\"}}},\n",
       "                        {\"responsive\": true}\n",
       "                    ).then(function(){\n",
       "                            \n",
       "var gd = document.getElementById('1b8d9068-0f73-4e72-b594-e4a65b6adc02');\n",
       "var x = new MutationObserver(function (mutations, observer) {{\n",
       "        var display = window.getComputedStyle(gd).display;\n",
       "        if (!display || display === 'none') {{\n",
       "            console.log([gd, 'removed!']);\n",
       "            Plotly.purge(gd);\n",
       "            observer.disconnect();\n",
       "        }}\n",
       "}});\n",
       "\n",
       "// Listen for the removal of the full notebook cells\n",
       "var notebookContainer = gd.closest('#notebook-container');\n",
       "if (notebookContainer) {{\n",
       "    x.observe(notebookContainer, {childList: true});\n",
       "}}\n",
       "\n",
       "// Listen for the clearing of the current output cell\n",
       "var outputEl = gd.closest('.output');\n",
       "if (outputEl) {{\n",
       "    x.observe(outputEl, {childList: true});\n",
       "}}\n",
       "\n",
       "                        })\n",
       "                };\n",
       "                });\n",
       "            </script>\n",
       "        </div>"
      ]
     },
     "metadata": {},
     "output_type": "display_data"
    }
   ],
   "source": [
    "#Take a look at the general distribution of games by genre. \n",
    "#What can we say about the most profitable genres? \n",
    "#Can you generalize about genres with high and low sales?\n",
    "\n",
    "sales_genre_grouped = games_2012.groupby('genre')['sum_sales'].sum().reset_index()\n",
    "sales_genre_grouped.sort_values('sum_sales', ascending=False, inplace=True)\n",
    "\n",
    "fig = px.box(sales_genre_grouped, x=\"genre\", y=\"sum_sales\", title='Global sales, broken down by genre');\n",
    "fig.show();"
   ]
  },
  {
   "cell_type": "markdown",
   "metadata": {},
   "source": [
    "#### Conclusion\n",
    "\n",
    "In the above analysis we checked the number of games released every year and found out that the number of games released were relatively small compared to later years. The most fruitful years have been between 2007 and 2011 inclusive.  We also found out that the `platform` with the biggest sale is `PS2`, whose sales were the highest between 2001 and 2006. We also saw that `platforms` such as `WiiU`, `X360`, `PS`, `PS2`, `PS3`, `PS4`, and `DS` used to have higher sales, which has decreased over time. We also saw  that platforms such as `PS2`, `PS3`, `Wii`, `DS`, `WX360`, are leading in sales, but also clearly shrinking. \n",
    "\n",
    "Looking at the different version of `PlayStation`, then it takes about 10 years for an old platform to fade, and about 6-7 years from the existence of an older version, for a new to appear. Based on the whole data and the fact that sales has picked up since 1994, but then slowed down after 2011, we decided to exclude the years before 2012. \n",
    "\n",
    "\n",
    "From the barchart, we can see that the `platform` that is growing is `PS4`. Based on this, potential profitable platforms would be`P4` given the fact it has not reached the max length of popularity compared to its predecessors. Also maybe `XONE` as it is the start, it may pick up later; similarly behaves `3DS`. \n",
    "\n",
    "Our analysis further found that that are relatively large differences in sales across platforms. Looking at the median, we can see that, the highest sales are notices for PS3 and PS4. The wider ranges of sales are for PS3 and X360, which also have the higest overall ranges.\n",
    "\n",
    "It seems that professional reviews affect sales to a larger extent, compared to reviews from users. There is a moderate positive correlation between sale and critic scores, and no linear correlation between `sale` and `user score`. These results hold for the three paltforms that we investigated. \n",
    "\n",
    "The top two most profitable genres are `Action`, and `Shooter`. These are games that emphasize physical and tactical challenges, precision and accuracy, spatial awareness, reflexes, and speed. On the other hand, the lowest sales were recorded for puzzle and startegy. These genres, in contrast to the top three genres, focus on skilfull logicalm startgeical and tactical thinking and planning."
   ]
  },
  {
   "cell_type": "markdown",
   "metadata": {},
   "source": [
    "###  <a id='profile'>  Create a user profile for each region</a> ### "
   ]
  },
  {
   "cell_type": "code",
   "execution_count": 49,
   "metadata": {},
   "outputs": [
    {
     "data": {
      "image/png": "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\n",
      "text/plain": [
       "<Figure size 720x360 with 1 Axes>"
      ]
     },
     "metadata": {
      "needs_background": "light"
     },
     "output_type": "display_data"
    },
    {
     "data": {
      "text/html": [
       "<div>\n",
       "<style scoped>\n",
       "    .dataframe tbody tr th:only-of-type {\n",
       "        vertical-align: middle;\n",
       "    }\n",
       "\n",
       "    .dataframe tbody tr th {\n",
       "        vertical-align: top;\n",
       "    }\n",
       "\n",
       "    .dataframe thead th {\n",
       "        text-align: right;\n",
       "    }\n",
       "</style>\n",
       "<table border=\"1\" class=\"dataframe\">\n",
       "  <thead>\n",
       "    <tr style=\"text-align: right;\">\n",
       "      <th></th>\n",
       "      <th>na_sales</th>\n",
       "      <th>eu_sales</th>\n",
       "      <th>jp_sales</th>\n",
       "    </tr>\n",
       "    <tr>\n",
       "      <th>platform</th>\n",
       "      <th></th>\n",
       "      <th></th>\n",
       "      <th></th>\n",
       "    </tr>\n",
       "  </thead>\n",
       "  <tbody>\n",
       "    <tr>\n",
       "      <td>X360</td>\n",
       "      <td>140.05</td>\n",
       "      <td>74.52</td>\n",
       "      <td>1.57</td>\n",
       "    </tr>\n",
       "    <tr>\n",
       "      <td>PS4</td>\n",
       "      <td>108.74</td>\n",
       "      <td>141.09</td>\n",
       "      <td>15.96</td>\n",
       "    </tr>\n",
       "    <tr>\n",
       "      <td>PS3</td>\n",
       "      <td>103.38</td>\n",
       "      <td>106.86</td>\n",
       "      <td>35.29</td>\n",
       "    </tr>\n",
       "    <tr>\n",
       "      <td>XOne</td>\n",
       "      <td>93.12</td>\n",
       "      <td>51.59</td>\n",
       "      <td>0.34</td>\n",
       "    </tr>\n",
       "    <tr>\n",
       "      <td>3DS</td>\n",
       "      <td>55.31</td>\n",
       "      <td>42.64</td>\n",
       "      <td>87.79</td>\n",
       "    </tr>\n",
       "  </tbody>\n",
       "</table>\n",
       "</div>"
      ],
      "text/plain": [
       "          na_sales  eu_sales  jp_sales\n",
       "platform                              \n",
       "X360        140.05     74.52      1.57\n",
       "PS4         108.74    141.09     15.96\n",
       "PS3         103.38    106.86     35.29\n",
       "XOne         93.12     51.59      0.34\n",
       "3DS          55.31     42.64     87.79"
      ]
     },
     "execution_count": 49,
     "metadata": {},
     "output_type": "execute_result"
    }
   ],
   "source": [
    "#For each region (NA, EU, JP), determine:\n",
    "#The top five platforms. Describe variations in their market shares from region to region.\n",
    "\n",
    "platform_region = games_2012.groupby('platform')[['na_sales', 'eu_sales', 'jp_sales']].sum()\n",
    "\n",
    "#North America\n",
    "top_na = platform_region.sort_values('na_sales', ascending=False).head(5)\n",
    "top_na.plot.bar(stacked=True, figsize=(10, 5))\n",
    "plt.show()\n",
    "\n",
    "platform_region.nlargest(5, ['na_sales'])"
   ]
  },
  {
   "cell_type": "code",
   "execution_count": 50,
   "metadata": {},
   "outputs": [
    {
     "data": {
      "image/png": "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\n",
      "text/plain": [
       "<Figure size 720x360 with 1 Axes>"
      ]
     },
     "metadata": {
      "needs_background": "light"
     },
     "output_type": "display_data"
    },
    {
     "data": {
      "text/html": [
       "<div>\n",
       "<style scoped>\n",
       "    .dataframe tbody tr th:only-of-type {\n",
       "        vertical-align: middle;\n",
       "    }\n",
       "\n",
       "    .dataframe tbody tr th {\n",
       "        vertical-align: top;\n",
       "    }\n",
       "\n",
       "    .dataframe thead th {\n",
       "        text-align: right;\n",
       "    }\n",
       "</style>\n",
       "<table border=\"1\" class=\"dataframe\">\n",
       "  <thead>\n",
       "    <tr style=\"text-align: right;\">\n",
       "      <th></th>\n",
       "      <th>na_sales</th>\n",
       "      <th>eu_sales</th>\n",
       "      <th>jp_sales</th>\n",
       "    </tr>\n",
       "    <tr>\n",
       "      <th>platform</th>\n",
       "      <th></th>\n",
       "      <th></th>\n",
       "      <th></th>\n",
       "    </tr>\n",
       "  </thead>\n",
       "  <tbody>\n",
       "    <tr>\n",
       "      <td>PS4</td>\n",
       "      <td>108.74</td>\n",
       "      <td>141.09</td>\n",
       "      <td>15.96</td>\n",
       "    </tr>\n",
       "    <tr>\n",
       "      <td>PS3</td>\n",
       "      <td>103.38</td>\n",
       "      <td>106.86</td>\n",
       "      <td>35.29</td>\n",
       "    </tr>\n",
       "    <tr>\n",
       "      <td>X360</td>\n",
       "      <td>140.05</td>\n",
       "      <td>74.52</td>\n",
       "      <td>1.57</td>\n",
       "    </tr>\n",
       "    <tr>\n",
       "      <td>XOne</td>\n",
       "      <td>93.12</td>\n",
       "      <td>51.59</td>\n",
       "      <td>0.34</td>\n",
       "    </tr>\n",
       "    <tr>\n",
       "      <td>3DS</td>\n",
       "      <td>55.31</td>\n",
       "      <td>42.64</td>\n",
       "      <td>87.79</td>\n",
       "    </tr>\n",
       "  </tbody>\n",
       "</table>\n",
       "</div>"
      ],
      "text/plain": [
       "          na_sales  eu_sales  jp_sales\n",
       "platform                              \n",
       "PS4         108.74    141.09     15.96\n",
       "PS3         103.38    106.86     35.29\n",
       "X360        140.05     74.52      1.57\n",
       "XOne         93.12     51.59      0.34\n",
       "3DS          55.31     42.64     87.79"
      ]
     },
     "execution_count": 50,
     "metadata": {},
     "output_type": "execute_result"
    }
   ],
   "source": [
    "#Europe\n",
    "\n",
    "top_eu = platform_region.sort_values('eu_sales', ascending=False).head(5)\n",
    "top_eu.plot.bar(stacked=True, figsize=(10, 5))\n",
    "plt.show()\n",
    "\n",
    "platform_region.nlargest(5, ['eu_sales'])"
   ]
  },
  {
   "cell_type": "code",
   "execution_count": 51,
   "metadata": {},
   "outputs": [
    {
     "data": {
      "image/png": "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\n",
      "text/plain": [
       "<Figure size 720x360 with 1 Axes>"
      ]
     },
     "metadata": {
      "needs_background": "light"
     },
     "output_type": "display_data"
    },
    {
     "data": {
      "text/html": [
       "<div>\n",
       "<style scoped>\n",
       "    .dataframe tbody tr th:only-of-type {\n",
       "        vertical-align: middle;\n",
       "    }\n",
       "\n",
       "    .dataframe tbody tr th {\n",
       "        vertical-align: top;\n",
       "    }\n",
       "\n",
       "    .dataframe thead th {\n",
       "        text-align: right;\n",
       "    }\n",
       "</style>\n",
       "<table border=\"1\" class=\"dataframe\">\n",
       "  <thead>\n",
       "    <tr style=\"text-align: right;\">\n",
       "      <th></th>\n",
       "      <th>na_sales</th>\n",
       "      <th>eu_sales</th>\n",
       "      <th>jp_sales</th>\n",
       "    </tr>\n",
       "    <tr>\n",
       "      <th>platform</th>\n",
       "      <th></th>\n",
       "      <th></th>\n",
       "      <th></th>\n",
       "    </tr>\n",
       "  </thead>\n",
       "  <tbody>\n",
       "    <tr>\n",
       "      <td>3DS</td>\n",
       "      <td>55.31</td>\n",
       "      <td>42.64</td>\n",
       "      <td>87.79</td>\n",
       "    </tr>\n",
       "    <tr>\n",
       "      <td>PS3</td>\n",
       "      <td>103.38</td>\n",
       "      <td>106.86</td>\n",
       "      <td>35.29</td>\n",
       "    </tr>\n",
       "    <tr>\n",
       "      <td>PSV</td>\n",
       "      <td>10.98</td>\n",
       "      <td>11.36</td>\n",
       "      <td>21.04</td>\n",
       "    </tr>\n",
       "    <tr>\n",
       "      <td>PS4</td>\n",
       "      <td>108.74</td>\n",
       "      <td>141.09</td>\n",
       "      <td>15.96</td>\n",
       "    </tr>\n",
       "    <tr>\n",
       "      <td>WiiU</td>\n",
       "      <td>38.10</td>\n",
       "      <td>25.13</td>\n",
       "      <td>13.01</td>\n",
       "    </tr>\n",
       "  </tbody>\n",
       "</table>\n",
       "</div>"
      ],
      "text/plain": [
       "          na_sales  eu_sales  jp_sales\n",
       "platform                              \n",
       "3DS          55.31     42.64     87.79\n",
       "PS3         103.38    106.86     35.29\n",
       "PSV          10.98     11.36     21.04\n",
       "PS4         108.74    141.09     15.96\n",
       "WiiU         38.10     25.13     13.01"
      ]
     },
     "execution_count": 51,
     "metadata": {},
     "output_type": "execute_result"
    }
   ],
   "source": [
    "#Japan\n",
    "\n",
    "top_jp = platform_region.sort_values('jp_sales', ascending=False).head(5)\n",
    "top_jp.plot.bar(stacked=True, figsize=(10, 5))\n",
    "plt.show()\n",
    "\n",
    "\n",
    "platform_region.nlargest(5, ['jp_sales'])"
   ]
  },
  {
   "cell_type": "markdown",
   "metadata": {},
   "source": [
    "According to the tables and stacked barc charts above, platform, `X360` has the higest sale in North America, it appears as third in the EU region, while it does not appear in the top five in Japan. `PS4`is the top sales performer in Europe, and appareas as second in North America, and fourth in Japan. The top in Japan is `3DS` which apeears as fifth in North America and Europe."
   ]
  },
  {
   "cell_type": "code",
   "execution_count": 52,
   "metadata": {},
   "outputs": [
    {
     "data": {
      "image/png": "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\n",
      "text/plain": [
       "<Figure size 720x360 with 1 Axes>"
      ]
     },
     "metadata": {
      "needs_background": "light"
     },
     "output_type": "display_data"
    },
    {
     "data": {
      "text/html": [
       "<div>\n",
       "<style scoped>\n",
       "    .dataframe tbody tr th:only-of-type {\n",
       "        vertical-align: middle;\n",
       "    }\n",
       "\n",
       "    .dataframe tbody tr th {\n",
       "        vertical-align: top;\n",
       "    }\n",
       "\n",
       "    .dataframe thead th {\n",
       "        text-align: right;\n",
       "    }\n",
       "</style>\n",
       "<table border=\"1\" class=\"dataframe\">\n",
       "  <thead>\n",
       "    <tr style=\"text-align: right;\">\n",
       "      <th></th>\n",
       "      <th>na_sales</th>\n",
       "      <th>eu_sales</th>\n",
       "      <th>jp_sales</th>\n",
       "    </tr>\n",
       "    <tr>\n",
       "      <th>genre</th>\n",
       "      <th></th>\n",
       "      <th></th>\n",
       "      <th></th>\n",
       "    </tr>\n",
       "  </thead>\n",
       "  <tbody>\n",
       "    <tr>\n",
       "      <td>Action</td>\n",
       "      <td>177.84</td>\n",
       "      <td>159.34</td>\n",
       "      <td>52.80</td>\n",
       "    </tr>\n",
       "    <tr>\n",
       "      <td>Shooter</td>\n",
       "      <td>144.77</td>\n",
       "      <td>113.47</td>\n",
       "      <td>9.23</td>\n",
       "    </tr>\n",
       "    <tr>\n",
       "      <td>Sports</td>\n",
       "      <td>81.53</td>\n",
       "      <td>69.09</td>\n",
       "      <td>8.01</td>\n",
       "    </tr>\n",
       "    <tr>\n",
       "      <td>Role-Playing</td>\n",
       "      <td>64.00</td>\n",
       "      <td>48.53</td>\n",
       "      <td>65.44</td>\n",
       "    </tr>\n",
       "    <tr>\n",
       "      <td>Misc</td>\n",
       "      <td>38.19</td>\n",
       "      <td>26.32</td>\n",
       "      <td>12.86</td>\n",
       "    </tr>\n",
       "  </tbody>\n",
       "</table>\n",
       "</div>"
      ],
      "text/plain": [
       "              na_sales  eu_sales  jp_sales\n",
       "genre                                     \n",
       "Action          177.84    159.34     52.80\n",
       "Shooter         144.77    113.47      9.23\n",
       "Sports           81.53     69.09      8.01\n",
       "Role-Playing     64.00     48.53     65.44\n",
       "Misc             38.19     26.32     12.86"
      ]
     },
     "execution_count": 52,
     "metadata": {},
     "output_type": "execute_result"
    }
   ],
   "source": [
    "#For each region (NA, EU, JP) determine the top five genres. Explain the difference.\n",
    "\n",
    "genre_region = games_2012.groupby('genre')[['na_sales', 'eu_sales', 'jp_sales']].sum()\n",
    "\n",
    "#North America\n",
    "top_genre_na = genre_region.sort_values('na_sales', ascending=False).head(5)\n",
    "top_genre_na.plot.bar(stacked=True, figsize=(10, 5))\n",
    "plt.show()\n",
    "\n",
    "genre_region.nlargest(5, ['na_sales'])"
   ]
  },
  {
   "cell_type": "code",
   "execution_count": 53,
   "metadata": {},
   "outputs": [
    {
     "data": {
      "image/png": "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\n",
      "text/plain": [
       "<Figure size 720x360 with 1 Axes>"
      ]
     },
     "metadata": {
      "needs_background": "light"
     },
     "output_type": "display_data"
    },
    {
     "data": {
      "text/html": [
       "<div>\n",
       "<style scoped>\n",
       "    .dataframe tbody tr th:only-of-type {\n",
       "        vertical-align: middle;\n",
       "    }\n",
       "\n",
       "    .dataframe tbody tr th {\n",
       "        vertical-align: top;\n",
       "    }\n",
       "\n",
       "    .dataframe thead th {\n",
       "        text-align: right;\n",
       "    }\n",
       "</style>\n",
       "<table border=\"1\" class=\"dataframe\">\n",
       "  <thead>\n",
       "    <tr style=\"text-align: right;\">\n",
       "      <th></th>\n",
       "      <th>na_sales</th>\n",
       "      <th>eu_sales</th>\n",
       "      <th>jp_sales</th>\n",
       "    </tr>\n",
       "    <tr>\n",
       "      <th>genre</th>\n",
       "      <th></th>\n",
       "      <th></th>\n",
       "      <th></th>\n",
       "    </tr>\n",
       "  </thead>\n",
       "  <tbody>\n",
       "    <tr>\n",
       "      <td>Action</td>\n",
       "      <td>177.84</td>\n",
       "      <td>159.34</td>\n",
       "      <td>52.80</td>\n",
       "    </tr>\n",
       "    <tr>\n",
       "      <td>Shooter</td>\n",
       "      <td>144.77</td>\n",
       "      <td>113.47</td>\n",
       "      <td>9.23</td>\n",
       "    </tr>\n",
       "    <tr>\n",
       "      <td>Sports</td>\n",
       "      <td>81.53</td>\n",
       "      <td>69.09</td>\n",
       "      <td>8.01</td>\n",
       "    </tr>\n",
       "    <tr>\n",
       "      <td>Role-Playing</td>\n",
       "      <td>64.00</td>\n",
       "      <td>48.53</td>\n",
       "      <td>65.44</td>\n",
       "    </tr>\n",
       "    <tr>\n",
       "      <td>Racing</td>\n",
       "      <td>17.22</td>\n",
       "      <td>27.29</td>\n",
       "      <td>2.50</td>\n",
       "    </tr>\n",
       "  </tbody>\n",
       "</table>\n",
       "</div>"
      ],
      "text/plain": [
       "              na_sales  eu_sales  jp_sales\n",
       "genre                                     \n",
       "Action          177.84    159.34     52.80\n",
       "Shooter         144.77    113.47      9.23\n",
       "Sports           81.53     69.09      8.01\n",
       "Role-Playing     64.00     48.53     65.44\n",
       "Racing           17.22     27.29      2.50"
      ]
     },
     "execution_count": 53,
     "metadata": {},
     "output_type": "execute_result"
    }
   ],
   "source": [
    "#Europe\n",
    "top_genre_eu = genre_region.sort_values('eu_sales', ascending=False).head(5)\n",
    "top_genre_eu.plot.bar(stacked=True, figsize=(10, 5))\n",
    "plt.show()\n",
    "\n",
    "genre_region.nlargest(5, ['eu_sales'])"
   ]
  },
  {
   "cell_type": "code",
   "execution_count": 54,
   "metadata": {},
   "outputs": [
    {
     "data": {
      "image/png": "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\n",
      "text/plain": [
       "<Figure size 720x360 with 1 Axes>"
      ]
     },
     "metadata": {
      "needs_background": "light"
     },
     "output_type": "display_data"
    },
    {
     "data": {
      "text/html": [
       "<div>\n",
       "<style scoped>\n",
       "    .dataframe tbody tr th:only-of-type {\n",
       "        vertical-align: middle;\n",
       "    }\n",
       "\n",
       "    .dataframe tbody tr th {\n",
       "        vertical-align: top;\n",
       "    }\n",
       "\n",
       "    .dataframe thead th {\n",
       "        text-align: right;\n",
       "    }\n",
       "</style>\n",
       "<table border=\"1\" class=\"dataframe\">\n",
       "  <thead>\n",
       "    <tr style=\"text-align: right;\">\n",
       "      <th></th>\n",
       "      <th>na_sales</th>\n",
       "      <th>eu_sales</th>\n",
       "      <th>jp_sales</th>\n",
       "    </tr>\n",
       "    <tr>\n",
       "      <th>genre</th>\n",
       "      <th></th>\n",
       "      <th></th>\n",
       "      <th></th>\n",
       "    </tr>\n",
       "  </thead>\n",
       "  <tbody>\n",
       "    <tr>\n",
       "      <td>Role-Playing</td>\n",
       "      <td>64.00</td>\n",
       "      <td>48.53</td>\n",
       "      <td>65.44</td>\n",
       "    </tr>\n",
       "    <tr>\n",
       "      <td>Action</td>\n",
       "      <td>177.84</td>\n",
       "      <td>159.34</td>\n",
       "      <td>52.80</td>\n",
       "    </tr>\n",
       "    <tr>\n",
       "      <td>Misc</td>\n",
       "      <td>38.19</td>\n",
       "      <td>26.32</td>\n",
       "      <td>12.86</td>\n",
       "    </tr>\n",
       "    <tr>\n",
       "      <td>Simulation</td>\n",
       "      <td>7.97</td>\n",
       "      <td>14.55</td>\n",
       "      <td>10.41</td>\n",
       "    </tr>\n",
       "    <tr>\n",
       "      <td>Fighting</td>\n",
       "      <td>19.79</td>\n",
       "      <td>10.79</td>\n",
       "      <td>9.44</td>\n",
       "    </tr>\n",
       "  </tbody>\n",
       "</table>\n",
       "</div>"
      ],
      "text/plain": [
       "              na_sales  eu_sales  jp_sales\n",
       "genre                                     \n",
       "Role-Playing     64.00     48.53     65.44\n",
       "Action          177.84    159.34     52.80\n",
       "Misc             38.19     26.32     12.86\n",
       "Simulation        7.97     14.55     10.41\n",
       "Fighting         19.79     10.79      9.44"
      ]
     },
     "execution_count": 54,
     "metadata": {},
     "output_type": "execute_result"
    }
   ],
   "source": [
    "#Japan\n",
    "top_genre_jp = genre_region.sort_values('jp_sales', ascending=False).head(5)\n",
    "top_genre_jp.plot.bar(stacked=True, figsize=(10, 5))\n",
    "plt.show()\n",
    "\n",
    "\n",
    "genre_region.nlargest(5, ['jp_sales'])"
   ]
  },
  {
   "cell_type": "markdown",
   "metadata": {},
   "source": [
    "From the three tables below, we can see that in terms of genre, the top five in Europe and North America are pretty similar. The only diffeence is that `racing` apears as 5th in Europe, while the 5th in North America is `misc`. In Japan however, the top genre is `role-playing` which appears as 4th in the two other regions. The top two genre (`Action`) in North America and Europe, also appear in Japan as 2nd. "
   ]
  },
  {
   "cell_type": "code",
   "execution_count": 55,
   "metadata": {},
   "outputs": [
    {
     "data": {
      "image/png": "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\n",
      "text/plain": [
       "<Figure size 720x360 with 1 Axes>"
      ]
     },
     "metadata": {
      "needs_background": "light"
     },
     "output_type": "display_data"
    },
    {
     "data": {
      "text/html": [
       "<div>\n",
       "<style scoped>\n",
       "    .dataframe tbody tr th:only-of-type {\n",
       "        vertical-align: middle;\n",
       "    }\n",
       "\n",
       "    .dataframe tbody tr th {\n",
       "        vertical-align: top;\n",
       "    }\n",
       "\n",
       "    .dataframe thead th {\n",
       "        text-align: right;\n",
       "    }\n",
       "</style>\n",
       "<table border=\"1\" class=\"dataframe\">\n",
       "  <thead>\n",
       "    <tr style=\"text-align: right;\">\n",
       "      <th></th>\n",
       "      <th>eu_sales</th>\n",
       "      <th>jp_sales</th>\n",
       "      <th>na_sales</th>\n",
       "      <th>other_sales</th>\n",
       "    </tr>\n",
       "    <tr>\n",
       "      <th>rating</th>\n",
       "      <th></th>\n",
       "      <th></th>\n",
       "      <th></th>\n",
       "      <th></th>\n",
       "    </tr>\n",
       "  </thead>\n",
       "  <tbody>\n",
       "    <tr>\n",
       "      <td>E</td>\n",
       "      <td>113.03</td>\n",
       "      <td>28.33</td>\n",
       "      <td>114.37</td>\n",
       "      <td>31.44</td>\n",
       "    </tr>\n",
       "    <tr>\n",
       "      <td>E10+</td>\n",
       "      <td>55.37</td>\n",
       "      <td>8.19</td>\n",
       "      <td>75.70</td>\n",
       "      <td>16.23</td>\n",
       "    </tr>\n",
       "    <tr>\n",
       "      <td>M</td>\n",
       "      <td>193.96</td>\n",
       "      <td>21.20</td>\n",
       "      <td>231.57</td>\n",
       "      <td>63.38</td>\n",
       "    </tr>\n",
       "    <tr>\n",
       "      <td>T</td>\n",
       "      <td>52.96</td>\n",
       "      <td>26.02</td>\n",
       "      <td>66.02</td>\n",
       "      <td>17.94</td>\n",
       "    </tr>\n",
       "    <tr>\n",
       "      <td>undefined</td>\n",
       "      <td>91.50</td>\n",
       "      <td>108.84</td>\n",
       "      <td>103.31</td>\n",
       "      <td>27.17</td>\n",
       "    </tr>\n",
       "  </tbody>\n",
       "</table>\n",
       "</div>"
      ],
      "text/plain": [
       "           eu_sales  jp_sales  na_sales  other_sales\n",
       "rating                                              \n",
       "E            113.03     28.33    114.37        31.44\n",
       "E10+          55.37      8.19     75.70        16.23\n",
       "M            193.96     21.20    231.57        63.38\n",
       "T             52.96     26.02     66.02        17.94\n",
       "undefined     91.50    108.84    103.31        27.17"
      ]
     },
     "execution_count": 55,
     "metadata": {},
     "output_type": "execute_result"
    }
   ],
   "source": [
    "#Do ESRB ratings affect sales in individual regions?\n",
    "\n",
    "esrb_sales = games_2012.pivot_table(index='rating', \n",
    "                       values=['eu_sales', 'jp_sales', 'na_sales', 'other_sales'], \n",
    "                       aggfunc='sum')\n",
    "\n",
    "esrb_sales.plot.bar(stacked=True, figsize=(10, 5))\n",
    "plt.show()\n",
    "\n",
    "esrb_sales "
   ]
  },
  {
   "cell_type": "markdown",
   "metadata": {},
   "source": [
    "The results suggest that `E` and `M` ESRB ratings affect the most sales in Europe and North America. In `Japan` those gamees for which we have no ESRB raatings at all, record the highest sales. "
   ]
  },
  {
   "cell_type": "markdown",
   "metadata": {},
   "source": [
    "#### Conclusions\n",
    "\n",
    "According to the tables and stacked bar charts above, platform `X360` has the higest sale in North America, it appears as third in the EU region, while it does not appear in the top five in Japan. `PS4` is the top sales performer in Europe, and appareas as second in North America, and fourth in Japan. The top in Japan is `3DS` which apeears as fifth in North America and Europe.\n",
    "\n",
    "In terms of genre, the top five in Europe and North America are pretty similar. The only diffeence is that racing apears as 5th in Europe, while the 5th in North America is misc. In Japan however, the top genre is role-playing which appears as 4th in the two other regions. The top two genre (Action) in North America and Europe, also appear in Japan as 2nd.\n",
    "\n",
    "When it comes to ESRB ratings,  the results suggest that `E` and `M` ESRB ratings affect the most sales in Europe and North America. In Japan those gamees for which we have no ESRB ratings at all, record the highest sales."
   ]
  },
  {
   "cell_type": "markdown",
   "metadata": {},
   "source": [
    "###  <a id='test'>  Test the following hypotheses </a> ### "
   ]
  },
  {
   "cell_type": "markdown",
   "metadata": {},
   "source": [
    "1st part:  As H₀ is always stated with an equal sign, in our analysis with the null hypothesis we need to check that there’s no difference between average user ratings of the Xbox One and PC platforms. \n",
    "\n",
    "2nd part:  As H₀ is always stated with an equal sign, in the second part of the analysis with the null hypothesis we need to check that there’s no difference between average user ratings for the Action and Sports genres. \n",
    "\n",
    "typical alpha = 0.05\n",
    "\n",
    "If p_value< alpha, then reject null hypothesis. \n",
    "\n",
    "If p_value > alpha, fail to reject null hypothesis."
   ]
  },
  {
   "cell_type": "code",
   "execution_count": 56,
   "metadata": {},
   "outputs": [],
   "source": [
    "# H0: Average user ratings of the Xbox One and PC platforms are the same."
   ]
  },
  {
   "cell_type": "code",
   "execution_count": 57,
   "metadata": {},
   "outputs": [
    {
     "name": "stdout",
     "output_type": "stream",
     "text": [
      "Statistics=0.955, p=0.000\n",
      "Sample does not look Gaussian (reject H0)\n"
     ]
    }
   ],
   "source": [
    "# Shapiro-Wilk Test for Xbox One\n",
    "\n",
    "stat, p = shapiro(games_2012.loc[games_2012['platform']=='XOne', \"user_score\"].dropna())\n",
    "print('Statistics=%.3f, p=%.3f' % (stat, p))\n",
    "\n",
    "# interpret\n",
    "alpha = 0.05\n",
    "if p > alpha:\n",
    "    print('Sample looks Gaussian (fail to reject H0)')\n",
    "else:\n",
    "    print('Sample does not look Gaussian (reject H0)')"
   ]
  },
  {
   "cell_type": "code",
   "execution_count": 58,
   "metadata": {},
   "outputs": [
    {
     "name": "stdout",
     "output_type": "stream",
     "text": [
      "Statistics=0.938, p=0.000\n",
      "Sample does not look Gaussian (reject H0)\n"
     ]
    }
   ],
   "source": [
    "# Shapiro-Wilk Test for PC platform\n",
    "\n",
    "stat, p = shapiro(games_2012.loc[games_2012['platform']=='PC', \"user_score\"].dropna())\n",
    "print('Statistics=%.3f, p=%.3f' % (stat, p))\n",
    "# interpret\n",
    "alpha = 0.05\n",
    "if p > alpha:\n",
    "    print('Sample looks Gaussian (fail to reject H0)')\n",
    "else:\n",
    "    print('Sample does not look Gaussian (reject H0)')"
   ]
  },
  {
   "cell_type": "markdown",
   "metadata": {},
   "source": [
    "We used Shapiro-Wilk test to evaluate the data samples on `user_score` in two platforms and quantified how likely it is that the data was drawn from a Gaussian distribution. In both cases (platforms), the data tested are not normally distributed. This means that in the next step, we should use Levene's test to test if these two samples have equal variances. "
   ]
  },
  {
   "cell_type": "code",
   "execution_count": 59,
   "metadata": {},
   "outputs": [
    {
     "name": "stdout",
     "output_type": "stream",
     "text": [
      "The p-value is: 1.141219598821408e-07\n",
      "The variance in the two platforms samples is significantly different (we reject H0)\n"
     ]
    }
   ],
   "source": [
    "#Levene's test centered at the median for the two plans\n",
    "\n",
    "st.levene((games_2012.loc[games_2012['platform']=='XOne', \"user_score\"].dropna()),(games_2012.loc[games_2012['platform']=='PC', \"user_score\"].dropna()) ,  center='median')\n",
    "\n",
    "alpha = 0.05\n",
    "print('The p-value is:' , p)\n",
    "if p > alpha:\n",
    "    print('The variance in the two platforms samples is not significantly different (we fail to reject H0)')\n",
    "else:\n",
    "    print('The variance in the two platforms samples is significantly different (we reject H0)')"
   ]
  },
  {
   "cell_type": "markdown",
   "metadata": {},
   "source": [
    "The Shapiro-Wilk test showed that the data samples on regions are likely to not follow normal distribution. Based on this information, we perfomred Levene's test which showed that the variance of both samples is statistically significant, which shows that in testing the hypothesis, we need to specify that the variance is not equal. "
   ]
  },
  {
   "cell_type": "markdown",
   "metadata": {},
   "source": [
    "HO: There's no difference between average user ratings of the Xbox One and PC platforms. \n",
    "\n",
    "H1: There's is difference between average user ratings of the Xbox One and PC platforms. "
   ]
  },
  {
   "cell_type": "code",
   "execution_count": 60,
   "metadata": {
    "scrolled": true
   },
   "outputs": [
    {
     "name": "stdout",
     "output_type": "stream",
     "text": [
      "p-value:  0.5489537965134912\n",
      "We can't reject the null hypothesis  of identical average user rating of the two platforms.\n"
     ]
    }
   ],
   "source": [
    "results_platforms = st.ttest_ind((games_2012.loc[games_2012['platform']=='XOne', \"user_score\"].dropna()), \n",
    "                                 (games_2012.loc[games_2012['platform']=='PC', \"user_score\"].dropna()), \n",
    "                                  axis=0, equal_var=False)\n",
    "\n",
    "alpha = .05\n",
    "\n",
    "print('p-value: ', results_platforms.pvalue)\n",
    "if (results_platforms.pvalue < alpha): \n",
    "    print(\"We reject the null hypothesis  of identical average user rating of the two platforms.\")\n",
    "else:\n",
    "    print(\"We can't reject the null hypothesis  of identical average user rating of the two platforms.\")"
   ]
  },
  {
   "cell_type": "markdown",
   "metadata": {},
   "source": [
    "The resuls from our t-test above showed that there is no statistical significant difference between user scores between the platforms of interest: `XOne` and `PC`. "
   ]
  },
  {
   "cell_type": "code",
   "execution_count": 61,
   "metadata": {},
   "outputs": [
    {
     "name": "stdout",
     "output_type": "stream",
     "text": [
      "The average user score for XOne platform is: 6.538181818181818\n",
      "The average user score for PC platform is: 6.4543147208121825\n"
     ]
    }
   ],
   "source": [
    "#calculating the average user score for each platform\n",
    "\n",
    "x_one = games_2012.loc[games_2012['platform']=='XOne'].dropna()\n",
    "mean_x_one = x_one['user_score'].mean()\n",
    "\n",
    "pc = games_2012.loc[games_2012['platform']=='PC'].dropna()\n",
    "mean_pc = pc[\"user_score\"].mean()\n",
    "\n",
    "print('The average user score for XOne platform is:', mean_x_one)\n",
    "print('The average user score for PC platform is:', mean_pc)"
   ]
  },
  {
   "cell_type": "code",
   "execution_count": 62,
   "metadata": {},
   "outputs": [],
   "source": [
    "# H0: Average user ratings for the Action and Sports genres are the same. "
   ]
  },
  {
   "cell_type": "code",
   "execution_count": 63,
   "metadata": {},
   "outputs": [
    {
     "name": "stdout",
     "output_type": "stream",
     "text": [
      "Statistics=0.912, p=0.000\n",
      "Sample does not look Gaussian (reject H0)\n"
     ]
    }
   ],
   "source": [
    "# Shapiro-Wilk Test for Action genre\n",
    "from scipy.stats import shapiro\n",
    "\n",
    "stat, p = shapiro(games_2012.loc[games_2012['genre']=='Action', \"user_score\"].dropna())\n",
    "print('Statistics=%.3f, p=%.3f' % (stat, p))\n",
    "\n",
    "alpha = 0.05\n",
    "\n",
    "if p > alpha:\n",
    "    print('Sample looks Gaussian (fail to reject H0)')\n",
    "else:\n",
    "    print('Sample does not look Gaussian (reject H0)')"
   ]
  },
  {
   "cell_type": "code",
   "execution_count": 64,
   "metadata": {},
   "outputs": [
    {
     "name": "stdout",
     "output_type": "stream",
     "text": [
      "Statistics=0.969, p=0.000\n",
      "Sample does not look Gaussian (reject H0)\n"
     ]
    }
   ],
   "source": [
    "# Shapiro-Wilk Test for Sports genre\n",
    "\n",
    "stat, p = shapiro(games_2012.loc[games_2012['genre']=='Sports', \"user_score\"].dropna())\n",
    "print('Statistics=%.3f, p=%.3f' % (stat, p))\n",
    "\n",
    "alpha = 0.05\n",
    "\n",
    "if p > alpha:\n",
    "    print('Sample looks Gaussian (fail to reject H0)')\n",
    "else:\n",
    "    print('Sample does not look Gaussian (reject H0)')"
   ]
  },
  {
   "cell_type": "markdown",
   "metadata": {},
   "source": [
    "We used Shapiro-Wilk test to evaluate the data samples on `user_score` by genre and quantified how likely it is that the data was drawn from a Gaussian distribution. In both cases (genres), the data tested are not normally distributed. This means that in the next step, we should use Levene's test to test if these two samples have equal variances. "
   ]
  },
  {
   "cell_type": "code",
   "execution_count": 66,
   "metadata": {},
   "outputs": [
    {
     "name": "stdout",
     "output_type": "stream",
     "text": [
      "The p-value is: 0.0002625079359859228\n",
      "The variance in the two genres IS significantly DIFFERENT (we reject H0)\n"
     ]
    }
   ],
   "source": [
    "#Levene's test centered at the median for the two plans\n",
    "\n",
    "st.levene((games_2012.loc[games_2012['genre']=='Sports', \"user_score\"].dropna()),(games_2012.loc[games_2012['genre']=='Actions', \"user_score\"].dropna()) ,  center='median')\n",
    "\n",
    "alpha = 0.05\n",
    "print('The p-value is:' , p)\n",
    "if p > alpha:\n",
    "    print('The variance in the two genres is NOT significantly DIFFERENT (we cannot reject H0)')\n",
    "else:\n",
    "    print('The variance in the two genres IS significantly DIFFERENT (we reject H0)')"
   ]
  },
  {
   "cell_type": "markdown",
   "metadata": {},
   "source": [
    "The Shapiro-Wilk test showed that the data samples on regions are likely to not follow normal distribution. Based on this information, we performed Levene's test which showed that the variance of both samples is statistically significant, which shows that in testing the hypothesis, we need to specify that the variance is not equal. "
   ]
  },
  {
   "cell_type": "code",
   "execution_count": 68,
   "metadata": {},
   "outputs": [
    {
     "name": "stdout",
     "output_type": "stream",
     "text": [
      "p-value:  4.24307776572644e-20\n",
      "We reject the null hypothesis of identical average user rating of the two genres.\n"
     ]
    }
   ],
   "source": [
    "results_platforms = st.ttest_ind((games_2012.loc[games_2012['genre']=='Action', \"user_score\"].dropna()), \n",
    "                                 (games_2012.loc[games_2012['genre']=='Sports', \"user_score\"].dropna()), \n",
    "                                 axis=0, equal_var=False)\n",
    "\n",
    "alpha = .05\n",
    "\n",
    "print('p-value: ', results_platforms.pvalue)\n",
    "if (results_platforms.pvalue < alpha): \n",
    "    print(\"We reject the null hypothesis of identical average user rating of the two genres.\")\n",
    "else:\n",
    "    print(\"We can't reject the null hypothesis  of identical average user rating of the two genres.\")"
   ]
  },
  {
   "cell_type": "markdown",
   "metadata": {},
   "source": [
    "The resuls from our t-test above show that there is difference between user ratings between the two genres of interest: `Action` and `Sports`. "
   ]
  },
  {
   "cell_type": "code",
   "execution_count": 69,
   "metadata": {},
   "outputs": [
    {
     "name": "stdout",
     "output_type": "stream",
     "text": [
      "The average user score for genre Sports is: 5.819858156028368\n",
      "The average revenue for genre Action is: 6.899305555555555\n"
     ]
    }
   ],
   "source": [
    "#calculating the average user score for each genre\n",
    "\n",
    "sports = games_2012.loc[games_2012['genre']=='Sports'].dropna()\n",
    "sports_mean = sports['user_score'].mean()\n",
    "\n",
    "action = games_2012.loc[games_2012['genre']=='Action'].dropna()\n",
    "action_mean = action[\"user_score\"].mean()\n",
    "\n",
    "print('The average user score for genre Sports is:', sports_mean)\n",
    "print('The average revenue for genre Action is:', action_mean)"
   ]
  },
  {
   "cell_type": "markdown",
   "metadata": {},
   "source": [
    "#### Conclusion\n",
    "\n",
    "In this particular part of the analysis we tested hypothesis. In order to understand the sample distribution, we first run Shapiro-wilk test, which found that our samples do not follow normal distribution, and thus the next stop was to test the variance of the samples, using Levene's test. We saw that the variance in the samples is not equal, which we then specified when testing the hypothesis.\n",
    "\n",
    "We could not reject the null hypothesis that there is no difference: between `user_score` on the platforms of interest: `XOne` and `PC`.\n",
    "\n",
    "We found statistically significant difference in `user_score` between the two genres of interest: `Action` and `Sports` with `Action` having on average higher `user_score`. "
   ]
  },
  {
   "cell_type": "markdown",
   "metadata": {},
   "source": [
    "### <a id='end'>  General conclusion </a> ###"
   ]
  },
  {
   "cell_type": "markdown",
   "metadata": {},
   "source": [
    "**Brief overview of the work done:** For this project, we used techniques from data pre-processing, EDA and SDA in order to identify patterns that determine whether a game succeeds or not. This allowed us to spot potential big winners and advise the company ICE on their advertising campaigns for 2017. We used histrorical data on online store Ice, which sells video games all over the world. We first pre-processed the data, such as identified the missing values, filled them, and decided what to do with the big portions of missing data in some columns. We transforemed the data types in some columns. We created a new column to store the total sale. We calculated correlations and graphically showed differences between platforms and games. We then dropped older years as they had very small amount of data (number of games released). We then checked for volume of sales by genres across different region. We finally tested hypothesis to see if the user reviews differ between two platforms, as well between two most popular genres. \n",
    "\n",
    "**Main findings:** The main findings are that different verison of PC are the most popular, which also have been generating the highest sales, hence `PS4` has the higest potential to be succesful in the coming year. We also found that there are statistical difference (at 5% significance level) between user score when it comes to genre `Action` and `Sports`. \n",
    "\n",
    "**Recommendations:** Advice to the online store Ice when planning its campaign for 2017, is that potential big winners for the next period is `PC4`.  ICE can plan their advertising campaigns and distribute its advertsiery budget to this platform, especially in Europe and North America. As there is a moderate correlation between reviews and sales, then the company should think how to engage professionals to rate positively the platforms. In terms of genre, `Action` has higher user scores, although we did not find linear dependancy of user score on sales. Maybe we could do a different analysis to see if there is a different type of correlation. "
   ]
  }
 ],
 "metadata": {
  "kernelspec": {
   "display_name": "Python 3",
   "language": "python",
   "name": "python3"
  },
  "language_info": {
   "codemirror_mode": {
    "name": "ipython",
    "version": 3
   },
   "file_extension": ".py",
   "mimetype": "text/x-python",
   "name": "python",
   "nbconvert_exporter": "python",
   "pygments_lexer": "ipython3",
   "version": "3.7.8"
  },
  "toc": {
   "base_numbering": 1,
   "nav_menu": {},
   "number_sections": true,
   "sideBar": true,
   "skip_h1_title": false,
   "title_cell": "Table of Contents",
   "title_sidebar": "Contents",
   "toc_cell": false,
   "toc_position": {},
   "toc_section_display": true,
   "toc_window_display": false
  }
 },
 "nbformat": 4,
 "nbformat_minor": 2
}
